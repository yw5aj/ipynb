{
 "metadata": {
  "name": "",
  "signature": "sha256:76071477d7457ed89897ff94667b8eb3f28acd1df50288b3e424bc79868ec84c"
 },
 "nbformat": 3,
 "nbformat_minor": 0,
 "worksheets": [
  {
   "cells": [
    {
     "cell_type": "code",
     "collapsed": false,
     "input": [
      "import cPickle"
     ],
     "language": "python",
     "metadata": {},
     "outputs": [],
     "prompt_number": 1
    }
   ],
   "metadata": {}
  }
 ]
}