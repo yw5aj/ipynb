{
 "metadata": {
  "name": "",
  "signature": "sha256:4c60cc634d5a9de072f58c2ceb9cb007c7fbb4c0998bcc4bd53216962e285103"
 },
 "nbformat": 3,
 "nbformat_minor": 0,
 "worksheets": [
  {
   "cells": [
    {
     "cell_type": "code",
     "collapsed": false,
     "input": [
      "from sympy.abc import x, y, z, a, b, c\n",
      "from sympy import solve"
     ],
     "language": "python",
     "metadata": {},
     "outputs": [],
     "prompt_number": 2
    },
    {
     "cell_type": "code",
     "collapsed": false,
     "input": [],
     "language": "python",
     "metadata": {},
     "outputs": []
    }
   ],
   "metadata": {}
  }
 ]
}