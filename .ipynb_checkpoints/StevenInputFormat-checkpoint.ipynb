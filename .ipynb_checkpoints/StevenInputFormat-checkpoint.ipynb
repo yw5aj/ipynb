{
 "cells": [
  {
   "cell_type": "code",
   "execution_count": 2,
   "metadata": {
    "collapsed": false
   },
   "outputs": [],
   "source": [
    "# I tried to come up with an easier format of input, and am currently using this.\n",
    "# The first variable in the tuple is the modulus, and the second is the radius, third the height.\n",
    "# The number '0412' denotes the date\n",
    "inputDict0412 = {\n",
    "    'cylinder': (\n",
    "    (26.7375e3, 17.5e-3, 10e-3),\n",
    "    (26.7375e3*1.1, 17.5e-3, 10e-3),\n",
    "    (26.7375e3*1.2, 17.5e-3, 10e-3),\n",
    "    (26.7375e3*1.3, 17.5e-3, 10e-3),\n",
    "    (26.7375e3*1.4, 17.5e-3, 10e-3),\n",
    "    (35.65e3, 17.5e-3, 10e-3),\n",
    "    (26.7375e3*2, 17.5e-3, 10e-3),\n",
    "    (26.7375e3*1.1*2, 17.5e-3, 10e-3),\n",
    "    (26.7375e3*1.2*2, 17.5e-3, 10e-3),\n",
    "    (26.7375e3*1.3*2, 17.5e-3, 10e-3),\n",
    "    (26.7375e3*1.4*2, 17.5e-3, 10e-3),\n",
    "    (35.65e3*2, 17.5e-3, 10e-3))}      "
   ]
  }
 ],
 "metadata": {
  "kernelspec": {
   "display_name": "Python 3",
   "language": "python",
   "name": "python3"
  },
  "language_info": {
   "codemirror_mode": {
    "name": "ipython",
    "version": 3
   },
   "file_extension": ".py",
   "mimetype": "text/x-python",
   "name": "python",
   "nbconvert_exporter": "python",
   "pygments_lexer": "ipython3",
   "version": "3.4.3"
  }
 },
 "nbformat": 4,
 "nbformat_minor": 0
}
