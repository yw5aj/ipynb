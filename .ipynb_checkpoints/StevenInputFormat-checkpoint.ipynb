{
 "cells": [
  {
   "cell_type": "code",
   "execution_count": 5,
   "metadata": {
    "collapsed": true
   },
   "outputs": [],
   "source": [
    "import numpy as np"
   ]
  },
  {
   "cell_type": "code",
   "execution_count": 2,
   "metadata": {
    "collapsed": false
   },
   "outputs": [],
   "source": [
    "# I tried to come up with an easier format of input, and am currently using this.\n",
    "# The first variable in the tuple is the modulus, and the second is the radius, third the height.\n",
    "# The number denotes the date\n",
    "inputDict0306 = {\n",
    "    'cylinder': (\n",
    "        (28.2e3, 17.5e-3, 35e-3),\n",
    "        (56.9e3, 17.5e-3, 35e-3),\n",
    "        (28.2e3, 2e-3, 35e-3),\n",
    "        (56.9e3, 2e-3, 35e-3),\n",
    "        (5e3, 17.5e-3, 35e-3),\n",
    "        (100e3, 17.5e-3, 35e-3)),\n",
    "    'sphere': (\n",
    "        (28.2e3, 5e-3),\n",
    "        (56.9e3, 5e-3),\n",
    "        (28.2e3, 10e-3),\n",
    "        (56.9e3, 10e-3))}\n",
    "inputDict0308 = {\n",
    "    'cylinder': (\n",
    "        (10e3, 17.5e-3, 35e-3),\n",
    "        (15e3, 17.5e-3, 35e-3),\n",
    "        (20e3, 17.5e-3, 35e-3),\n",
    "        (200e3, 17.5e-3, 35e-3),\n",
    "        (1e8, 17.5e-3, 35e-3),\n",
    "        (100e3, 10e-3, 35e-3),\n",
    "        (200e3, 10e-3, 35e-3),\n",
    "        (1e8, 10e-3, 35e-3)),\n",
    "    'sphere': (\n",
    "        (100e3, 2e-3),\n",
    "        (200e3, 2e-3),\n",
    "        (1e8, 2e-3),\n",
    "        (100e3, 5e-3),\n",
    "        (200e3, 5e-3),\n",
    "        (1e8, 5e-3))}\n",
    "inputDict0326 = {\n",
    "    'cylinder': (\n",
    "        (24.39e3, 17.5e-3, 10e-3),\n",
    "        (35.65e3, 17.5e-3, 10e-3),\n",
    "        (12.185e3, 17.5e-3, 10e-3),\n",
    "        (17.825e3, 17.5e-3, 10e-3),\n",
    "        (18.2925e3, 17.5e-3, 10e-3),\n",
    "        (26.7375e3, 17.5e-3, 10e-3),)} "
   ]
  }
 ],
 "metadata": {
  "kernelspec": {
   "display_name": "Python 3",
   "language": "python",
   "name": "python3"
  },
  "language_info": {
   "codemirror_mode": {
    "name": "ipython",
    "version": 3
   },
   "file_extension": ".py",
   "mimetype": "text/x-python",
   "name": "python",
   "nbconvert_exporter": "python",
   "pygments_lexer": "ipython3",
   "version": "3.4.3"
  }
 },
 "nbformat": 4,
 "nbformat_minor": 0
}
