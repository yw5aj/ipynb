{
 "metadata": {
  "name": "",
  "signature": "sha256:ce5233a99d16a2ec2a8e30fdb26a0f726d9a920f9f4ce3940501089c3acf7fa0"
 },
 "nbformat": 3,
 "nbformat_minor": 0,
 "worksheets": []
}