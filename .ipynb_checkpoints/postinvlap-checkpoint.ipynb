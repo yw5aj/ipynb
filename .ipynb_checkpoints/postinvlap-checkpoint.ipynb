{
 "metadata": {
  "name": "",
  "signature": "sha256:1debaa393cbe6b882a08f7f3a752140b63363561fe2c1d9eddb84074350a6a61"
 },
 "nbformat": 3,
 "nbformat_minor": 0,
 "worksheets": [
  {
   "cells": [
    {
     "cell_type": "code",
     "collapsed": false,
     "input": [
      "from sympy import symbols, diff, S, lambdify\n",
      "from sympy.abc import s, t\n",
      "from math import factorial"
     ],
     "language": "python",
     "metadata": {},
     "outputs": [],
     "prompt_number": 90
    },
    {
     "cell_type": "code",
     "collapsed": false,
     "input": [
      "fs = 1 / s ** 2\n",
      "qmax = 500"
     ],
     "language": "python",
     "metadata": {},
     "outputs": [],
     "prompt_number": 94
    },
    {
     "cell_type": "code",
     "collapsed": false,
     "input": [
      "from sympy.abc import t\n",
      "dfsds = fs\n",
      "ft = fs\n",
      "for q in range(1, qmax):\n",
      "    dfsds = diff(dfsds, s, 1)\n",
      "    ft =+ S(-1) ** q / factorial(q) * (q / t) ** (q + 1) * dfsds.subs(s, q / t)"
     ],
     "language": "python",
     "metadata": {},
     "outputs": [],
     "prompt_number": 92
    },
    {
     "cell_type": "code",
     "collapsed": false,
     "input": [
      "def postinvlap(fs, qmax=500, use_lambdify=False):\n",
      "    \"\"\"\n",
      "    Compute the numerical inverse Laplace transform using Post method.\n",
      "    \n",
      "    Parameters\n",
      "    ----------\n",
      "    fs : sympy expression\n",
      "        Analytical form of Laplace transform to be inversed. Must be in terms of s.\n",
      "    qmax : int\n",
      "        Maximum derivative order in the Post method.\n",
      "    \n",
      "    Returns\n",
      "    -------\n",
      "    ft : function\n",
      "        ft(t), where t may be a float or ndarray. Returns the function ft.\n",
      "    \"\"\"\n",
      "    dfsds = fs\n",
      "    ft = fs\n",
      "    for q in range(1, qmax):\n",
      "        dfsds = diff(dfsds, s, 1)\n",
      "        ft =+ S(-1) ** q / factorial(q) * (q / t) ** (q + 1) * dfsds.subs(s, q / t)\n",
      "    if use_lambdify:\n",
      "        ft = lambdify(t, ft, 'numpy')\n",
      "    return ft"
     ],
     "language": "python",
     "metadata": {},
     "outputs": [],
     "prompt_number": 99
    },
    {
     "cell_type": "code",
     "collapsed": false,
     "input": [],
     "language": "python",
     "metadata": {},
     "outputs": []
    }
   ],
   "metadata": {}
  }
 ]
}