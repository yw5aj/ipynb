{
 "metadata": {
  "name": "",
  "signature": "sha256:5fd3678b91c77244c25734b8e20871d02294f377dc743935ca81d28fc96315fa"
 },
 "nbformat": 3,
 "nbformat_minor": 0,
 "worksheets": []
}