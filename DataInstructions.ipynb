{
 "metadata": {
  "name": "",
  "signature": "sha256:a02051340cecdb5184657386067c00a86129f87d796fbcf4533f50df27cbc3b0"
 },
 "nbformat": 3,
 "nbformat_minor": 0,
 "worksheets": [
  {
   "cells": [
    {
     "cell_type": "markdown",
     "metadata": {},
     "source": [
      "This folder contains data files and code to reproduce the work done for paper **Compressive viscoelasticity of freshly excised mouse skin is dependent on specimen thickness, strain level and rate**, by Yuxiang Wang, Kara L. Marshall, Yoshichika Baba, Ellen A. Lumpkin and Gregory J. Gerling (*), accepted by PLOS ONE on January 27th, 2015."
     ]
    },
    {
     "cell_type": "markdown",
     "metadata": {},
     "source": [
      "Note: If you have any questions, feel free to contact me by yw5aj@virginia.edu"
     ]
    },
    {
     "cell_type": "markdown",
     "metadata": {},
     "source": [
      "---"
     ]
    },
    {
     "cell_type": "heading",
     "level": 1,
     "metadata": {},
     "source": [
      "Instructions on the data analysis"
     ]
    },
    {
     "cell_type": "heading",
     "level": 2,
     "metadata": {},
     "source": [
      "1. Experiment I and III"
     ]
    },
    {
     "cell_type": "markdown",
     "metadata": {},
     "source": [
      "Main procedure: \n",
      "0. Go to `./Exp1_3`\n",
      "1. Run BatchFile.m\n",
      "2. The parameters will be all in `specimenTable` variable\n",
      "\n",
      "All related files are in the folder Exp1_3. The code has been streamlined in the BatchFile.m. You may open it up and inspect what was done. Basically, it first calls CalculateTHicknessStressStretch.m to create a lot of instances for the class of Specimen.m, where each instance is an experiment. I manually created the cell before the first run; and you may just run the code because I have saved the initial data to specimenData.mat. Then, it calls CalculateFitPara.m and its counterparts for different fitting procedures, such as 1-term model, 2-term model etc. 3-term model I believe is also in the code but not published in the paper because it does not improve much of the fit quality, but feel free to play with it. At one point I commented out / removed the plotting functions to accelerate the code; you may want to plot the fitting result to see how well they look.\n",
      "\n",
      "Eventually, the processed data will be save in a table format, in the file of specimenData.m. Introspect the class file Specimen.m to see what each column means. For experiment note, explore the excel files in the same folder."
     ]
    },
    {
     "cell_type": "heading",
     "level": 2,
     "metadata": {},
     "source": [
      "2. Experiment II"
     ]
    },
    {
     "cell_type": "markdown",
     "metadata": {},
     "source": [
      "Main procedure:\n",
      "0. Go to `./Exp2`\n",
      "1. Run strainlevel.m\n",
      "2. Open `specimenData.mat` and all data is in the specimen instances, of property e.g., `qlv1tFixPara` etc.\n",
      "\n",
      "All related files are in the folder Exp2. The main code to run is the strainlevel.m. This piece of code was written later, so the fitting procedure has been matrued and added directly in the class file, which saved a lot of hassle. For experiment note, explore the excel files in the same folder."
     ]
    },
    {
     "cell_type": "heading",
     "level": 2,
     "metadata": {},
     "source": [
      "3. Finite element analysis"
     ]
    },
    {
     "cell_type": "markdown",
     "metadata": {},
     "source": [
      "Main procedure:\n",
      "0. Go to `./FEA`\n",
      "1. Open `baseModel1017.cae` if you want to run the thickness dependency analysis in Appendix II, `strain_level_1018.cae` for the strain-level dependency analysis in Appendix II.\n",
      "2. Run all the jobs (for cleanness, I would set the working dir to be `./ModelRuns` before submitting the jobs)\n",
      "3. Use the utility tools in `extractForceDisp.py` and `extractForceDisp_sl.py` to extract force and displacement traces.\n",
      "4. Now you have all the csv files. Use class in `./Exp1_3/Abq.m` (thickness) or `AbqSl.m` (strain level) to manually create instances from these csv files.\n",
      "5. Run `./Exp1_3/FEMAnalysis.m` (thickness) or `sl2py.m` (strain-level) to analyze FEM data.\n",
      "\n",
      "Some notes:\n",
      "1. Do not use `validation20141222.cae` for the validation analysis in Appendix IV. This file is only to be used in a automated code, which will be talked about later in `PlosoneReview201412` folder.\n",
      "2. For the strain-level dependency, some frictionless cases under low stretch does not converge in FEA. Fortunately, analytic solutions may be obtained. I placed those code in the `./FEA/csvFiles`; if you want to develop them by yourself, you may refer to the textbook by Holzapfel G (2000) Nonlinear solid mechanics: A continuum approach for engineering.\n",
      "\n",
      "Both FE analysis in Appendix II and Appendix IV are in the folder FEA. The CAE files contains the model themselves, which can be opened by Abaqus CAE 6.13 and above. For the thickness-dependency model, it is included in baseModel1017.cae; for strain-level-dependency model, see strain_level_1018.cae; for the validation experiment model, see validation20141222.cae.\n",
      "\n",
      "Python scripts were also written for parametric study in thicknesses and strain level. For details in the former, see generateThicknesses.py, and the latter see generateStrainLevel.py. Also, there are some other utility modules, e.g., to read the output from an odb file - for those, please feel free inspect other codes in the folder by yourself. To save space, I removed the actual model runs files, but those should be simple to reproduce if you re-run all the models.\n",
      "\n",
      "Note that since the FE analysis is aimed to mimic the real experiment, I have placed all fitting work to the FE data still in the folder Exp1_3."
     ]
    },
    {
     "cell_type": "heading",
     "level": 2,
     "metadata": {},
     "source": [
      "4. Specific analysis done to address reviewers"
     ]
    },
    {
     "cell_type": "markdown",
     "metadata": {},
     "source": [
      "Main procedure:\n",
      "0. Go to the corresponding folder\n",
      "1. Open the python file and directly run it\n",
      "\n",
      "Some notes:\n",
      "1. If you'd like to calculate the $\\chi^2$ value, you'd have to run `./Exp2/ExtractStressStretch.m` first to make those data available to the python code.\n",
      "2. In the `./FEA/convertdata.py`, I specified the location where I installed my ABAQUS - you will need to change it to your location. Also, I installed scipy and numpy manually for my python in ABAQUS. If you have not done that, the code might not work.\n",
      "\n",
      "This work has gone through in total two rounds of reviews. For the data analysis specifically done in addressing the reviewers, see the folder ActaReview201404, and the PlosoneReview201412. For example, all validation experiment data are included in PlosoneReview201412/YoshiExperiment, along with note in excel and text format; all calculations of the $\\chi^2$ values are in ActaReview201404/chi2f.py."
     ]
    },
    {
     "cell_type": "heading",
     "level": 2,
     "metadata": {},
     "source": [
      "5. Figures for the paper"
     ]
    },
    {
     "cell_type": "markdown",
     "metadata": {},
     "source": [
      "*To generate plots with the exact font size and line type as published, you will need to run `Summary/01_matplotlib_rc.py` first prior to plotting in the same Python kernel.*\n",
      "\n",
      "**List of figures <-> file names (by default under folder of `./Summary`)**\n",
      "\n",
      "- Figure 1 <-> schematic_20141211.vsdx\n",
      "- Figure 2 <-> example_protocol.py\n",
      "- Figure 3 <-> thickness_strainlevel_no_fea.py\n",
      "- Figure 4 <-> example_fit.py\n",
      "- Figure 5 <-> distribution.py\n",
      "- Figure 6 <-> thickness_strainlevel_no_fea.py\n",
      "- Figure 7 <-> tau_ginf_rate.py\n",
      "- Figure 8 <-> othersqlv.py\n",
      "- Figure A1 <-> constitutive_model.vsdx\n",
      "- Figure A2 <-> ./FEA/acta_fe.psd\n",
      "- Figure A3 <-> ./PlosOneReview201412/plotfea.py\n",
      "- Figure A4 <-> thickness_strainlevel_fea.py\n",
      "- Figure A5 <-> ./PlosOneReview201412/convertdata.py\n",
      "\n",
      "Again, for the code ./PlosoneReview201412/convertdata.py, you have to reset the code to call abaqus to your own path.\n",
      "\n",
      "All code to generate figures for this paper is included in the folder Summary. They are mostly written in Python, and with well comments. The codes read corresponding data from the files in folder"
     ]
    },
    {
     "cell_type": "heading",
     "level": 2,
     "metadata": {},
     "source": [
      "6. Software versions"
     ]
    },
    {
     "cell_type": "markdown",
     "metadata": {},
     "source": [
      "OS: Windows 7 64-bit  \n",
      "MATLAB: 2013a  \n",
      "Python: 3.4.2 64-bit  \n",
      "SciPy: 0.15.0  \n",
      "NumPy: 1.9.1  "
     ]
    }
   ],
   "metadata": {}
  }
 ]
}