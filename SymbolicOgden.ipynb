{
 "metadata": {
  "name": "",
  "signature": "sha256:2b742ef488e2f7851f725affe82160b80c2ff10fdd0b20bff0badc14e1f5bb38"
 },
 "nbformat": 3,
 "nbformat_minor": 0,
 "worksheets": [
  {
   "cells": [
    {
     "cell_type": "markdown",
     "metadata": {},
     "source": [
      "There is now a real, symmetric, positive-definite order-2 tensor called $\\mathbf{b}$.  \n",
      "There would be a tensor $\\mathbf{U}=\\mathbf{b}^{1/2}$.  \n",
      "Now, if we define $J=|\\mathbf{U}|$ then $J^2=|\\mathbf{b}|$; and if $\\lambda_i$ are eigenvalues of $\\mathbf{U}$ then $\\lambda_i^2$ are eigenvalues of $\\mathbf{b}$.  \n",
      "This would follow that:  \n",
      "1. $J^2=\\Pi$\n",
      "2."
     ]
    },
    {
     "cell_type": "code",
     "collapsed": false,
     "input": [
      "from sympy import symbols, sqrt, simplify, Matrix, Q\n",
      "from sympy.assumptions.assume import global_assumptions\n",
      "\n",
      "b11, b22, b33, b12, b13, b23 = symbols('b11, b22, b33, b12, b13, b23')\n",
      "b = Matrix([[b11, b12, b13], [b12, b22, b23], [b13, b23, b33]])\n",
      "for elem in b:\n",
      "    global_assumptions.add(Q.real(elem))\n",
      "global_assumptions.add(Q.positive_definite(b))"
     ],
     "language": "python",
     "metadata": {},
     "outputs": [],
     "prompt_number": 3
    },
    {
     "cell_type": "code",
     "collapsed": false,
     "input": [
      "J = sqrt(b.det())\n",
      "lambda1sq, lambda2sq, lambda3sq = b.eigenvals()\n",
      "global_assumptions.add(Q.positive(lambda1sq))\n",
      "global_assumptions.add(Q.positive(lambda2sq))\n",
      "global_assumptions.add(Q.positive(lambda3sq))"
     ],
     "language": "python",
     "metadata": {},
     "outputs": [],
     "prompt_number": 2
    },
    {
     "cell_type": "code",
     "collapsed": false,
     "input": [
      "lambda1, lambda2, lambda3 = sqrt(lambda1sq), sqrt(lambda2sq), sqrt(lambda3sq)"
     ],
     "language": "python",
     "metadata": {},
     "outputs": [],
     "prompt_number": 5
    },
    {
     "cell_type": "code",
     "collapsed": false,
     "input": [
      "simplify(J**2 - (lambda1 * lambda2 * lambda3)**2)"
     ],
     "language": "python",
     "metadata": {},
     "outputs": [
      {
       "metadata": {},
       "output_type": "pyout",
       "prompt_number": 7,
       "text": [
        "0"
       ]
      }
     ],
     "prompt_number": 7
    },
    {
     "cell_type": "code",
     "collapsed": false,
     "input": [
      "simplify(J - (lambda1 * lambda2 * lambda3))"
     ],
     "language": "python",
     "metadata": {},
     "outputs": [
      {
       "metadata": {},
       "output_type": "pyout",
       "prompt_number": 6,
       "text": [
        "-sqrt(6)*sqrt(((2*b11 + 2*b22 + 2*b33 - 2**(2/3)*(-27*b11*b22*b33 + 27*b11*b23**2 + 27*b12**2*b33 - 54*b12*b13*b23 + 27*b13**2*b22 + sqrt(-4*(-3*b11*b22 - 3*b11*b33 + 3*b12**2 + 3*b13**2 - 3*b22*b33 + 3*b23**2 + (b11 + b22 + b33)**2)**3 + (-27*b11*b22*b33 + 27*b11*b23**2 + 27*b12**2*b33 - 54*b12*b13*b23 + 27*b13**2*b22 - 2*(b11 + b22 + b33)**3 + 9*(b11 + b22 + b33)*(b11*b22 + b11*b33 - b12**2 - b13**2 + b22*b33 - b23**2))**2) - 2*(b11 + b22 + b33)**3 + 9*(b11 + b22 + b33)*(b11*b22 + b11*b33 - b12**2 - b13**2 + b22*b33 - b23**2))**(1/3))*(-27*b11*b22*b33 + 27*b11*b23**2 + 27*b12**2*b33 - 54*b12*b13*b23 + 27*b13**2*b22 + sqrt(-4*(-3*b11*b22 - 3*b11*b33 + 3*b12**2 + 3*b13**2 - 3*b22*b33 + 3*b23**2 + (b11 + b22 + b33)**2)**3 + (-27*b11*b22*b33 + 27*b11*b23**2 + 27*b12**2*b33 - 54*b12*b13*b23 + 27*b13**2*b22 - 2*(b11 + b22 + b33)**3 + 9*(b11 + b22 + b33)*(b11*b22 + b11*b33 - b12**2 - b13**2 + b22*b33 - b23**2))**2) - 2*(b11 + b22 + b33)**3 + 9*(b11 + b22 + b33)*(b11*b22 + b11*b33 - b12**2 - b13**2 + b22*b33 - b23**2))**(1/3) - 2*2**(1/3)*(-3*b11*b22 - 3*b11*b33 + 3*b12**2 + 3*b13**2 - 3*b22*b33 + 3*b23**2 + (b11 + b22 + b33)**2))/(-27*b11*b22*b33 + 27*b11*b23**2 + 27*b12**2*b33 - 54*b12*b13*b23 + 27*b13**2*b22 + sqrt(-4*(-3*b11*b22 - 3*b11*b33 + 3*b12**2 + 3*b13**2 - 3*b22*b33 + 3*b23**2 + (b11 + b22 + b33)**2)**3 + (-27*b11*b22*b33 + 27*b11*b23**2 + 27*b12**2*b33 - 54*b12*b13*b23 + 27*b13**2*b22 - 2*(b11 + b22 + b33)**3 + 9*(b11 + b22 + b33)*(b11*b22 + b11*b33 - b12**2 - b13**2 + b22*b33 - b23**2))**2) - 2*(b11 + b22 + b33)**3 + 9*(b11 + b22 + b33)*(b11*b22 + b11*b33 - b12**2 - b13**2 + b22*b33 - b23**2))**(1/3))*sqrt(((1 - sqrt(3)*I)*(4*b11 + 4*b22 + 4*b33 + 2**(2/3)*(1 - sqrt(3)*I)*(-27*b11*b22*b33 + 27*b11*b23**2 + 27*b12**2*b33 - 54*b12*b13*b23 + 27*b13**2*b22 + sqrt(-4*(-3*b11*b22 - 3*b11*b33 + 3*b12**2 + 3*b13**2 - 3*b22*b33 + 3*b23**2 + (b11 + b22 + b33)**2)**3 + (-27*b11*b22*b33 + 27*b11*b23**2 + 27*b12**2*b33 - 54*b12*b13*b23 + 27*b13**2*b22 - 2*(b11 + b22 + b33)**3 + 9*(b11 + b22 + b33)*(b11*b22 + b11*b33 - b12**2 - b13**2 + b22*b33 - b23**2))**2) - 2*(b11 + b22 + b33)**3 + 9*(b11 + b22 + b33)*(b11*b22 + b11*b33 - b12**2 - b13**2 + b22*b33 - b23**2))**(1/3))*(-27*b11*b22*b33 + 27*b11*b23**2 + 27*b12**2*b33 - 54*b12*b13*b23 + 27*b13**2*b22 + sqrt(-4*(-3*b11*b22 - 3*b11*b33 + 3*b12**2 + 3*b13**2 - 3*b22*b33 + 3*b23**2 + (b11 + b22 + b33)**2)**3 + (-27*b11*b22*b33 + 27*b11*b23**2 + 27*b12**2*b33 - 54*b12*b13*b23 + 27*b13**2*b22 - 2*(b11 + b22 + b33)**3 + 9*(b11 + b22 + b33)*(b11*b22 + b11*b33 - b12**2 - b13**2 + b22*b33 - b23**2))**2) - 2*(b11 + b22 + b33)**3 + 9*(b11 + b22 + b33)*(b11*b22 + b11*b33 - b12**2 - b13**2 + b22*b33 - b23**2))**(1/3) + 8*2**(1/3)*(-3*b11*b22 - 3*b11*b33 + 3*b12**2 + 3*b13**2 - 3*b22*b33 + 3*b23**2 + (b11 + b22 + b33)**2))/((1 - sqrt(3)*I)*(-27*b11*b22*b33 + 27*b11*b23**2 + 27*b12**2*b33 - 54*b12*b13*b23 + 27*b13**2*b22 + sqrt(-4*(-3*b11*b22 - 3*b11*b33 + 3*b12**2 + 3*b13**2 - 3*b22*b33 + 3*b23**2 + (b11 + b22 + b33)**2)**3 + (-27*b11*b22*b33 + 27*b11*b23**2 + 27*b12**2*b33 - 54*b12*b13*b23 + 27*b13**2*b22 - 2*(b11 + b22 + b33)**3 + 9*(b11 + b22 + b33)*(b11*b22 + b11*b33 - b12**2 - b13**2 + b22*b33 - b23**2))**2) - 2*(b11 + b22 + b33)**3 + 9*(b11 + b22 + b33)*(b11*b22 + b11*b33 - b12**2 - b13**2 + b22*b33 - b23**2))**(1/3)))*sqrt(((1 + sqrt(3)*I)*(4*b11 + 4*b22 + 4*b33 + 2**(2/3)*(1 + sqrt(3)*I)*(-27*b11*b22*b33 + 27*b11*b23**2 + 27*b12**2*b33 - 54*b12*b13*b23 + 27*b13**2*b22 + sqrt(-4*(-3*b11*b22 - 3*b11*b33 + 3*b12**2 + 3*b13**2 - 3*b22*b33 + 3*b23**2 + (b11 + b22 + b33)**2)**3 + (-27*b11*b22*b33 + 27*b11*b23**2 + 27*b12**2*b33 - 54*b12*b13*b23 + 27*b13**2*b22 - 2*(b11 + b22 + b33)**3 + 9*(b11 + b22 + b33)*(b11*b22 + b11*b33 - b12**2 - b13**2 + b22*b33 - b23**2))**2) - 2*(b11 + b22 + b33)**3 + 9*(b11 + b22 + b33)*(b11*b22 + b11*b33 - b12**2 - b13**2 + b22*b33 - b23**2))**(1/3))*(-27*b11*b22*b33 + 27*b11*b23**2 + 27*b12**2*b33 - 54*b12*b13*b23 + 27*b13**2*b22 + sqrt(-4*(-3*b11*b22 - 3*b11*b33 + 3*b12**2 + 3*b13**2 - 3*b22*b33 + 3*b23**2 + (b11 + b22 + b33)**2)**3 + (-27*b11*b22*b33 + 27*b11*b23**2 + 27*b12**2*b33 - 54*b12*b13*b23 + 27*b13**2*b22 - 2*(b11 + b22 + b33)**3 + 9*(b11 + b22 + b33)*(b11*b22 + b11*b33 - b12**2 - b13**2 + b22*b33 - b23**2))**2) - 2*(b11 + b22 + b33)**3 + 9*(b11 + b22 + b33)*(b11*b22 + b11*b33 - b12**2 - b13**2 + b22*b33 - b23**2))**(1/3) + 8*2**(1/3)*(-3*b11*b22 - 3*b11*b33 + 3*b12**2 + 3*b13**2 - 3*b22*b33 + 3*b23**2 + (b11 + b22 + b33)**2))/((1 + sqrt(3)*I)*(-27*b11*b22*b33 + 27*b11*b23**2 + 27*b12**2*b33 - 54*b12*b13*b23 + 27*b13**2*b22 + sqrt(-4*(-3*b11*b22 - 3*b11*b33 + 3*b12**2 + 3*b13**2 - 3*b22*b33 + 3*b23**2 + (b11 + b22 + b33)**2)**3 + (-27*b11*b22*b33 + 27*b11*b23**2 + 27*b12**2*b33 - 54*b12*b13*b23 + 27*b13**2*b22 - 2*(b11 + b22 + b33)**3 + 9*(b11 + b22 + b33)*(b11*b22 + b11*b33 - b12**2 - b13**2 + b22*b33 - b23**2))**2) - 2*(b11 + b22 + b33)**3 + 9*(b11 + b22 + b33)*(b11*b22 + b11*b33 - b12**2 - b13**2 + b22*b33 - b23**2))**(1/3)))/72 + sqrt(b11*b22*b33 - b11*b23**2 - b12**2*b33 + 2*b12*b13*b23 - b13**2*b22)"
       ]
      }
     ],
     "prompt_number": 6
    }
   ],
   "metadata": {}
  }
 ]
}