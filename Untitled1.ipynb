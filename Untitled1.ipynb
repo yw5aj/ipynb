{
 "metadata": {
  "name": "",
  "signature": "sha256:4dabd7bec66e8b4e0c7711f4f1cab2e599ea85b86e68cc7638d77254e7d582ca"
 },
 "nbformat": 3,
 "nbformat_minor": 0,
 "worksheets": [
  {
   "cells": [
    {
     "cell_type": "code",
     "collapsed": false,
     "input": [
      "from sympy import symbols, Q, var\n",
      "from sympy.assumptions.assume import global_assumptions"
     ],
     "language": "python",
     "metadata": {},
     "outputs": [],
     "prompt_number": 2
    },
    {
     "cell_type": "code",
     "collapsed": false,
     "input": [
      "a, b, c, d = symbols('a, b, c, d', real=True, positive=True)\n",
      "e = a * b * c * d"
     ],
     "language": "python",
     "metadata": {},
     "outputs": [],
     "prompt_number": 9
    },
    {
     "cell_type": "code",
     "collapsed": false,
     "input": [
      "global_assumptions.add(Q.positive(e))\n",
      "e > 0"
     ],
     "language": "python",
     "metadata": {},
     "outputs": [
      {
       "metadata": {},
       "output_type": "pyout",
       "prompt_number": 8,
       "text": [
        "a*b*c*d > 0"
       ]
      }
     ],
     "prompt_number": 8
    }
   ],
   "metadata": {}
  }
 ]
}