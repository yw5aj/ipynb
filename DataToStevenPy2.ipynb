{
 "metadata": {
  "name": "",
  "signature": "sha256:c0fbb11a940d000431c5894a28862e9aad7bdfcf233067c67f263f78c5b087de"
 },
 "nbformat": 3,
 "nbformat_minor": 0,
 "worksheets": [
  {
   "cells": [
    {
     "cell_type": "code",
     "collapsed": false,
     "input": [
      "# Step 1. Go to where the data is stored:\n",
      "import os\n",
      "os.chdir('X:/WorkFolder/AbaqusFolder/HS2014/pickles')\n",
      "os.listdir('.')"
     ],
     "language": "python",
     "metadata": {},
     "outputs": [
      {
       "metadata": {},
       "output_type": "pyout",
       "prompt_number": 5,
       "text": [
        "['as_g1000e04_r400_stip',\n",
        " 'as_g1000e04_r600_stip',\n",
        " 'as_g1000e04_r800_stip',\n",
        " 'as_g2820e04_r1750_stip',\n",
        " 'as_g5000e04_r400_stip',\n",
        " 'as_g5000e04_r600_stip',\n",
        " 'as_g5000e04_r800_stip',\n",
        " 'as_g5690e04_r1750_stip',\n",
        " 'as_g5690e04_r1750_stip.pkl',\n",
        " 'as_g9000e04_r400_stip',\n",
        " 'as_g9000e04_r600_stip',\n",
        " 'as_g9000e04_r800_stip',\n",
        " 'pe_w300_btip',\n",
        " 'sphereAsList.pkl']"
       ]
      }
     ],
     "prompt_number": 5
    },
    {
     "cell_type": "code",
     "collapsed": false,
     "input": [
      "# Step 2. Open the data\n",
      "import cPickle\n",
      "with open('as_g5690e04_r1750_stip.pkl', 'r') as f:\n",
      "    data = cPickle.load(f)"
     ],
     "language": "python",
     "metadata": {},
     "outputs": [],
     "prompt_number": 6
    },
    {
     "cell_type": "code",
     "collapsed": false,
     "input": [
      "# The data is a dictionary file, with three keys\n",
      "data.keys()"
     ],
     "language": "python",
     "metadata": {},
     "outputs": [
      {
       "metadata": {},
       "output_type": "pyout",
       "prompt_number": 8,
       "text": [
        "['kinesthetic_output', 'tactile_output', 'time']"
       ]
      }
     ],
     "prompt_number": 8
    },
    {
     "cell_type": "code",
     "collapsed": false,
     "input": [
      "# data['time'] tells you that the output if from the model with NSTEPS time increments\n",
      "# Because this model is totally static, it can be viewed as NSTEPS force increments\n",
      "data['time']"
     ],
     "language": "python",
     "metadata": {},
     "outputs": [
      {
       "metadata": {},
       "output_type": "pyout",
       "prompt_number": 11,
       "text": [
        "array([ 0.        ,  0.01      ,  0.016681  ,  0.0278256 ,  0.0464159 ,\n",
        "        0.0774264 ,  0.129155  ,  0.215443  ,  0.35938099,  0.59948403,  1.        ])"
       ]
      }
     ],
     "prompt_number": 11
    },
    {
     "cell_type": "code",
     "collapsed": false,
     "input": [
      "# Let's examine the actual data. \n",
      "for key in data:\n",
      "    locals()[key] = data[key]\n",
      "# both kinesthetic_output and tactile_output has NSTEPS elements, each mapping to one force increment. \n",
      "len(time) == len(kinesthetic_output) and len(time) == len(tactile_output)"
     ],
     "language": "python",
     "metadata": {},
     "outputs": [
      {
       "metadata": {},
       "output_type": "pyout",
       "prompt_number": 19,
       "text": [
        "True"
       ]
      }
     ],
     "prompt_number": 19
    },
    {
     "cell_type": "code",
     "collapsed": false,
     "input": [
      "# In each of the elements, there are a couple of keys:\n",
      "# \"CF\" is applied, and \"RF\" is the reaction force\n",
      "# CF = concentrated force\n",
      "# RF = reaction force\n",
      "# U = displacement\n",
      "kinesthetic_output[-1].keys()"
     ],
     "language": "python",
     "metadata": {},
     "outputs": []
    },
    {
     "cell_type": "code",
     "collapsed": false,
     "input": [
      "#Let's first see the force applied on the tip, called \"CF\" in kinesthetic output\n",
      "kinesthetic_output[-1]['CF']"
     ],
     "language": "python",
     "metadata": {},
     "outputs": [
      {
       "metadata": {},
       "output_type": "pyout",
       "prompt_number": 21,
       "text": [
        "[{'coordinate': array([ 0.   , -0.035,  0.   ], dtype=float32),\n",
        "  'data': array([  0.,  11.], dtype=float32),\n",
        "  'instance': 'AS_G5690E04_R1750_STIP_BASE',\n",
        "  'magnitude': 11.0},\n",
        " {'coordinate': array([ 0.   , -0.035,  0.   ], dtype=float32),\n",
        "  'data': array([ 0.,  0.], dtype=float32),\n",
        "  'instance': 'AS_G5690E04_R1750_STIP_TIP',\n",
        "  'magnitude': 0.0},\n",
        " {'coordinate': array([ 0.00025, -0.035  ,  0.     ], dtype=float32),\n",
        "  'data': array([ 0.,  0.], dtype=float32),\n",
        "  'instance': 'AS_G5690E04_R1750_STIP_TIP',\n",
        "  'magnitude': 0.0},\n",
        " {'coordinate': array([ 0.0005, -0.035 ,  0.    ], dtype=float32),\n",
        "  'data': array([ 0.,  0.], dtype=float32),\n",
        "  'instance': 'AS_G5690E04_R1750_STIP_TIP',\n",
        "  'magnitude': 0.0},\n",
        " {'coordinate': array([ 0.00075, -0.035  ,  0.     ], dtype=float32),\n",
        "  'data': array([ 0.,  0.], dtype=float32),\n",
        "  'instance': 'AS_G5690E04_R1750_STIP_TIP',\n",
        "  'magnitude': 0.0},\n",
        " {'coordinate': array([ 0.001, -0.035,  0.   ], dtype=float32),\n",
        "  'data': array([ 0.,  0.], dtype=float32),\n",
        "  'instance': 'AS_G5690E04_R1750_STIP_TIP',\n",
        "  'magnitude': 0.0},\n",
        " {'coordinate': array([ 0.00125, -0.035  ,  0.     ], dtype=float32),\n",
        "  'data': array([ 0.,  0.], dtype=float32),\n",
        "  'instance': 'AS_G5690E04_R1750_STIP_TIP',\n",
        "  'magnitude': 0.0},\n",
        " {'coordinate': array([ 0.0015, -0.035 ,  0.    ], dtype=float32),\n",
        "  'data': array([ 0.,  0.], dtype=float32),\n",
        "  'instance': 'AS_G5690E04_R1750_STIP_TIP',\n",
        "  'magnitude': 0.0},\n",
        " {'coordinate': array([ 0.00175, -0.035  ,  0.     ], dtype=float32),\n",
        "  'data': array([ 0.,  0.], dtype=float32),\n",
        "  'instance': 'AS_G5690E04_R1750_STIP_TIP',\n",
        "  'magnitude': 0.0},\n",
        " {'coordinate': array([ 0.002, -0.035,  0.   ], dtype=float32),\n",
        "  'data': array([ 0.,  0.], dtype=float32),\n",
        "  'instance': 'AS_G5690E04_R1750_STIP_TIP',\n",
        "  'magnitude': 0.0},\n",
        " {'coordinate': array([ 0.00225, -0.035  ,  0.     ], dtype=float32),\n",
        "  'data': array([ 0.,  0.], dtype=float32),\n",
        "  'instance': 'AS_G5690E04_R1750_STIP_TIP',\n",
        "  'magnitude': 0.0},\n",
        " {'coordinate': array([ 0.0025, -0.035 ,  0.    ], dtype=float32),\n",
        "  'data': array([ 0.,  0.], dtype=float32),\n",
        "  'instance': 'AS_G5690E04_R1750_STIP_TIP',\n",
        "  'magnitude': 0.0},\n",
        " {'coordinate': array([ 0.00275, -0.035  ,  0.     ], dtype=float32),\n",
        "  'data': array([ 0.,  0.], dtype=float32),\n",
        "  'instance': 'AS_G5690E04_R1750_STIP_TIP',\n",
        "  'magnitude': 0.0},\n",
        " {'coordinate': array([ 0.003, -0.035,  0.   ], dtype=float32),\n",
        "  'data': array([ 0.,  0.], dtype=float32),\n",
        "  'instance': 'AS_G5690E04_R1750_STIP_TIP',\n",
        "  'magnitude': 0.0},\n",
        " {'coordinate': array([ 0.00325, -0.035  ,  0.     ], dtype=float32),\n",
        "  'data': array([ 0.,  0.], dtype=float32),\n",
        "  'instance': 'AS_G5690E04_R1750_STIP_TIP',\n",
        "  'magnitude': 0.0},\n",
        " {'coordinate': array([ 0.0035, -0.035 ,  0.    ], dtype=float32),\n",
        "  'data': array([ 0.,  0.], dtype=float32),\n",
        "  'instance': 'AS_G5690E04_R1750_STIP_TIP',\n",
        "  'magnitude': 0.0},\n",
        " {'coordinate': array([ 0.00375, -0.035  ,  0.     ], dtype=float32),\n",
        "  'data': array([ 0.,  0.], dtype=float32),\n",
        "  'instance': 'AS_G5690E04_R1750_STIP_TIP',\n",
        "  'magnitude': 0.0},\n",
        " {'coordinate': array([ 0.004, -0.035,  0.   ], dtype=float32),\n",
        "  'data': array([ 0.,  0.], dtype=float32),\n",
        "  'instance': 'AS_G5690E04_R1750_STIP_TIP',\n",
        "  'magnitude': 0.0},\n",
        " {'coordinate': array([ 0.00425, -0.035  ,  0.     ], dtype=float32),\n",
        "  'data': array([ 0.,  0.], dtype=float32),\n",
        "  'instance': 'AS_G5690E04_R1750_STIP_TIP',\n",
        "  'magnitude': 0.0},\n",
        " {'coordinate': array([ 0.0045, -0.035 ,  0.    ], dtype=float32),\n",
        "  'data': array([ 0.,  0.], dtype=float32),\n",
        "  'instance': 'AS_G5690E04_R1750_STIP_TIP',\n",
        "  'magnitude': 0.0},\n",
        " {'coordinate': array([ 0.00475, -0.035  ,  0.     ], dtype=float32),\n",
        "  'data': array([ 0.,  0.], dtype=float32),\n",
        "  'instance': 'AS_G5690E04_R1750_STIP_TIP',\n",
        "  'magnitude': 0.0},\n",
        " {'coordinate': array([ 0.005, -0.035,  0.   ], dtype=float32),\n",
        "  'data': array([ 0.,  0.], dtype=float32),\n",
        "  'instance': 'AS_G5690E04_R1750_STIP_TIP',\n",
        "  'magnitude': 0.0},\n",
        " {'coordinate': array([ 0.00525, -0.035  ,  0.     ], dtype=float32),\n",
        "  'data': array([ 0.,  0.], dtype=float32),\n",
        "  'instance': 'AS_G5690E04_R1750_STIP_TIP',\n",
        "  'magnitude': 0.0},\n",
        " {'coordinate': array([ 0.0055, -0.035 ,  0.    ], dtype=float32),\n",
        "  'data': array([ 0.,  0.], dtype=float32),\n",
        "  'instance': 'AS_G5690E04_R1750_STIP_TIP',\n",
        "  'magnitude': 0.0},\n",
        " {'coordinate': array([ 0.00575, -0.035  ,  0.     ], dtype=float32),\n",
        "  'data': array([ 0.,  0.], dtype=float32),\n",
        "  'instance': 'AS_G5690E04_R1750_STIP_TIP',\n",
        "  'magnitude': 0.0},\n",
        " {'coordinate': array([ 0.006, -0.035,  0.   ], dtype=float32),\n",
        "  'data': array([ 0.,  0.], dtype=float32),\n",
        "  'instance': 'AS_G5690E04_R1750_STIP_TIP',\n",
        "  'magnitude': 0.0},\n",
        " {'coordinate': array([ 0.00625, -0.035  ,  0.     ], dtype=float32),\n",
        "  'data': array([ 0.,  0.], dtype=float32),\n",
        "  'instance': 'AS_G5690E04_R1750_STIP_TIP',\n",
        "  'magnitude': 0.0},\n",
        " {'coordinate': array([ 0.0065, -0.035 ,  0.    ], dtype=float32),\n",
        "  'data': array([ 0.,  0.], dtype=float32),\n",
        "  'instance': 'AS_G5690E04_R1750_STIP_TIP',\n",
        "  'magnitude': 0.0},\n",
        " {'coordinate': array([ 0.00675, -0.035  ,  0.     ], dtype=float32),\n",
        "  'data': array([ 0.,  0.], dtype=float32),\n",
        "  'instance': 'AS_G5690E04_R1750_STIP_TIP',\n",
        "  'magnitude': 0.0},\n",
        " {'coordinate': array([ 0.007, -0.035,  0.   ], dtype=float32),\n",
        "  'data': array([ 0.,  0.], dtype=float32),\n",
        "  'instance': 'AS_G5690E04_R1750_STIP_TIP',\n",
        "  'magnitude': 0.0},\n",
        " {'coordinate': array([ 0.00725, -0.035  ,  0.     ], dtype=float32),\n",
        "  'data': array([ 0.,  0.], dtype=float32),\n",
        "  'instance': 'AS_G5690E04_R1750_STIP_TIP',\n",
        "  'magnitude': 0.0},\n",
        " {'coordinate': array([ 0.0075, -0.035 ,  0.    ], dtype=float32),\n",
        "  'data': array([ 0.,  0.], dtype=float32),\n",
        "  'instance': 'AS_G5690E04_R1750_STIP_TIP',\n",
        "  'magnitude': 0.0},\n",
        " {'coordinate': array([ 0.00775, -0.035  ,  0.     ], dtype=float32),\n",
        "  'data': array([ 0.,  0.], dtype=float32),\n",
        "  'instance': 'AS_G5690E04_R1750_STIP_TIP',\n",
        "  'magnitude': 0.0},\n",
        " {'coordinate': array([ 0.008, -0.035,  0.   ], dtype=float32),\n",
        "  'data': array([ 0.,  0.], dtype=float32),\n",
        "  'instance': 'AS_G5690E04_R1750_STIP_TIP',\n",
        "  'magnitude': 0.0},\n",
        " {'coordinate': array([ 0.00825, -0.035  ,  0.     ], dtype=float32),\n",
        "  'data': array([ 0.,  0.], dtype=float32),\n",
        "  'instance': 'AS_G5690E04_R1750_STIP_TIP',\n",
        "  'magnitude': 0.0},\n",
        " {'coordinate': array([ 0.0085, -0.035 ,  0.    ], dtype=float32),\n",
        "  'data': array([ 0.,  0.], dtype=float32),\n",
        "  'instance': 'AS_G5690E04_R1750_STIP_TIP',\n",
        "  'magnitude': 0.0},\n",
        " {'coordinate': array([ 0.00875, -0.035  ,  0.     ], dtype=float32),\n",
        "  'data': array([ 0.,  0.], dtype=float32),\n",
        "  'instance': 'AS_G5690E04_R1750_STIP_TIP',\n",
        "  'magnitude': 0.0},\n",
        " {'coordinate': array([ 0.009, -0.035,  0.   ], dtype=float32),\n",
        "  'data': array([ 0.,  0.], dtype=float32),\n",
        "  'instance': 'AS_G5690E04_R1750_STIP_TIP',\n",
        "  'magnitude': 0.0},\n",
        " {'coordinate': array([ 0.00925, -0.035  ,  0.     ], dtype=float32),\n",
        "  'data': array([ 0.,  0.], dtype=float32),\n",
        "  'instance': 'AS_G5690E04_R1750_STIP_TIP',\n",
        "  'magnitude': 0.0},\n",
        " {'coordinate': array([ 0.0095, -0.035 ,  0.    ], dtype=float32),\n",
        "  'data': array([ 0.,  0.], dtype=float32),\n",
        "  'instance': 'AS_G5690E04_R1750_STIP_TIP',\n",
        "  'magnitude': 0.0},\n",
        " {'coordinate': array([ 0.00975, -0.035  ,  0.     ], dtype=float32),\n",
        "  'data': array([ 0.,  0.], dtype=float32),\n",
        "  'instance': 'AS_G5690E04_R1750_STIP_TIP',\n",
        "  'magnitude': 0.0},\n",
        " {'coordinate': array([ 0.01 , -0.035,  0.   ], dtype=float32),\n",
        "  'data': array([ 0.,  0.], dtype=float32),\n",
        "  'instance': 'AS_G5690E04_R1750_STIP_TIP',\n",
        "  'magnitude': 0.0},\n",
        " {'coordinate': array([ 0.01025, -0.035  ,  0.     ], dtype=float32),\n",
        "  'data': array([ 0.,  0.], dtype=float32),\n",
        "  'instance': 'AS_G5690E04_R1750_STIP_TIP',\n",
        "  'magnitude': 0.0},\n",
        " {'coordinate': array([ 0.0105, -0.035 ,  0.    ], dtype=float32),\n",
        "  'data': array([ 0.,  0.], dtype=float32),\n",
        "  'instance': 'AS_G5690E04_R1750_STIP_TIP',\n",
        "  'magnitude': 0.0},\n",
        " {'coordinate': array([ 0.01075, -0.035  ,  0.     ], dtype=float32),\n",
        "  'data': array([ 0.,  0.], dtype=float32),\n",
        "  'instance': 'AS_G5690E04_R1750_STIP_TIP',\n",
        "  'magnitude': 0.0},\n",
        " {'coordinate': array([ 0.011, -0.035,  0.   ], dtype=float32),\n",
        "  'data': array([ 0.,  0.], dtype=float32),\n",
        "  'instance': 'AS_G5690E04_R1750_STIP_TIP',\n",
        "  'magnitude': 0.0},\n",
        " {'coordinate': array([ 0.01125, -0.035  ,  0.     ], dtype=float32),\n",
        "  'data': array([ 0.,  0.], dtype=float32),\n",
        "  'instance': 'AS_G5690E04_R1750_STIP_TIP',\n",
        "  'magnitude': 0.0},\n",
        " {'coordinate': array([ 0.0115, -0.035 ,  0.    ], dtype=float32),\n",
        "  'data': array([ 0.,  0.], dtype=float32),\n",
        "  'instance': 'AS_G5690E04_R1750_STIP_TIP',\n",
        "  'magnitude': 0.0},\n",
        " {'coordinate': array([ 0.01175, -0.035  ,  0.     ], dtype=float32),\n",
        "  'data': array([ 0.,  0.], dtype=float32),\n",
        "  'instance': 'AS_G5690E04_R1750_STIP_TIP',\n",
        "  'magnitude': 0.0},\n",
        " {'coordinate': array([ 0.012, -0.035,  0.   ], dtype=float32),\n",
        "  'data': array([ 0.,  0.], dtype=float32),\n",
        "  'instance': 'AS_G5690E04_R1750_STIP_TIP',\n",
        "  'magnitude': 0.0},\n",
        " {'coordinate': array([ 0.01225, -0.035  ,  0.     ], dtype=float32),\n",
        "  'data': array([ 0.,  0.], dtype=float32),\n",
        "  'instance': 'AS_G5690E04_R1750_STIP_TIP',\n",
        "  'magnitude': 0.0},\n",
        " {'coordinate': array([ 0.0125, -0.035 ,  0.    ], dtype=float32),\n",
        "  'data': array([ 0.,  0.], dtype=float32),\n",
        "  'instance': 'AS_G5690E04_R1750_STIP_TIP',\n",
        "  'magnitude': 0.0},\n",
        " {'coordinate': array([ 0.01275, -0.035  ,  0.     ], dtype=float32),\n",
        "  'data': array([ 0.,  0.], dtype=float32),\n",
        "  'instance': 'AS_G5690E04_R1750_STIP_TIP',\n",
        "  'magnitude': 0.0},\n",
        " {'coordinate': array([ 0.013, -0.035,  0.   ], dtype=float32),\n",
        "  'data': array([ 0.,  0.], dtype=float32),\n",
        "  'instance': 'AS_G5690E04_R1750_STIP_TIP',\n",
        "  'magnitude': 0.0},\n",
        " {'coordinate': array([ 0.01325, -0.035  ,  0.     ], dtype=float32),\n",
        "  'data': array([ 0.,  0.], dtype=float32),\n",
        "  'instance': 'AS_G5690E04_R1750_STIP_TIP',\n",
        "  'magnitude': 0.0},\n",
        " {'coordinate': array([ 0.0135, -0.035 ,  0.    ], dtype=float32),\n",
        "  'data': array([ 0.,  0.], dtype=float32),\n",
        "  'instance': 'AS_G5690E04_R1750_STIP_TIP',\n",
        "  'magnitude': 0.0},\n",
        " {'coordinate': array([ 0.01375, -0.035  ,  0.     ], dtype=float32),\n",
        "  'data': array([ 0.,  0.], dtype=float32),\n",
        "  'instance': 'AS_G5690E04_R1750_STIP_TIP',\n",
        "  'magnitude': 0.0},\n",
        " {'coordinate': array([ 0.014, -0.035,  0.   ], dtype=float32),\n",
        "  'data': array([ 0.,  0.], dtype=float32),\n",
        "  'instance': 'AS_G5690E04_R1750_STIP_TIP',\n",
        "  'magnitude': 0.0},\n",
        " {'coordinate': array([ 0.01425, -0.035  ,  0.     ], dtype=float32),\n",
        "  'data': array([ 0.,  0.], dtype=float32),\n",
        "  'instance': 'AS_G5690E04_R1750_STIP_TIP',\n",
        "  'magnitude': 0.0},\n",
        " {'coordinate': array([ 0.0145, -0.035 ,  0.    ], dtype=float32),\n",
        "  'data': array([ 0.,  0.], dtype=float32),\n",
        "  'instance': 'AS_G5690E04_R1750_STIP_TIP',\n",
        "  'magnitude': 0.0},\n",
        " {'coordinate': array([ 0.01475, -0.035  ,  0.     ], dtype=float32),\n",
        "  'data': array([ 0.,  0.], dtype=float32),\n",
        "  'instance': 'AS_G5690E04_R1750_STIP_TIP',\n",
        "  'magnitude': 0.0},\n",
        " {'coordinate': array([ 0.015, -0.035,  0.   ], dtype=float32),\n",
        "  'data': array([ 0.,  0.], dtype=float32),\n",
        "  'instance': 'AS_G5690E04_R1750_STIP_TIP',\n",
        "  'magnitude': 0.0},\n",
        " {'coordinate': array([ 0.01525, -0.035  ,  0.     ], dtype=float32),\n",
        "  'data': array([ 0.,  0.], dtype=float32),\n",
        "  'instance': 'AS_G5690E04_R1750_STIP_TIP',\n",
        "  'magnitude': 0.0},\n",
        " {'coordinate': array([ 0.0155, -0.035 ,  0.    ], dtype=float32),\n",
        "  'data': array([ 0.,  0.], dtype=float32),\n",
        "  'instance': 'AS_G5690E04_R1750_STIP_TIP',\n",
        "  'magnitude': 0.0},\n",
        " {'coordinate': array([ 0.01575, -0.035  ,  0.     ], dtype=float32),\n",
        "  'data': array([ 0.,  0.], dtype=float32),\n",
        "  'instance': 'AS_G5690E04_R1750_STIP_TIP',\n",
        "  'magnitude': 0.0},\n",
        " {'coordinate': array([ 0.016, -0.035,  0.   ], dtype=float32),\n",
        "  'data': array([ 0.,  0.], dtype=float32),\n",
        "  'instance': 'AS_G5690E04_R1750_STIP_TIP',\n",
        "  'magnitude': 0.0},\n",
        " {'coordinate': array([ 0.01625, -0.035  ,  0.     ], dtype=float32),\n",
        "  'data': array([ 0.,  0.], dtype=float32),\n",
        "  'instance': 'AS_G5690E04_R1750_STIP_TIP',\n",
        "  'magnitude': 0.0},\n",
        " {'coordinate': array([ 0.0165, -0.035 ,  0.    ], dtype=float32),\n",
        "  'data': array([ 0.,  0.], dtype=float32),\n",
        "  'instance': 'AS_G5690E04_R1750_STIP_TIP',\n",
        "  'magnitude': 0.0},\n",
        " {'coordinate': array([ 0.01675, -0.035  ,  0.     ], dtype=float32),\n",
        "  'data': array([ 0.,  0.], dtype=float32),\n",
        "  'instance': 'AS_G5690E04_R1750_STIP_TIP',\n",
        "  'magnitude': 0.0},\n",
        " {'coordinate': array([ 0.017, -0.035,  0.   ], dtype=float32),\n",
        "  'data': array([ 0.,  0.], dtype=float32),\n",
        "  'instance': 'AS_G5690E04_R1750_STIP_TIP',\n",
        "  'magnitude': 0.0},\n",
        " {'coordinate': array([ 0.01725, -0.035  ,  0.     ], dtype=float32),\n",
        "  'data': array([ 0.,  0.], dtype=float32),\n",
        "  'instance': 'AS_G5690E04_R1750_STIP_TIP',\n",
        "  'magnitude': 0.0},\n",
        " {'coordinate': array([ 0.0175, -0.035 ,  0.    ], dtype=float32),\n",
        "  'data': array([ 0.,  0.], dtype=float32),\n",
        "  'instance': 'AS_G5690E04_R1750_STIP_TIP',\n",
        "  'magnitude': 0.0},\n",
        " {'coordinate': array([ 0.        , -0.03250693,  0.        ], dtype=float32),\n",
        "  'data': array([ 0.,  0.], dtype=float32),\n",
        "  'instance': 'AS_G5690E04_R1750_STIP_TIP',\n",
        "  'magnitude': 0.0},\n",
        " {'coordinate': array([ 0.00025   , -0.03250693,  0.        ], dtype=float32),\n",
        "  'data': array([ 0.,  0.], dtype=float32),\n",
        "  'instance': 'AS_G5690E04_R1750_STIP_TIP',\n",
        "  'magnitude': 0.0},\n",
        " {'coordinate': array([ 0.0005    , -0.03250693,  0.        ], dtype=float32),\n",
        "  'data': array([ 0.,  0.], dtype=float32),\n",
        "  'instance': 'AS_G5690E04_R1750_STIP_TIP',\n",
        "  'magnitude': 0.0},\n",
        " {'coordinate': array([ 0.00075   , -0.03250693,  0.        ], dtype=float32),\n",
        "  'data': array([ 0.,  0.], dtype=float32),\n",
        "  'instance': 'AS_G5690E04_R1750_STIP_TIP',\n",
        "  'magnitude': 0.0},\n",
        " {'coordinate': array([ 0.001     , -0.03250693,  0.        ], dtype=float32),\n",
        "  'data': array([ 0.,  0.], dtype=float32),\n",
        "  'instance': 'AS_G5690E04_R1750_STIP_TIP',\n",
        "  'magnitude': 0.0},\n",
        " {'coordinate': array([ 0.00125   , -0.03250693,  0.        ], dtype=float32),\n",
        "  'data': array([ 0.,  0.], dtype=float32),\n",
        "  'instance': 'AS_G5690E04_R1750_STIP_TIP',\n",
        "  'magnitude': 0.0},\n",
        " {'coordinate': array([ 0.0015    , -0.03250693,  0.        ], dtype=float32),\n",
        "  'data': array([ 0.,  0.], dtype=float32),\n",
        "  'instance': 'AS_G5690E04_R1750_STIP_TIP',\n",
        "  'magnitude': 0.0},\n",
        " {'coordinate': array([ 0.00175   , -0.03250693,  0.        ], dtype=float32),\n",
        "  'data': array([ 0.,  0.], dtype=float32),\n",
        "  'instance': 'AS_G5690E04_R1750_STIP_TIP',\n",
        "  'magnitude': 0.0},\n",
        " {'coordinate': array([ 0.002     , -0.03250693,  0.        ], dtype=float32),\n",
        "  'data': array([ 0.,  0.], dtype=float32),\n",
        "  'instance': 'AS_G5690E04_R1750_STIP_TIP',\n",
        "  'magnitude': 0.0},\n",
        " {'coordinate': array([ 0.00225   , -0.03250693,  0.        ], dtype=float32),\n",
        "  'data': array([ 0.,  0.], dtype=float32),\n",
        "  'instance': 'AS_G5690E04_R1750_STIP_TIP',\n",
        "  'magnitude': 0.0},\n",
        " {'coordinate': array([ 0.0025    , -0.03250693,  0.        ], dtype=float32),\n",
        "  'data': array([ 0.,  0.], dtype=float32),\n",
        "  'instance': 'AS_G5690E04_R1750_STIP_TIP',\n",
        "  'magnitude': 0.0},\n",
        " {'coordinate': array([ 0.00275   , -0.03250693,  0.        ], dtype=float32),\n",
        "  'data': array([ 0.,  0.], dtype=float32),\n",
        "  'instance': 'AS_G5690E04_R1750_STIP_TIP',\n",
        "  'magnitude': 0.0},\n",
        " {'coordinate': array([ 0.003     , -0.03250693,  0.        ], dtype=float32),\n",
        "  'data': array([ 0.,  0.], dtype=float32),\n",
        "  'instance': 'AS_G5690E04_R1750_STIP_TIP',\n",
        "  'magnitude': 0.0},\n",
        " {'coordinate': array([ 0.00325   , -0.03250693,  0.        ], dtype=float32),\n",
        "  'data': array([ 0.,  0.], dtype=float32),\n",
        "  'instance': 'AS_G5690E04_R1750_STIP_TIP',\n",
        "  'magnitude': 0.0},\n",
        " {'coordinate': array([ 0.0035    , -0.03250693,  0.        ], dtype=float32),\n",
        "  'data': array([ 0.,  0.], dtype=float32),\n",
        "  'instance': 'AS_G5690E04_R1750_STIP_TIP',\n",
        "  'magnitude': 0.0},\n",
        " {'coordinate': array([ 0.00375   , -0.03250693,  0.        ], dtype=float32),\n",
        "  'data': array([ 0.,  0.], dtype=float32),\n",
        "  'instance': 'AS_G5690E04_R1750_STIP_TIP',\n",
        "  'magnitude': 0.0},\n",
        " {'coordinate': array([ 0.004     , -0.03250693,  0.        ], dtype=float32),\n",
        "  'data': array([ 0.,  0.], dtype=float32),\n",
        "  'instance': 'AS_G5690E04_R1750_STIP_TIP',\n",
        "  'magnitude': 0.0},\n",
        " {'coordinate': array([ 0.00425   , -0.03250693,  0.        ], dtype=float32),\n",
        "  'data': array([ 0.,  0.], dtype=float32),\n",
        "  'instance': 'AS_G5690E04_R1750_STIP_TIP',\n",
        "  'magnitude': 0.0},\n",
        " {'coordinate': array([ 0.0045    , -0.03250693,  0.        ], dtype=float32),\n",
        "  'data': array([ 0.,  0.], dtype=float32),\n",
        "  'instance': 'AS_G5690E04_R1750_STIP_TIP',\n",
        "  'magnitude': 0.0},\n",
        " {'coordinate': array([ 0.00475   , -0.03250693,  0.        ], dtype=float32),\n",
        "  'data': array([ 0.,  0.], dtype=float32),\n",
        "  'instance': 'AS_G5690E04_R1750_STIP_TIP',\n",
        "  'magnitude': 0.0},\n",
        " {'coordinate': array([ 0.005     , -0.03250693,  0.        ], dtype=float32),\n",
        "  'data': array([ 0.,  0.], dtype=float32),\n",
        "  'instance': 'AS_G5690E04_R1750_STIP_TIP',\n",
        "  'magnitude': 0.0},\n",
        " {'coordinate': array([ 0.00525   , -0.03250693,  0.        ], dtype=float32),\n",
        "  'data': array([ 0.,  0.], dtype=float32),\n",
        "  'instance': 'AS_G5690E04_R1750_STIP_TIP',\n",
        "  'magnitude': 0.0},\n",
        " {'coordinate': array([ 0.0055    , -0.03250693,  0.        ], dtype=float32),\n",
        "  'data': array([ 0.,  0.], dtype=float32),\n",
        "  'instance': 'AS_G5690E04_R1750_STIP_TIP',\n",
        "  'magnitude': 0.0},\n",
        " {'coordinate': array([ 0.00575   , -0.03250693,  0.        ], dtype=float32),\n",
        "  'data': array([ 0.,  0.], dtype=float32),\n",
        "  'instance': 'AS_G5690E04_R1750_STIP_TIP',\n",
        "  'magnitude': 0.0},\n",
        " {'coordinate': array([ 0.006     , -0.03250693,  0.        ], dtype=float32),\n",
        "  'data': array([ 0.,  0.], dtype=float32),\n",
        "  'instance': 'AS_G5690E04_R1750_STIP_TIP',\n",
        "  'magnitude': 0.0},\n",
        " {'coordinate': array([ 0.00625   , -0.03250693,  0.        ], dtype=float32),\n",
        "  'data': array([ 0.,  0.], dtype=float32),\n",
        "  'instance': 'AS_G5690E04_R1750_STIP_TIP',\n",
        "  'magnitude': 0.0},\n",
        " {'coordinate': array([ 0.0065    , -0.03250693,  0.        ], dtype=float32),\n",
        "  'data': array([ 0.,  0.], dtype=float32),\n",
        "  'instance': 'AS_G5690E04_R1750_STIP_TIP',\n",
        "  'magnitude': 0.0},\n",
        " {'coordinate': array([ 0.00675   , -0.03250693,  0.        ], dtype=float32),\n",
        "  'data': array([ 0.,  0.], dtype=float32),\n",
        "  'instance': 'AS_G5690E04_R1750_STIP_TIP',\n",
        "  'magnitude': 0.0},\n",
        " {'coordinate': array([ 0.007     , -0.03250693,  0.        ], dtype=float32),\n",
        "  'data': array([ 0.,  0.], dtype=float32),\n",
        "  'instance': 'AS_G5690E04_R1750_STIP_TIP',\n",
        "  'magnitude': 0.0},\n",
        " {'coordinate': array([ 0.00725   , -0.03250693,  0.        ], dtype=float32),\n",
        "  'data': array([ 0.,  0.], dtype=float32),\n",
        "  'instance': 'AS_G5690E04_R1750_STIP_TIP',\n",
        "  'magnitude': 0.0},\n",
        " {'coordinate': array([ 0.0075    , -0.03250693,  0.        ], dtype=float32),\n",
        "  'data': array([ 0.,  0.], dtype=float32),\n",
        "  'instance': 'AS_G5690E04_R1750_STIP_TIP',\n",
        "  'magnitude': 0.0},\n",
        " {'coordinate': array([ 0.00775   , -0.03250693,  0.        ], dtype=float32),\n",
        "  'data': array([ 0.,  0.], dtype=float32),\n",
        "  'instance': 'AS_G5690E04_R1750_STIP_TIP',\n",
        "  'magnitude': 0.0},\n",
        " {'coordinate': array([ 0.008     , -0.03250693,  0.        ], dtype=float32),\n",
        "  'data': array([ 0.,  0.], dtype=float32),\n",
        "  'instance': 'AS_G5690E04_R1750_STIP_TIP',\n",
        "  'magnitude': 0.0},\n",
        " {'coordinate': array([ 0.00825   , -0.03250693,  0.        ], dtype=float32),\n",
        "  'data': array([ 0.,  0.], dtype=float32),\n",
        "  'instance': 'AS_G5690E04_R1750_STIP_TIP',\n",
        "  'magnitude': 0.0},\n",
        " {'coordinate': array([ 0.0085    , -0.03250693,  0.        ], dtype=float32),\n",
        "  'data': array([ 0.,  0.], dtype=float32),\n",
        "  'instance': 'AS_G5690E04_R1750_STIP_TIP',\n",
        "  'magnitude': 0.0},\n",
        " {'coordinate': array([ 0.00875   , -0.03250693,  0.        ], dtype=float32),\n",
        "  'data': array([ 0.,  0.], dtype=float32),\n",
        "  'instance': 'AS_G5690E04_R1750_STIP_TIP',\n",
        "  'magnitude': 0.0},\n",
        " {'coordinate': array([ 0.009     , -0.03250693,  0.        ], dtype=float32),\n",
        "  'data': array([ 0.,  0.], dtype=float32),\n",
        "  'instance': 'AS_G5690E04_R1750_STIP_TIP',\n",
        "  'magnitude': 0.0},\n",
        " {'coordinate': array([ 0.00925   , -0.03250693,  0.        ], dtype=float32),\n",
        "  'data': array([ 0.,  0.], dtype=float32),\n",
        "  'instance': 'AS_G5690E04_R1750_STIP_TIP',\n",
        "  'magnitude': 0.0},\n",
        " {'coordinate': array([ 0.0095    , -0.03250693,  0.        ], dtype=float32),\n",
        "  'data': array([ 0.,  0.], dtype=float32),\n",
        "  'instance': 'AS_G5690E04_R1750_STIP_TIP',\n",
        "  'magnitude': 0.0},\n",
        " {'coordinate': array([ 0.00975   , -0.03250693,  0.        ], dtype=float32),\n",
        "  'data': array([ 0.,  0.], dtype=float32),\n",
        "  'instance': 'AS_G5690E04_R1750_STIP_TIP',\n",
        "  'magnitude': 0.0},\n",
        " {'coordinate': array([ 0.01      , -0.03250693,  0.        ], dtype=float32),\n",
        "  'data': array([ 0.,  0.], dtype=float32),\n",
        "  'instance': 'AS_G5690E04_R1750_STIP_TIP',\n",
        "  'magnitude': 0.0},\n",
        " {'coordinate': array([ 0.01025   , -0.03250693,  0.        ], dtype=float32),\n",
        "  'data': array([ 0.,  0.], dtype=float32),\n",
        "  'instance': 'AS_G5690E04_R1750_STIP_TIP',\n",
        "  'magnitude': 0.0},\n",
        " {'coordinate': array([ 0.0105    , -0.03250693,  0.        ], dtype=float32),\n",
        "  'data': array([ 0.,  0.], dtype=float32),\n",
        "  'instance': 'AS_G5690E04_R1750_STIP_TIP',\n",
        "  'magnitude': 0.0},\n",
        " {'coordinate': array([ 0.01075   , -0.03250693,  0.        ], dtype=float32),\n",
        "  'data': array([ 0.,  0.], dtype=float32),\n",
        "  'instance': 'AS_G5690E04_R1750_STIP_TIP',\n",
        "  'magnitude': 0.0},\n",
        " {'coordinate': array([ 0.011     , -0.03250693,  0.        ], dtype=float32),\n",
        "  'data': array([ 0.,  0.], dtype=float32),\n",
        "  'instance': 'AS_G5690E04_R1750_STIP_TIP',\n",
        "  'magnitude': 0.0},\n",
        " {'coordinate': array([ 0.01125   , -0.03250693,  0.        ], dtype=float32),\n",
        "  'data': array([ 0.,  0.], dtype=float32),\n",
        "  'instance': 'AS_G5690E04_R1750_STIP_TIP',\n",
        "  'magnitude': 0.0},\n",
        " {'coordinate': array([ 0.0115    , -0.03250693,  0.        ], dtype=float32),\n",
        "  'data': array([ 0.,  0.], dtype=float32),\n",
        "  'instance': 'AS_G5690E04_R1750_STIP_TIP',\n",
        "  'magnitude': 0.0},\n",
        " {'coordinate': array([ 0.01175   , -0.03250693,  0.        ], dtype=float32),\n",
        "  'data': array([ 0.,  0.], dtype=float32),\n",
        "  'instance': 'AS_G5690E04_R1750_STIP_TIP',\n",
        "  'magnitude': 0.0},\n",
        " {'coordinate': array([ 0.012     , -0.03250693,  0.        ], dtype=float32),\n",
        "  'data': array([ 0.,  0.], dtype=float32),\n",
        "  'instance': 'AS_G5690E04_R1750_STIP_TIP',\n",
        "  'magnitude': 0.0},\n",
        " {'coordinate': array([ 0.01225   , -0.03250693,  0.        ], dtype=float32),\n",
        "  'data': array([ 0.,  0.], dtype=float32),\n",
        "  'instance': 'AS_G5690E04_R1750_STIP_TIP',\n",
        "  'magnitude': 0.0},\n",
        " {'coordinate': array([ 0.0125    , -0.03250693,  0.        ], dtype=float32),\n",
        "  'data': array([ 0.,  0.], dtype=float32),\n",
        "  'instance': 'AS_G5690E04_R1750_STIP_TIP',\n",
        "  'magnitude': 0.0},\n",
        " {'coordinate': array([ 0.01275   , -0.03250693,  0.        ], dtype=float32),\n",
        "  'data': array([ 0.,  0.], dtype=float32),\n",
        "  'instance': 'AS_G5690E04_R1750_STIP_TIP',\n",
        "  'magnitude': 0.0},\n",
        " {'coordinate': array([ 0.013     , -0.03250693,  0.        ], dtype=float32),\n",
        "  'data': array([ 0.,  0.], dtype=float32),\n",
        "  'instance': 'AS_G5690E04_R1750_STIP_TIP',\n",
        "  'magnitude': 0.0},\n",
        " {'coordinate': array([ 0.01325   , -0.03250693,  0.        ], dtype=float32),\n",
        "  'data': array([ 0.,  0.], dtype=float32),\n",
        "  'instance': 'AS_G5690E04_R1750_STIP_TIP',\n",
        "  'magnitude': 0.0},\n",
        " {'coordinate': array([ 0.0135    , -0.03250693,  0.        ], dtype=float32),\n",
        "  'data': array([ 0.,  0.], dtype=float32),\n",
        "  'instance': 'AS_G5690E04_R1750_STIP_TIP',\n",
        "  'magnitude': 0.0},\n",
        " {'coordinate': array([ 0.01375   , -0.03250693,  0.        ], dtype=float32),\n",
        "  'data': array([ 0.,  0.], dtype=float32),\n",
        "  'instance': 'AS_G5690E04_R1750_STIP_TIP',\n",
        "  'magnitude': 0.0},\n",
        " {'coordinate': array([ 0.014     , -0.03250693,  0.        ], dtype=float32),\n",
        "  'data': array([ 0.,  0.], dtype=float32),\n",
        "  'instance': 'AS_G5690E04_R1750_STIP_TIP',\n",
        "  'magnitude': 0.0},\n",
        " {'coordinate': array([ 0.01425   , -0.03250693,  0.        ], dtype=float32),\n",
        "  'data': array([ 0.,  0.], dtype=float32),\n",
        "  'instance': 'AS_G5690E04_R1750_STIP_TIP',\n",
        "  'magnitude': 0.0},\n",
        " {'coordinate': array([ 0.0145    , -0.03250693,  0.        ], dtype=float32),\n",
        "  'data': array([ 0.,  0.], dtype=float32),\n",
        "  'instance': 'AS_G5690E04_R1750_STIP_TIP',\n",
        "  'magnitude': 0.0},\n",
        " {'coordinate': array([ 0.01475   , -0.03250693,  0.        ], dtype=float32),\n",
        "  'data': array([ 0.,  0.], dtype=float32),\n",
        "  'instance': 'AS_G5690E04_R1750_STIP_TIP',\n",
        "  'magnitude': 0.0},\n",
        " {'coordinate': array([ 0.015     , -0.03250693,  0.        ], dtype=float32),\n",
        "  'data': array([ 0.,  0.], dtype=float32),\n",
        "  'instance': 'AS_G5690E04_R1750_STIP_TIP',\n",
        "  'magnitude': 0.0},\n",
        " {'coordinate': array([ 0.01525   , -0.03250693,  0.        ], dtype=float32),\n",
        "  'data': array([ 0.,  0.], dtype=float32),\n",
        "  'instance': 'AS_G5690E04_R1750_STIP_TIP',\n",
        "  'magnitude': 0.0},\n",
        " {'coordinate': array([ 0.0155    , -0.03250693,  0.        ], dtype=float32),\n",
        "  'data': array([ 0.,  0.], dtype=float32),\n",
        "  'instance': 'AS_G5690E04_R1750_STIP_TIP',\n",
        "  'magnitude': 0.0},\n",
        " {'coordinate': array([ 0.01575   , -0.03250693,  0.        ], dtype=float32),\n",
        "  'data': array([ 0.,  0.], dtype=float32),\n",
        "  'instance': 'AS_G5690E04_R1750_STIP_TIP',\n",
        "  'magnitude': 0.0},\n",
        " {'coordinate': array([ 0.016     , -0.03250693,  0.        ], dtype=float32),\n",
        "  'data': array([ 0.,  0.], dtype=float32),\n",
        "  'instance': 'AS_G5690E04_R1750_STIP_TIP',\n",
        "  'magnitude': 0.0},\n",
        " {'coordinate': array([ 0.01625   , -0.03250693,  0.        ], dtype=float32),\n",
        "  'data': array([ 0.,  0.], dtype=float32),\n",
        "  'instance': 'AS_G5690E04_R1750_STIP_TIP',\n",
        "  'magnitude': 0.0},\n",
        " {'coordinate': array([ 0.0165    , -0.03250693,  0.        ], dtype=float32),\n",
        "  'data': array([ 0.,  0.], dtype=float32),\n",
        "  'instance': 'AS_G5690E04_R1750_STIP_TIP',\n",
        "  'magnitude': 0.0},\n",
        " {'coordinate': array([ 0.01675   , -0.03250693,  0.        ], dtype=float32),\n",
        "  'data': array([ 0.,  0.], dtype=float32),\n",
        "  'instance': 'AS_G5690E04_R1750_STIP_TIP',\n",
        "  'magnitude': 0.0},\n",
        " {'coordinate': array([ 0.017     , -0.03250693,  0.        ], dtype=float32),\n",
        "  'data': array([ 0.,  0.], dtype=float32),\n",
        "  'instance': 'AS_G5690E04_R1750_STIP_TIP',\n",
        "  'magnitude': 0.0},\n",
        " {'coordinate': array([ 0.01725   , -0.03250693,  0.        ], dtype=float32),\n",
        "  'data': array([ 0.,  0.], dtype=float32),\n",
        "  'instance': 'AS_G5690E04_R1750_STIP_TIP',\n",
        "  'magnitude': 0.0},\n",
        " {'coordinate': array([ 0.0175    , -0.03250693,  0.        ], dtype=float32),\n",
        "  'data': array([ 0.,  0.], dtype=float32),\n",
        "  'instance': 'AS_G5690E04_R1750_STIP_TIP',\n",
        "  'magnitude': 0.0},\n",
        " {'coordinate': array([ 0.        , -0.03015789,  0.        ], dtype=float32),\n",
        "  'data': array([ 0.,  0.], dtype=float32),\n",
        "  'instance': 'AS_G5690E04_R1750_STIP_TIP',\n",
        "  'magnitude': 0.0},\n",
        " {'coordinate': array([ 0.00025   , -0.03015789,  0.        ], dtype=float32),\n",
        "  'data': array([ 0.,  0.], dtype=float32),\n",
        "  'instance': 'AS_G5690E04_R1750_STIP_TIP',\n",
        "  'magnitude': 0.0},\n",
        " {'coordinate': array([ 0.0005    , -0.03015789,  0.        ], dtype=float32),\n",
        "  'data': array([ 0.,  0.], dtype=float32),\n",
        "  'instance': 'AS_G5690E04_R1750_STIP_TIP',\n",
        "  'magnitude': 0.0},\n",
        " {'coordinate': array([ 0.00075   , -0.03015789,  0.        ], dtype=float32),\n",
        "  'data': array([ 0.,  0.], dtype=float32),\n",
        "  'instance': 'AS_G5690E04_R1750_STIP_TIP',\n",
        "  'magnitude': 0.0},\n",
        " {'coordinate': array([ 0.001     , -0.03015789,  0.        ], dtype=float32),\n",
        "  'data': array([ 0.,  0.], dtype=float32),\n",
        "  'instance': 'AS_G5690E04_R1750_STIP_TIP',\n",
        "  'magnitude': 0.0},\n",
        " {'coordinate': array([ 0.00125   , -0.03015789,  0.        ], dtype=float32),\n",
        "  'data': array([ 0.,  0.], dtype=float32),\n",
        "  'instance': 'AS_G5690E04_R1750_STIP_TIP',\n",
        "  'magnitude': 0.0},\n",
        " {'coordinate': array([ 0.0015    , -0.03015789,  0.        ], dtype=float32),\n",
        "  'data': array([ 0.,  0.], dtype=float32),\n",
        "  'instance': 'AS_G5690E04_R1750_STIP_TIP',\n",
        "  'magnitude': 0.0},\n",
        " {'coordinate': array([ 0.00175   , -0.03015789,  0.        ], dtype=float32),\n",
        "  'data': array([ 0.,  0.], dtype=float32),\n",
        "  'instance': 'AS_G5690E04_R1750_STIP_TIP',\n",
        "  'magnitude': 0.0},\n",
        " {'coordinate': array([ 0.002     , -0.03015789,  0.        ], dtype=float32),\n",
        "  'data': array([ 0.,  0.], dtype=float32),\n",
        "  'instance': 'AS_G5690E04_R1750_STIP_TIP',\n",
        "  'magnitude': 0.0},\n",
        " {'coordinate': array([ 0.00225   , -0.03015789,  0.        ], dtype=float32),\n",
        "  'data': array([ 0.,  0.], dtype=float32),\n",
        "  'instance': 'AS_G5690E04_R1750_STIP_TIP',\n",
        "  'magnitude': 0.0},\n",
        " {'coordinate': array([ 0.0025    , -0.03015789,  0.        ], dtype=float32),\n",
        "  'data': array([ 0.,  0.], dtype=float32),\n",
        "  'instance': 'AS_G5690E04_R1750_STIP_TIP',\n",
        "  'magnitude': 0.0},\n",
        " {'coordinate': array([ 0.00275   , -0.03015789,  0.        ], dtype=float32),\n",
        "  'data': array([ 0.,  0.], dtype=float32),\n",
        "  'instance': 'AS_G5690E04_R1750_STIP_TIP',\n",
        "  'magnitude': 0.0},\n",
        " {'coordinate': array([ 0.003     , -0.03015789,  0.        ], dtype=float32),\n",
        "  'data': array([ 0.,  0.], dtype=float32),\n",
        "  'instance': 'AS_G5690E04_R1750_STIP_TIP',\n",
        "  'magnitude': 0.0},\n",
        " {'coordinate': array([ 0.00325   , -0.03015789,  0.        ], dtype=float32),\n",
        "  'data': array([ 0.,  0.], dtype=float32),\n",
        "  'instance': 'AS_G5690E04_R1750_STIP_TIP',\n",
        "  'magnitude': 0.0},\n",
        " {'coordinate': array([ 0.0035    , -0.03015789,  0.        ], dtype=float32),\n",
        "  'data': array([ 0.,  0.], dtype=float32),\n",
        "  'instance': 'AS_G5690E04_R1750_STIP_TIP',\n",
        "  'magnitude': 0.0},\n",
        " {'coordinate': array([ 0.00375   , -0.03015789,  0.        ], dtype=float32),\n",
        "  'data': array([ 0.,  0.], dtype=float32),\n",
        "  'instance': 'AS_G5690E04_R1750_STIP_TIP',\n",
        "  'magnitude': 0.0},\n",
        " {'coordinate': array([ 0.004     , -0.03015789,  0.        ], dtype=float32),\n",
        "  'data': array([ 0.,  0.], dtype=float32),\n",
        "  'instance': 'AS_G5690E04_R1750_STIP_TIP',\n",
        "  'magnitude': 0.0},\n",
        " {'coordinate': array([ 0.00425   , -0.03015789,  0.        ], dtype=float32),\n",
        "  'data': array([ 0.,  0.], dtype=float32),\n",
        "  'instance': 'AS_G5690E04_R1750_STIP_TIP',\n",
        "  'magnitude': 0.0},\n",
        " {'coordinate': array([ 0.0045    , -0.03015789,  0.        ], dtype=float32),\n",
        "  'data': array([ 0.,  0.], dtype=float32),\n",
        "  'instance': 'AS_G5690E04_R1750_STIP_TIP',\n",
        "  'magnitude': 0.0},\n",
        " {'coordinate': array([ 0.00475   , -0.03015789,  0.        ], dtype=float32),\n",
        "  'data': array([ 0.,  0.], dtype=float32),\n",
        "  'instance': 'AS_G5690E04_R1750_STIP_TIP',\n",
        "  'magnitude': 0.0},\n",
        " {'coordinate': array([ 0.005     , -0.03015789,  0.        ], dtype=float32),\n",
        "  'data': array([ 0.,  0.], dtype=float32),\n",
        "  'instance': 'AS_G5690E04_R1750_STIP_TIP',\n",
        "  'magnitude': 0.0},\n",
        " {'coordinate': array([ 0.00525   , -0.03015789,  0.        ], dtype=float32),\n",
        "  'data': array([ 0.,  0.], dtype=float32),\n",
        "  'instance': 'AS_G5690E04_R1750_STIP_TIP',\n",
        "  'magnitude': 0.0},\n",
        " {'coordinate': array([ 0.0055    , -0.03015789,  0.        ], dtype=float32),\n",
        "  'data': array([ 0.,  0.], dtype=float32),\n",
        "  'instance': 'AS_G5690E04_R1750_STIP_TIP',\n",
        "  'magnitude': 0.0},\n",
        " {'coordinate': array([ 0.00575   , -0.03015789,  0.        ], dtype=float32),\n",
        "  'data': array([ 0.,  0.], dtype=float32),\n",
        "  'instance': 'AS_G5690E04_R1750_STIP_TIP',\n",
        "  'magnitude': 0.0},\n",
        " {'coordinate': array([ 0.006     , -0.03015789,  0.        ], dtype=float32),\n",
        "  'data': array([ 0.,  0.], dtype=float32),\n",
        "  'instance': 'AS_G5690E04_R1750_STIP_TIP',\n",
        "  'magnitude': 0.0},\n",
        " {'coordinate': array([ 0.00625   , -0.03015789,  0.        ], dtype=float32),\n",
        "  'data': array([ 0.,  0.], dtype=float32),\n",
        "  'instance': 'AS_G5690E04_R1750_STIP_TIP',\n",
        "  'magnitude': 0.0},\n",
        " {'coordinate': array([ 0.0065    , -0.03015789,  0.        ], dtype=float32),\n",
        "  'data': array([ 0.,  0.], dtype=float32),\n",
        "  'instance': 'AS_G5690E04_R1750_STIP_TIP',\n",
        "  'magnitude': 0.0},\n",
        " {'coordinate': array([ 0.00675   , -0.03015789,  0.        ], dtype=float32),\n",
        "  'data': array([ 0.,  0.], dtype=float32),\n",
        "  'instance': 'AS_G5690E04_R1750_STIP_TIP',\n",
        "  'magnitude': 0.0},\n",
        " {'coordinate': array([ 0.007     , -0.03015789,  0.        ], dtype=float32),\n",
        "  'data': array([ 0.,  0.], dtype=float32),\n",
        "  'instance': 'AS_G5690E04_R1750_STIP_TIP',\n",
        "  'magnitude': 0.0},\n",
        " {'coordinate': array([ 0.00725   , -0.03015789,  0.        ], dtype=float32),\n",
        "  'data': array([ 0.,  0.], dtype=float32),\n",
        "  'instance': 'AS_G5690E04_R1750_STIP_TIP',\n",
        "  'magnitude': 0.0},\n",
        " {'coordinate': array([ 0.0075    , -0.03015789,  0.        ], dtype=float32),\n",
        "  'data': array([ 0.,  0.], dtype=float32),\n",
        "  'instance': 'AS_G5690E04_R1750_STIP_TIP',\n",
        "  'magnitude': 0.0},\n",
        " {'coordinate': array([ 0.00775   , -0.03015789,  0.        ], dtype=float32),\n",
        "  'data': array([ 0.,  0.], dtype=float32),\n",
        "  'instance': 'AS_G5690E04_R1750_STIP_TIP',\n",
        "  'magnitude': 0.0},\n",
        " {'coordinate': array([ 0.008     , -0.03015789,  0.        ], dtype=float32),\n",
        "  'data': array([ 0.,  0.], dtype=float32),\n",
        "  'instance': 'AS_G5690E04_R1750_STIP_TIP',\n",
        "  'magnitude': 0.0},\n",
        " {'coordinate': array([ 0.00825   , -0.03015789,  0.        ], dtype=float32),\n",
        "  'data': array([ 0.,  0.], dtype=float32),\n",
        "  'instance': 'AS_G5690E04_R1750_STIP_TIP',\n",
        "  'magnitude': 0.0},\n",
        " {'coordinate': array([ 0.0085    , -0.03015789,  0.        ], dtype=float32),\n",
        "  'data': array([ 0.,  0.], dtype=float32),\n",
        "  'instance': 'AS_G5690E04_R1750_STIP_TIP',\n",
        "  'magnitude': 0.0},\n",
        " {'coordinate': array([ 0.00875   , -0.03015789,  0.        ], dtype=float32),\n",
        "  'data': array([ 0.,  0.], dtype=float32),\n",
        "  'instance': 'AS_G5690E04_R1750_STIP_TIP',\n",
        "  'magnitude': 0.0},\n",
        " {'coordinate': array([ 0.009     , -0.03015789,  0.        ], dtype=float32),\n",
        "  'data': array([ 0.,  0.], dtype=float32),\n",
        "  'instance': 'AS_G5690E04_R1750_STIP_TIP',\n",
        "  'magnitude': 0.0},\n",
        " {'coordinate': array([ 0.00925   , -0.03015789,  0.        ], dtype=float32),\n",
        "  'data': array([ 0.,  0.], dtype=float32),\n",
        "  'instance': 'AS_G5690E04_R1750_STIP_TIP',\n",
        "  'magnitude': 0.0},\n",
        " {'coordinate': array([ 0.0095    , -0.03015789,  0.        ], dtype=float32),\n",
        "  'data': array([ 0.,  0.], dtype=float32),\n",
        "  'instance': 'AS_G5690E04_R1750_STIP_TIP',\n",
        "  'magnitude': 0.0},\n",
        " {'coordinate': array([ 0.00975   , -0.03015789,  0.        ], dtype=float32),\n",
        "  'data': array([ 0.,  0.], dtype=float32),\n",
        "  'instance': 'AS_G5690E04_R1750_STIP_TIP',\n",
        "  'magnitude': 0.0},\n",
        " {'coordinate': array([ 0.01      , -0.03015789,  0.        ], dtype=float32),\n",
        "  'data': array([ 0.,  0.], dtype=float32),\n",
        "  'instance': 'AS_G5690E04_R1750_STIP_TIP',\n",
        "  'magnitude': 0.0},\n",
        " {'coordinate': array([ 0.01025   , -0.03015789,  0.        ], dtype=float32),\n",
        "  'data': array([ 0.,  0.], dtype=float32),\n",
        "  'instance': 'AS_G5690E04_R1750_STIP_TIP',\n",
        "  'magnitude': 0.0},\n",
        " {'coordinate': array([ 0.0105    , -0.03015789,  0.        ], dtype=float32),\n",
        "  'data': array([ 0.,  0.], dtype=float32),\n",
        "  'instance': 'AS_G5690E04_R1750_STIP_TIP',\n",
        "  'magnitude': 0.0},\n",
        " {'coordinate': array([ 0.01075   , -0.03015789,  0.        ], dtype=float32),\n",
        "  'data': array([ 0.,  0.], dtype=float32),\n",
        "  'instance': 'AS_G5690E04_R1750_STIP_TIP',\n",
        "  'magnitude': 0.0},\n",
        " {'coordinate': array([ 0.011     , -0.03015789,  0.        ], dtype=float32),\n",
        "  'data': array([ 0.,  0.], dtype=float32),\n",
        "  'instance': 'AS_G5690E04_R1750_STIP_TIP',\n",
        "  'magnitude': 0.0},\n",
        " {'coordinate': array([ 0.01125   , -0.03015789,  0.        ], dtype=float32),\n",
        "  'data': array([ 0.,  0.], dtype=float32),\n",
        "  'instance': 'AS_G5690E04_R1750_STIP_TIP',\n",
        "  'magnitude': 0.0},\n",
        " {'coordinate': array([ 0.0115    , -0.03015789,  0.        ], dtype=float32),\n",
        "  'data': array([ 0.,  0.], dtype=float32),\n",
        "  'instance': 'AS_G5690E04_R1750_STIP_TIP',\n",
        "  'magnitude': 0.0},\n",
        " {'coordinate': array([ 0.01175   , -0.03015789,  0.        ], dtype=float32),\n",
        "  'data': array([ 0.,  0.], dtype=float32),\n",
        "  'instance': 'AS_G5690E04_R1750_STIP_TIP',\n",
        "  'magnitude': 0.0},\n",
        " {'coordinate': array([ 0.012     , -0.03015789,  0.        ], dtype=float32),\n",
        "  'data': array([ 0.,  0.], dtype=float32),\n",
        "  'instance': 'AS_G5690E04_R1750_STIP_TIP',\n",
        "  'magnitude': 0.0},\n",
        " {'coordinate': array([ 0.01225   , -0.03015789,  0.        ], dtype=float32),\n",
        "  'data': array([ 0.,  0.], dtype=float32),\n",
        "  'instance': 'AS_G5690E04_R1750_STIP_TIP',\n",
        "  'magnitude': 0.0},\n",
        " {'coordinate': array([ 0.0125    , -0.03015789,  0.        ], dtype=float32),\n",
        "  'data': array([ 0.,  0.], dtype=float32),\n",
        "  'instance': 'AS_G5690E04_R1750_STIP_TIP',\n",
        "  'magnitude': 0.0},\n",
        " {'coordinate': array([ 0.01275   , -0.03015789,  0.        ], dtype=float32),\n",
        "  'data': array([ 0.,  0.], dtype=float32),\n",
        "  'instance': 'AS_G5690E04_R1750_STIP_TIP',\n",
        "  'magnitude': 0.0},\n",
        " {'coordinate': array([ 0.013     , -0.03015789,  0.        ], dtype=float32),\n",
        "  'data': array([ 0.,  0.], dtype=float32),\n",
        "  'instance': 'AS_G5690E04_R1750_STIP_TIP',\n",
        "  'magnitude': 0.0},\n",
        " {'coordinate': array([ 0.01325   , -0.03015789,  0.        ], dtype=float32),\n",
        "  'data': array([ 0.,  0.], dtype=float32),\n",
        "  'instance': 'AS_G5690E04_R1750_STIP_TIP',\n",
        "  'magnitude': 0.0},\n",
        " {'coordinate': array([ 0.0135    , -0.03015789,  0.        ], dtype=float32),\n",
        "  'data': array([ 0.,  0.], dtype=float32),\n",
        "  'instance': 'AS_G5690E04_R1750_STIP_TIP',\n",
        "  'magnitude': 0.0},\n",
        " {'coordinate': array([ 0.01375   , -0.03015789,  0.        ], dtype=float32),\n",
        "  'data': array([ 0.,  0.], dtype=float32),\n",
        "  'instance': 'AS_G5690E04_R1750_STIP_TIP',\n",
        "  'magnitude': 0.0},\n",
        " {'coordinate': array([ 0.014     , -0.03015789,  0.        ], dtype=float32),\n",
        "  'data': array([ 0.,  0.], dtype=float32),\n",
        "  'instance': 'AS_G5690E04_R1750_STIP_TIP',\n",
        "  'magnitude': 0.0},\n",
        " {'coordinate': array([ 0.01425   , -0.03015789,  0.        ], dtype=float32),\n",
        "  'data': array([ 0.,  0.], dtype=float32),\n",
        "  'instance': 'AS_G5690E04_R1750_STIP_TIP',\n",
        "  'magnitude': 0.0},\n",
        " {'coordinate': array([ 0.0145    , -0.03015789,  0.        ], dtype=float32),\n",
        "  'data': array([ 0.,  0.], dtype=float32),\n",
        "  'instance': 'AS_G5690E04_R1750_STIP_TIP',\n",
        "  'magnitude': 0.0},\n",
        " {'coordinate': array([ 0.01475   , -0.03015789,  0.        ], dtype=float32),\n",
        "  'data': array([ 0.,  0.], dtype=float32),\n",
        "  'instance': 'AS_G5690E04_R1750_STIP_TIP',\n",
        "  'magnitude': 0.0},\n",
        " {'coordinate': array([ 0.015     , -0.03015789,  0.        ], dtype=float32),\n",
        "  'data': array([ 0.,  0.], dtype=float32),\n",
        "  'instance': 'AS_G5690E04_R1750_STIP_TIP',\n",
        "  'magnitude': 0.0},\n",
        " {'coordinate': array([ 0.01525   , -0.03015789,  0.        ], dtype=float32),\n",
        "  'data': array([ 0.,  0.], dtype=float32),\n",
        "  'instance': 'AS_G5690E04_R1750_STIP_TIP',\n",
        "  'magnitude': 0.0},\n",
        " {'coordinate': array([ 0.0155    , -0.03015789,  0.        ], dtype=float32),\n",
        "  'data': array([ 0.,  0.], dtype=float32),\n",
        "  'instance': 'AS_G5690E04_R1750_STIP_TIP',\n",
        "  'magnitude': 0.0},\n",
        " {'coordinate': array([ 0.01575   , -0.03015789,  0.        ], dtype=float32),\n",
        "  'data': array([ 0.,  0.], dtype=float32),\n",
        "  'instance': 'AS_G5690E04_R1750_STIP_TIP',\n",
        "  'magnitude': 0.0},\n",
        " {'coordinate': array([ 0.016     , -0.03015789,  0.        ], dtype=float32),\n",
        "  'data': array([ 0.,  0.], dtype=float32),\n",
        "  'instance': 'AS_G5690E04_R1750_STIP_TIP',\n",
        "  'magnitude': 0.0},\n",
        " {'coordinate': array([ 0.01625   , -0.03015789,  0.        ], dtype=float32),\n",
        "  'data': array([ 0.,  0.], dtype=float32),\n",
        "  'instance': 'AS_G5690E04_R1750_STIP_TIP',\n",
        "  'magnitude': 0.0},\n",
        " {'coordinate': array([ 0.0165    , -0.03015789,  0.        ], dtype=float32),\n",
        "  'data': array([ 0.,  0.], dtype=float32),\n",
        "  'instance': 'AS_G5690E04_R1750_STIP_TIP',\n",
        "  'magnitude': 0.0},\n",
        " {'coordinate': array([ 0.01675   , -0.03015789,  0.        ], dtype=float32),\n",
        "  'data': array([ 0.,  0.], dtype=float32),\n",
        "  'instance': 'AS_G5690E04_R1750_STIP_TIP',\n",
        "  'magnitude': 0.0},\n",
        " {'coordinate': array([ 0.017     , -0.03015789,  0.        ], dtype=float32),\n",
        "  'data': array([ 0.,  0.], dtype=float32),\n",
        "  'instance': 'AS_G5690E04_R1750_STIP_TIP',\n",
        "  'magnitude': 0.0},\n",
        " {'coordinate': array([ 0.01725   , -0.03015789,  0.        ], dtype=float32),\n",
        "  'data': array([ 0.,  0.], dtype=float32),\n",
        "  'instance': 'AS_G5690E04_R1750_STIP_TIP',\n",
        "  'magnitude': 0.0},\n",
        " {'coordinate': array([ 0.0175    , -0.03015789,  0.        ], dtype=float32),\n",
        "  'data': array([ 0.,  0.], dtype=float32),\n",
        "  'instance': 'AS_G5690E04_R1750_STIP_TIP',\n",
        "  'magnitude': 0.0},\n",
        " {'coordinate': array([ 0.        , -0.02794455,  0.        ], dtype=float32),\n",
        "  'data': array([ 0.,  0.], dtype=float32),\n",
        "  'instance': 'AS_G5690E04_R1750_STIP_TIP',\n",
        "  'magnitude': 0.0},\n",
        " {'coordinate': array([ 0.00025   , -0.02794455,  0.        ], dtype=float32),\n",
        "  'data': array([ 0.,  0.], dtype=float32),\n",
        "  'instance': 'AS_G5690E04_R1750_STIP_TIP',\n",
        "  'magnitude': 0.0},\n",
        " {'coordinate': array([ 0.0005    , -0.02794455,  0.        ], dtype=float32),\n",
        "  'data': array([ 0.,  0.], dtype=float32),\n",
        "  'instance': 'AS_G5690E04_R1750_STIP_TIP',\n",
        "  'magnitude': 0.0},\n",
        " {'coordinate': array([ 0.00075   , -0.02794455,  0.        ], dtype=float32),\n",
        "  'data': array([ 0.,  0.], dtype=float32),\n",
        "  'instance': 'AS_G5690E04_R1750_STIP_TIP',\n",
        "  'magnitude': 0.0},\n",
        " {'coordinate': array([ 0.001     , -0.02794455,  0.        ], dtype=float32),\n",
        "  'data': array([ 0.,  0.], dtype=float32),\n",
        "  'instance': 'AS_G5690E04_R1750_STIP_TIP',\n",
        "  'magnitude': 0.0},\n",
        " {'coordinate': array([ 0.00125   , -0.02794455,  0.        ], dtype=float32),\n",
        "  'data': array([ 0.,  0.], dtype=float32),\n",
        "  'instance': 'AS_G5690E04_R1750_STIP_TIP',\n",
        "  'magnitude': 0.0},\n",
        " {'coordinate': array([ 0.0015    , -0.02794455,  0.        ], dtype=float32),\n",
        "  'data': array([ 0.,  0.], dtype=float32),\n",
        "  'instance': 'AS_G5690E04_R1750_STIP_TIP',\n",
        "  'magnitude': 0.0},\n",
        " {'coordinate': array([ 0.00175   , -0.02794455,  0.        ], dtype=float32),\n",
        "  'data': array([ 0.,  0.], dtype=float32),\n",
        "  'instance': 'AS_G5690E04_R1750_STIP_TIP',\n",
        "  'magnitude': 0.0},\n",
        " {'coordinate': array([ 0.002     , -0.02794455,  0.        ], dtype=float32),\n",
        "  'data': array([ 0.,  0.], dtype=float32),\n",
        "  'instance': 'AS_G5690E04_R1750_STIP_TIP',\n",
        "  'magnitude': 0.0},\n",
        " {'coordinate': array([ 0.00225   , -0.02794455,  0.        ], dtype=float32),\n",
        "  'data': array([ 0.,  0.], dtype=float32),\n",
        "  'instance': 'AS_G5690E04_R1750_STIP_TIP',\n",
        "  'magnitude': 0.0},\n",
        " {'coordinate': array([ 0.0025    , -0.02794455,  0.        ], dtype=float32),\n",
        "  'data': array([ 0.,  0.], dtype=float32),\n",
        "  'instance': 'AS_G5690E04_R1750_STIP_TIP',\n",
        "  'magnitude': 0.0},\n",
        " {'coordinate': array([ 0.00275   , -0.02794455,  0.        ], dtype=float32),\n",
        "  'data': array([ 0.,  0.], dtype=float32),\n",
        "  'instance': 'AS_G5690E04_R1750_STIP_TIP',\n",
        "  'magnitude': 0.0},\n",
        " {'coordinate': array([ 0.003     , -0.02794455,  0.        ], dtype=float32),\n",
        "  'data': array([ 0.,  0.], dtype=float32),\n",
        "  'instance': 'AS_G5690E04_R1750_STIP_TIP',\n",
        "  'magnitude': 0.0},\n",
        " {'coordinate': array([ 0.00325   , -0.02794455,  0.        ], dtype=float32),\n",
        "  'data': array([ 0.,  0.], dtype=float32),\n",
        "  'instance': 'AS_G5690E04_R1750_STIP_TIP',\n",
        "  'magnitude': 0.0},\n",
        " {'coordinate': array([ 0.0035    , -0.02794455,  0.        ], dtype=float32),\n",
        "  'data': array([ 0.,  0.], dtype=float32),\n",
        "  'instance': 'AS_G5690E04_R1750_STIP_TIP',\n",
        "  'magnitude': 0.0},\n",
        " {'coordinate': array([ 0.00375   , -0.02794455,  0.        ], dtype=float32),\n",
        "  'data': array([ 0.,  0.], dtype=float32),\n",
        "  'instance': 'AS_G5690E04_R1750_STIP_TIP',\n",
        "  'magnitude': 0.0},\n",
        " {'coordinate': array([ 0.004     , -0.02794455,  0.        ], dtype=float32),\n",
        "  'data': array([ 0.,  0.], dtype=float32),\n",
        "  'instance': 'AS_G5690E04_R1750_STIP_TIP',\n",
        "  'magnitude': 0.0},\n",
        " {'coordinate': array([ 0.00425   , -0.02794455,  0.        ], dtype=float32),\n",
        "  'data': array([ 0.,  0.], dtype=float32),\n",
        "  'instance': 'AS_G5690E04_R1750_STIP_TIP',\n",
        "  'magnitude': 0.0},\n",
        " {'coordinate': array([ 0.0045    , -0.02794455,  0.        ], dtype=float32),\n",
        "  'data': array([ 0.,  0.], dtype=float32),\n",
        "  'instance': 'AS_G5690E04_R1750_STIP_TIP',\n",
        "  'magnitude': 0.0},\n",
        " {'coordinate': array([ 0.00475   , -0.02794455,  0.        ], dtype=float32),\n",
        "  'data': array([ 0.,  0.], dtype=float32),\n",
        "  'instance': 'AS_G5690E04_R1750_STIP_TIP',\n",
        "  'magnitude': 0.0},\n",
        " {'coordinate': array([ 0.005     , -0.02794455,  0.        ], dtype=float32),\n",
        "  'data': array([ 0.,  0.], dtype=float32),\n",
        "  'instance': 'AS_G5690E04_R1750_STIP_TIP',\n",
        "  'magnitude': 0.0},\n",
        " {'coordinate': array([ 0.00525   , -0.02794455,  0.        ], dtype=float32),\n",
        "  'data': array([ 0.,  0.], dtype=float32),\n",
        "  'instance': 'AS_G5690E04_R1750_STIP_TIP',\n",
        "  'magnitude': 0.0},\n",
        " {'coordinate': array([ 0.0055    , -0.02794455,  0.        ], dtype=float32),\n",
        "  'data': array([ 0.,  0.], dtype=float32),\n",
        "  'instance': 'AS_G5690E04_R1750_STIP_TIP',\n",
        "  'magnitude': 0.0},\n",
        " {'coordinate': array([ 0.00575   , -0.02794455,  0.        ], dtype=float32),\n",
        "  'data': array([ 0.,  0.], dtype=float32),\n",
        "  'instance': 'AS_G5690E04_R1750_STIP_TIP',\n",
        "  'magnitude': 0.0},\n",
        " {'coordinate': array([ 0.006     , -0.02794455,  0.        ], dtype=float32),\n",
        "  'data': array([ 0.,  0.], dtype=float32),\n",
        "  'instance': 'AS_G5690E04_R1750_STIP_TIP',\n",
        "  'magnitude': 0.0},\n",
        " {'coordinate': array([ 0.00625   , -0.02794455,  0.        ], dtype=float32),\n",
        "  'data': array([ 0.,  0.], dtype=float32),\n",
        "  'instance': 'AS_G5690E04_R1750_STIP_TIP',\n",
        "  'magnitude': 0.0},\n",
        " {'coordinate': array([ 0.0065    , -0.02794455,  0.        ], dtype=float32),\n",
        "  'data': array([ 0.,  0.], dtype=float32),\n",
        "  'instance': 'AS_G5690E04_R1750_STIP_TIP',\n",
        "  'magnitude': 0.0},\n",
        " {'coordinate': array([ 0.00675   , -0.02794455,  0.        ], dtype=float32),\n",
        "  'data': array([ 0.,  0.], dtype=float32),\n",
        "  'instance': 'AS_G5690E04_R1750_STIP_TIP',\n",
        "  'magnitude': 0.0},\n",
        " {'coordinate': array([ 0.007     , -0.02794455,  0.        ], dtype=float32),\n",
        "  'data': array([ 0.,  0.], dtype=float32),\n",
        "  'instance': 'AS_G5690E04_R1750_STIP_TIP',\n",
        "  'magnitude': 0.0},\n",
        " {'coordinate': array([ 0.00725   , -0.02794455,  0.        ], dtype=float32),\n",
        "  'data': array([ 0.,  0.], dtype=float32),\n",
        "  'instance': 'AS_G5690E04_R1750_STIP_TIP',\n",
        "  'magnitude': 0.0},\n",
        " {'coordinate': array([ 0.0075    , -0.02794455,  0.        ], dtype=float32),\n",
        "  'data': array([ 0.,  0.], dtype=float32),\n",
        "  'instance': 'AS_G5690E04_R1750_STIP_TIP',\n",
        "  'magnitude': 0.0},\n",
        " {'coordinate': array([ 0.00775   , -0.02794455,  0.        ], dtype=float32),\n",
        "  'data': array([ 0.,  0.], dtype=float32),\n",
        "  'instance': 'AS_G5690E04_R1750_STIP_TIP',\n",
        "  'magnitude': 0.0},\n",
        " {'coordinate': array([ 0.008     , -0.02794455,  0.        ], dtype=float32),\n",
        "  'data': array([ 0.,  0.], dtype=float32),\n",
        "  'instance': 'AS_G5690E04_R1750_STIP_TIP',\n",
        "  'magnitude': 0.0},\n",
        " {'coordinate': array([ 0.00825   , -0.02794455,  0.        ], dtype=float32),\n",
        "  'data': array([ 0.,  0.], dtype=float32),\n",
        "  'instance': 'AS_G5690E04_R1750_STIP_TIP',\n",
        "  'magnitude': 0.0},\n",
        " {'coordinate': array([ 0.0085    , -0.02794455,  0.        ], dtype=float32),\n",
        "  'data': array([ 0.,  0.], dtype=float32),\n",
        "  'instance': 'AS_G5690E04_R1750_STIP_TIP',\n",
        "  'magnitude': 0.0},\n",
        " {'coordinate': array([ 0.00875   , -0.02794455,  0.        ], dtype=float32),\n",
        "  'data': array([ 0.,  0.], dtype=float32),\n",
        "  'instance': 'AS_G5690E04_R1750_STIP_TIP',\n",
        "  'magnitude': 0.0},\n",
        " {'coordinate': array([ 0.009     , -0.02794455,  0.        ], dtype=float32),\n",
        "  'data': array([ 0.,  0.], dtype=float32),\n",
        "  'instance': 'AS_G5690E04_R1750_STIP_TIP',\n",
        "  'magnitude': 0.0},\n",
        " {'coordinate': array([ 0.00925   , -0.02794455,  0.        ], dtype=float32),\n",
        "  'data': array([ 0.,  0.], dtype=float32),\n",
        "  'instance': 'AS_G5690E04_R1750_STIP_TIP',\n",
        "  'magnitude': 0.0},\n",
        " {'coordinate': array([ 0.0095    , -0.02794455,  0.        ], dtype=float32),\n",
        "  'data': array([ 0.,  0.], dtype=float32),\n",
        "  'instance': 'AS_G5690E04_R1750_STIP_TIP',\n",
        "  'magnitude': 0.0},\n",
        " {'coordinate': array([ 0.00975   , -0.02794455,  0.        ], dtype=float32),\n",
        "  'data': array([ 0.,  0.], dtype=float32),\n",
        "  'instance': 'AS_G5690E04_R1750_STIP_TIP',\n",
        "  'magnitude': 0.0},\n",
        " {'coordinate': array([ 0.01      , -0.02794455,  0.        ], dtype=float32),\n",
        "  'data': array([ 0.,  0.], dtype=float32),\n",
        "  'instance': 'AS_G5690E04_R1750_STIP_TIP',\n",
        "  'magnitude': 0.0},\n",
        " {'coordinate': array([ 0.01025   , -0.02794455,  0.        ], dtype=float32),\n",
        "  'data': array([ 0.,  0.], dtype=float32),\n",
        "  'instance': 'AS_G5690E04_R1750_STIP_TIP',\n",
        "  'magnitude': 0.0},\n",
        " {'coordinate': array([ 0.0105    , -0.02794455,  0.        ], dtype=float32),\n",
        "  'data': array([ 0.,  0.], dtype=float32),\n",
        "  'instance': 'AS_G5690E04_R1750_STIP_TIP',\n",
        "  'magnitude': 0.0},\n",
        " {'coordinate': array([ 0.01075   , -0.02794455,  0.        ], dtype=float32),\n",
        "  'data': array([ 0.,  0.], dtype=float32),\n",
        "  'instance': 'AS_G5690E04_R1750_STIP_TIP',\n",
        "  'magnitude': 0.0},\n",
        " {'coordinate': array([ 0.011     , -0.02794455,  0.        ], dtype=float32),\n",
        "  'data': array([ 0.,  0.], dtype=float32),\n",
        "  'instance': 'AS_G5690E04_R1750_STIP_TIP',\n",
        "  'magnitude': 0.0},\n",
        " {'coordinate': array([ 0.01125   , -0.02794455,  0.        ], dtype=float32),\n",
        "  'data': array([ 0.,  0.], dtype=float32),\n",
        "  'instance': 'AS_G5690E04_R1750_STIP_TIP',\n",
        "  'magnitude': 0.0},\n",
        " {'coordinate': array([ 0.0115    , -0.02794455,  0.        ], dtype=float32),\n",
        "  'data': array([ 0.,  0.], dtype=float32),\n",
        "  'instance': 'AS_G5690E04_R1750_STIP_TIP',\n",
        "  'magnitude': 0.0},\n",
        " {'coordinate': array([ 0.01175   , -0.02794455,  0.        ], dtype=float32),\n",
        "  'data': array([ 0.,  0.], dtype=float32),\n",
        "  'instance': 'AS_G5690E04_R1750_STIP_TIP',\n",
        "  'magnitude': 0.0},\n",
        " {'coordinate': array([ 0.012     , -0.02794455,  0.        ], dtype=float32),\n",
        "  'data': array([ 0.,  0.], dtype=float32),\n",
        "  'instance': 'AS_G5690E04_R1750_STIP_TIP',\n",
        "  'magnitude': 0.0},\n",
        " {'coordinate': array([ 0.01225   , -0.02794455,  0.        ], dtype=float32),\n",
        "  'data': array([ 0.,  0.], dtype=float32),\n",
        "  'instance': 'AS_G5690E04_R1750_STIP_TIP',\n",
        "  'magnitude': 0.0},\n",
        " {'coordinate': array([ 0.0125    , -0.02794455,  0.        ], dtype=float32),\n",
        "  'data': array([ 0.,  0.], dtype=float32),\n",
        "  'instance': 'AS_G5690E04_R1750_STIP_TIP',\n",
        "  'magnitude': 0.0},\n",
        " {'coordinate': array([ 0.01275   , -0.02794455,  0.        ], dtype=float32),\n",
        "  'data': array([ 0.,  0.], dtype=float32),\n",
        "  'instance': 'AS_G5690E04_R1750_STIP_TIP',\n",
        "  'magnitude': 0.0},\n",
        " {'coordinate': array([ 0.013     , -0.02794455,  0.        ], dtype=float32),\n",
        "  'data': array([ 0.,  0.], dtype=float32),\n",
        "  'instance': 'AS_G5690E04_R1750_STIP_TIP',\n",
        "  'magnitude': 0.0},\n",
        " {'coordinate': array([ 0.01325   , -0.02794455,  0.        ], dtype=float32),\n",
        "  'data': array([ 0.,  0.], dtype=float32),\n",
        "  'instance': 'AS_G5690E04_R1750_STIP_TIP',\n",
        "  'magnitude': 0.0},\n",
        " {'coordinate': array([ 0.0135    , -0.02794455,  0.        ], dtype=float32),\n",
        "  'data': array([ 0.,  0.], dtype=float32),\n",
        "  'instance': 'AS_G5690E04_R1750_STIP_TIP',\n",
        "  'magnitude': 0.0},\n",
        " {'coordinate': array([ 0.01375   , -0.02794455,  0.        ], dtype=float32),\n",
        "  'data': array([ 0.,  0.], dtype=float32),\n",
        "  'instance': 'AS_G5690E04_R1750_STIP_TIP',\n",
        "  'magnitude': 0.0},\n",
        " {'coordinate': array([ 0.014     , -0.02794455,  0.        ], dtype=float32),\n",
        "  'data': array([ 0.,  0.], dtype=float32),\n",
        "  'instance': 'AS_G5690E04_R1750_STIP_TIP',\n",
        "  'magnitude': 0.0},\n",
        " {'coordinate': array([ 0.01425   , -0.02794455,  0.        ], dtype=float32),\n",
        "  'data': array([ 0.,  0.], dtype=float32),\n",
        "  'instance': 'AS_G5690E04_R1750_STIP_TIP',\n",
        "  'magnitude': 0.0},\n",
        " {'coordinate': array([ 0.0145    , -0.02794455,  0.        ], dtype=float32),\n",
        "  'data': array([ 0.,  0.], dtype=float32),\n",
        "  'instance': 'AS_G5690E04_R1750_STIP_TIP',\n",
        "  'magnitude': 0.0},\n",
        " {'coordinate': array([ 0.01475   , -0.02794455,  0.        ], dtype=float32),\n",
        "  'data': array([ 0.,  0.], dtype=float32),\n",
        "  'instance': 'AS_G5690E04_R1750_STIP_TIP',\n",
        "  'magnitude': 0.0},\n",
        " {'coordinate': array([ 0.015     , -0.02794455,  0.        ], dtype=float32),\n",
        "  'data': array([ 0.,  0.], dtype=float32),\n",
        "  'instance': 'AS_G5690E04_R1750_STIP_TIP',\n",
        "  'magnitude': 0.0},\n",
        " {'coordinate': array([ 0.01525   , -0.02794455,  0.        ], dtype=float32),\n",
        "  'data': array([ 0.,  0.], dtype=float32),\n",
        "  'instance': 'AS_G5690E04_R1750_STIP_TIP',\n",
        "  'magnitude': 0.0},\n",
        " {'coordinate': array([ 0.0155    , -0.02794455,  0.        ], dtype=float32),\n",
        "  'data': array([ 0.,  0.], dtype=float32),\n",
        "  'instance': 'AS_G5690E04_R1750_STIP_TIP',\n",
        "  'magnitude': 0.0},\n",
        " {'coordinate': array([ 0.01575   , -0.02794455,  0.        ], dtype=float32),\n",
        "  'data': array([ 0.,  0.], dtype=float32),\n",
        "  'instance': 'AS_G5690E04_R1750_STIP_TIP',\n",
        "  'magnitude': 0.0},\n",
        " {'coordinate': array([ 0.016     , -0.02794455,  0.        ], dtype=float32),\n",
        "  'data': array([ 0.,  0.], dtype=float32),\n",
        "  'instance': 'AS_G5690E04_R1750_STIP_TIP',\n",
        "  'magnitude': 0.0},\n",
        " {'coordinate': array([ 0.01625   , -0.02794455,  0.        ], dtype=float32),\n",
        "  'data': array([ 0.,  0.], dtype=float32),\n",
        "  'instance': 'AS_G5690E04_R1750_STIP_TIP',\n",
        "  'magnitude': 0.0},\n",
        " {'coordinate': array([ 0.0165    , -0.02794455,  0.        ], dtype=float32),\n",
        "  'data': array([ 0.,  0.], dtype=float32),\n",
        "  'instance': 'AS_G5690E04_R1750_STIP_TIP',\n",
        "  'magnitude': 0.0},\n",
        " {'coordinate': array([ 0.01675   , -0.02794455,  0.        ], dtype=float32),\n",
        "  'data': array([ 0.,  0.], dtype=float32),\n",
        "  'instance': 'AS_G5690E04_R1750_STIP_TIP',\n",
        "  'magnitude': 0.0},\n",
        " {'coordinate': array([ 0.017     , -0.02794455,  0.        ], dtype=float32),\n",
        "  'data': array([ 0.,  0.], dtype=float32),\n",
        "  'instance': 'AS_G5690E04_R1750_STIP_TIP',\n",
        "  'magnitude': 0.0},\n",
        " {'coordinate': array([ 0.01725   , -0.02794455,  0.        ], dtype=float32),\n",
        "  'data': array([ 0.,  0.], dtype=float32),\n",
        "  'instance': 'AS_G5690E04_R1750_STIP_TIP',\n",
        "  'magnitude': 0.0},\n",
        " {'coordinate': array([ 0.0175    , -0.02794455,  0.        ], dtype=float32),\n",
        "  'data': array([ 0.,  0.], dtype=float32),\n",
        "  'instance': 'AS_G5690E04_R1750_STIP_TIP',\n",
        "  'magnitude': 0.0},\n",
        " {'coordinate': array([ 0.        , -0.02585907,  0.        ], dtype=float32),\n",
        "  'data': array([ 0.,  0.], dtype=float32),\n",
        "  'instance': 'AS_G5690E04_R1750_STIP_TIP',\n",
        "  'magnitude': 0.0},\n",
        " {'coordinate': array([ 0.00025   , -0.02585907,  0.        ], dtype=float32),\n",
        "  'data': array([ 0.,  0.], dtype=float32),\n",
        "  'instance': 'AS_G5690E04_R1750_STIP_TIP',\n",
        "  'magnitude': 0.0},\n",
        " {'coordinate': array([ 0.0005    , -0.02585907,  0.        ], dtype=float32),\n",
        "  'data': array([ 0.,  0.], dtype=float32),\n",
        "  'instance': 'AS_G5690E04_R1750_STIP_TIP',\n",
        "  'magnitude': 0.0},\n",
        " {'coordinate': array([ 0.00075   , -0.02585907,  0.        ], dtype=float32),\n",
        "  'data': array([ 0.,  0.], dtype=float32),\n",
        "  'instance': 'AS_G5690E04_R1750_STIP_TIP',\n",
        "  'magnitude': 0.0},\n",
        " {'coordinate': array([ 0.001     , -0.02585907,  0.        ], dtype=float32),\n",
        "  'data': array([ 0.,  0.], dtype=float32),\n",
        "  'instance': 'AS_G5690E04_R1750_STIP_TIP',\n",
        "  'magnitude': 0.0},\n",
        " {'coordinate': array([ 0.00125   , -0.02585907,  0.        ], dtype=float32),\n",
        "  'data': array([ 0.,  0.], dtype=float32),\n",
        "  'instance': 'AS_G5690E04_R1750_STIP_TIP',\n",
        "  'magnitude': 0.0},\n",
        " {'coordinate': array([ 0.0015    , -0.02585907,  0.        ], dtype=float32),\n",
        "  'data': array([ 0.,  0.], dtype=float32),\n",
        "  'instance': 'AS_G5690E04_R1750_STIP_TIP',\n",
        "  'magnitude': 0.0},\n",
        " {'coordinate': array([ 0.00175   , -0.02585907,  0.        ], dtype=float32),\n",
        "  'data': array([ 0.,  0.], dtype=float32),\n",
        "  'instance': 'AS_G5690E04_R1750_STIP_TIP',\n",
        "  'magnitude': 0.0},\n",
        " {'coordinate': array([ 0.002     , -0.02585907,  0.        ], dtype=float32),\n",
        "  'data': array([ 0.,  0.], dtype=float32),\n",
        "  'instance': 'AS_G5690E04_R1750_STIP_TIP',\n",
        "  'magnitude': 0.0},\n",
        " {'coordinate': array([ 0.00225   , -0.02585907,  0.        ], dtype=float32),\n",
        "  'data': array([ 0.,  0.], dtype=float32),\n",
        "  'instance': 'AS_G5690E04_R1750_STIP_TIP',\n",
        "  'magnitude': 0.0},\n",
        " {'coordinate': array([ 0.0025    , -0.02585907,  0.        ], dtype=float32),\n",
        "  'data': array([ 0.,  0.], dtype=float32),\n",
        "  'instance': 'AS_G5690E04_R1750_STIP_TIP',\n",
        "  'magnitude': 0.0},\n",
        " {'coordinate': array([ 0.00275   , -0.02585907,  0.        ], dtype=float32),\n",
        "  'data': array([ 0.,  0.], dtype=float32),\n",
        "  'instance': 'AS_G5690E04_R1750_STIP_TIP',\n",
        "  'magnitude': 0.0},\n",
        " {'coordinate': array([ 0.003     , -0.02585907,  0.        ], dtype=float32),\n",
        "  'data': array([ 0.,  0.], dtype=float32),\n",
        "  'instance': 'AS_G5690E04_R1750_STIP_TIP',\n",
        "  'magnitude': 0.0},\n",
        " {'coordinate': array([ 0.00325   , -0.02585907,  0.        ], dtype=float32),\n",
        "  'data': array([ 0.,  0.], dtype=float32),\n",
        "  'instance': 'AS_G5690E04_R1750_STIP_TIP',\n",
        "  'magnitude': 0.0},\n",
        " {'coordinate': array([ 0.0035    , -0.02585907,  0.        ], dtype=float32),\n",
        "  'data': array([ 0.,  0.], dtype=float32),\n",
        "  'instance': 'AS_G5690E04_R1750_STIP_TIP',\n",
        "  'magnitude': 0.0},\n",
        " {'coordinate': array([ 0.00375   , -0.02585907,  0.        ], dtype=float32),\n",
        "  'data': array([ 0.,  0.], dtype=float32),\n",
        "  'instance': 'AS_G5690E04_R1750_STIP_TIP',\n",
        "  'magnitude': 0.0},\n",
        " {'coordinate': array([ 0.004     , -0.02585907,  0.        ], dtype=float32),\n",
        "  'data': array([ 0.,  0.], dtype=float32),\n",
        "  'instance': 'AS_G5690E04_R1750_STIP_TIP',\n",
        "  'magnitude': 0.0},\n",
        " {'coordinate': array([ 0.00425   , -0.02585907,  0.        ], dtype=float32),\n",
        "  'data': array([ 0.,  0.], dtype=float32),\n",
        "  'instance': 'AS_G5690E04_R1750_STIP_TIP',\n",
        "  'magnitude': 0.0},\n",
        " {'coordinate': array([ 0.0045    , -0.02585907,  0.        ], dtype=float32),\n",
        "  'data': array([ 0.,  0.], dtype=float32),\n",
        "  'instance': 'AS_G5690E04_R1750_STIP_TIP',\n",
        "  'magnitude': 0.0},\n",
        " {'coordinate': array([ 0.00475   , -0.02585907,  0.        ], dtype=float32),\n",
        "  'data': array([ 0.,  0.], dtype=float32),\n",
        "  'instance': 'AS_G5690E04_R1750_STIP_TIP',\n",
        "  'magnitude': 0.0},\n",
        " {'coordinate': array([ 0.005     , -0.02585907,  0.        ], dtype=float32),\n",
        "  'data': array([ 0.,  0.], dtype=float32),\n",
        "  'instance': 'AS_G5690E04_R1750_STIP_TIP',\n",
        "  'magnitude': 0.0},\n",
        " {'coordinate': array([ 0.00525   , -0.02585907,  0.        ], dtype=float32),\n",
        "  'data': array([ 0.,  0.], dtype=float32),\n",
        "  'instance': 'AS_G5690E04_R1750_STIP_TIP',\n",
        "  'magnitude': 0.0},\n",
        " {'coordinate': array([ 0.0055    , -0.02585907,  0.        ], dtype=float32),\n",
        "  'data': array([ 0.,  0.], dtype=float32),\n",
        "  'instance': 'AS_G5690E04_R1750_STIP_TIP',\n",
        "  'magnitude': 0.0},\n",
        " {'coordinate': array([ 0.00575   , -0.02585907,  0.        ], dtype=float32),\n",
        "  'data': array([ 0.,  0.], dtype=float32),\n",
        "  'instance': 'AS_G5690E04_R1750_STIP_TIP',\n",
        "  'magnitude': 0.0},\n",
        " {'coordinate': array([ 0.006     , -0.02585907,  0.        ], dtype=float32),\n",
        "  'data': array([ 0.,  0.], dtype=float32),\n",
        "  'instance': 'AS_G5690E04_R1750_STIP_TIP',\n",
        "  'magnitude': 0.0},\n",
        " {'coordinate': array([ 0.00625   , -0.02585907,  0.        ], dtype=float32),\n",
        "  'data': array([ 0.,  0.], dtype=float32),\n",
        "  'instance': 'AS_G5690E04_R1750_STIP_TIP',\n",
        "  'magnitude': 0.0},\n",
        " {'coordinate': array([ 0.0065    , -0.02585907,  0.        ], dtype=float32),\n",
        "  'data': array([ 0.,  0.], dtype=float32),\n",
        "  'instance': 'AS_G5690E04_R1750_STIP_TIP',\n",
        "  'magnitude': 0.0},\n",
        " {'coordinate': array([ 0.00675   , -0.02585907,  0.        ], dtype=float32),\n",
        "  'data': array([ 0.,  0.], dtype=float32),\n",
        "  'instance': 'AS_G5690E04_R1750_STIP_TIP',\n",
        "  'magnitude': 0.0},\n",
        " {'coordinate': array([ 0.007     , -0.02585907,  0.        ], dtype=float32),\n",
        "  'data': array([ 0.,  0.], dtype=float32),\n",
        "  'instance': 'AS_G5690E04_R1750_STIP_TIP',\n",
        "  'magnitude': 0.0},\n",
        " {'coordinate': array([ 0.00725   , -0.02585907,  0.        ], dtype=float32),\n",
        "  'data': array([ 0.,  0.], dtype=float32),\n",
        "  'instance': 'AS_G5690E04_R1750_STIP_TIP',\n",
        "  'magnitude': 0.0},\n",
        " {'coordinate': array([ 0.0075    , -0.02585907,  0.        ], dtype=float32),\n",
        "  'data': array([ 0.,  0.], dtype=float32),\n",
        "  'instance': 'AS_G5690E04_R1750_STIP_TIP',\n",
        "  'magnitude': 0.0},\n",
        " {'coordinate': array([ 0.00775   , -0.02585907,  0.        ], dtype=float32),\n",
        "  'data': array([ 0.,  0.], dtype=float32),\n",
        "  'instance': 'AS_G5690E04_R1750_STIP_TIP',\n",
        "  'magnitude': 0.0},\n",
        " {'coordinate': array([ 0.008     , -0.02585907,  0.        ], dtype=float32),\n",
        "  'data': array([ 0.,  0.], dtype=float32),\n",
        "  'instance': 'AS_G5690E04_R1750_STIP_TIP',\n",
        "  'magnitude': 0.0},\n",
        " {'coordinate': array([ 0.00825   , -0.02585907,  0.        ], dtype=float32),\n",
        "  'data': array([ 0.,  0.], dtype=float32),\n",
        "  'instance': 'AS_G5690E04_R1750_STIP_TIP',\n",
        "  'magnitude': 0.0},\n",
        " {'coordinate': array([ 0.0085    , -0.02585907,  0.        ], dtype=float32),\n",
        "  'data': array([ 0.,  0.], dtype=float32),\n",
        "  'instance': 'AS_G5690E04_R1750_STIP_TIP',\n",
        "  'magnitude': 0.0},\n",
        " {'coordinate': array([ 0.00875   , -0.02585907,  0.        ], dtype=float32),\n",
        "  'data': array([ 0.,  0.], dtype=float32),\n",
        "  'instance': 'AS_G5690E04_R1750_STIP_TIP',\n",
        "  'magnitude': 0.0},\n",
        " {'coordinate': array([ 0.009     , -0.02585907,  0.        ], dtype=float32),\n",
        "  'data': array([ 0.,  0.], dtype=float32),\n",
        "  'instance': 'AS_G5690E04_R1750_STIP_TIP',\n",
        "  'magnitude': 0.0},\n",
        " {'coordinate': array([ 0.00925   , -0.02585907,  0.        ], dtype=float32),\n",
        "  'data': array([ 0.,  0.], dtype=float32),\n",
        "  'instance': 'AS_G5690E04_R1750_STIP_TIP',\n",
        "  'magnitude': 0.0},\n",
        " {'coordinate': array([ 0.0095    , -0.02585907,  0.        ], dtype=float32),\n",
        "  'data': array([ 0.,  0.], dtype=float32),\n",
        "  'instance': 'AS_G5690E04_R1750_STIP_TIP',\n",
        "  'magnitude': 0.0},\n",
        " {'coordinate': array([ 0.00975   , -0.02585907,  0.        ], dtype=float32),\n",
        "  'data': array([ 0.,  0.], dtype=float32),\n",
        "  'instance': 'AS_G5690E04_R1750_STIP_TIP',\n",
        "  'magnitude': 0.0},\n",
        " {'coordinate': array([ 0.01      , -0.02585907,  0.        ], dtype=float32),\n",
        "  'data': array([ 0.,  0.], dtype=float32),\n",
        "  'instance': 'AS_G5690E04_R1750_STIP_TIP',\n",
        "  'magnitude': 0.0},\n",
        " {'coordinate': array([ 0.01025   , -0.02585907,  0.        ], dtype=float32),\n",
        "  'data': array([ 0.,  0.], dtype=float32),\n",
        "  'instance': 'AS_G5690E04_R1750_STIP_TIP',\n",
        "  'magnitude': 0.0},\n",
        " {'coordinate': array([ 0.0105    , -0.02585907,  0.        ], dtype=float32),\n",
        "  'data': array([ 0.,  0.], dtype=float32),\n",
        "  'instance': 'AS_G5690E04_R1750_STIP_TIP',\n",
        "  'magnitude': 0.0},\n",
        " {'coordinate': array([ 0.01075   , -0.02585907,  0.        ], dtype=float32),\n",
        "  'data': array([ 0.,  0.], dtype=float32),\n",
        "  'instance': 'AS_G5690E04_R1750_STIP_TIP',\n",
        "  'magnitude': 0.0},\n",
        " {'coordinate': array([ 0.011     , -0.02585907,  0.        ], dtype=float32),\n",
        "  'data': array([ 0.,  0.], dtype=float32),\n",
        "  'instance': 'AS_G5690E04_R1750_STIP_TIP',\n",
        "  'magnitude': 0.0},\n",
        " {'coordinate': array([ 0.01125   , -0.02585907,  0.        ], dtype=float32),\n",
        "  'data': array([ 0.,  0.], dtype=float32),\n",
        "  'instance': 'AS_G5690E04_R1750_STIP_TIP',\n",
        "  'magnitude': 0.0},\n",
        " {'coordinate': array([ 0.0115    , -0.02585907,  0.        ], dtype=float32),\n",
        "  'data': array([ 0.,  0.], dtype=float32),\n",
        "  'instance': 'AS_G5690E04_R1750_STIP_TIP',\n",
        "  'magnitude': 0.0},\n",
        " {'coordinate': array([ 0.01175   , -0.02585907,  0.        ], dtype=float32),\n",
        "  'data': array([ 0.,  0.], dtype=float32),\n",
        "  'instance': 'AS_G5690E04_R1750_STIP_TIP',\n",
        "  'magnitude': 0.0},\n",
        " {'coordinate': array([ 0.012     , -0.02585907,  0.        ], dtype=float32),\n",
        "  'data': array([ 0.,  0.], dtype=float32),\n",
        "  'instance': 'AS_G5690E04_R1750_STIP_TIP',\n",
        "  'magnitude': 0.0},\n",
        " {'coordinate': array([ 0.01225   , -0.02585907,  0.        ], dtype=float32),\n",
        "  'data': array([ 0.,  0.], dtype=float32),\n",
        "  'instance': 'AS_G5690E04_R1750_STIP_TIP',\n",
        "  'magnitude': 0.0},\n",
        " {'coordinate': array([ 0.0125    , -0.02585907,  0.        ], dtype=float32),\n",
        "  'data': array([ 0.,  0.], dtype=float32),\n",
        "  'instance': 'AS_G5690E04_R1750_STIP_TIP',\n",
        "  'magnitude': 0.0},\n",
        " {'coordinate': array([ 0.01275   , -0.02585907,  0.        ], dtype=float32),\n",
        "  'data': array([ 0.,  0.], dtype=float32),\n",
        "  'instance': 'AS_G5690E04_R1750_STIP_TIP',\n",
        "  'magnitude': 0.0},\n",
        " {'coordinate': array([ 0.013     , -0.02585907,  0.        ], dtype=float32),\n",
        "  'data': array([ 0.,  0.], dtype=float32),\n",
        "  'instance': 'AS_G5690E04_R1750_STIP_TIP',\n",
        "  'magnitude': 0.0},\n",
        " {'coordinate': array([ 0.01325   , -0.02585907,  0.        ], dtype=float32),\n",
        "  'data': array([ 0.,  0.], dtype=float32),\n",
        "  'instance': 'AS_G5690E04_R1750_STIP_TIP',\n",
        "  'magnitude': 0.0},\n",
        " {'coordinate': array([ 0.0135    , -0.02585907,  0.        ], dtype=float32),\n",
        "  'data': array([ 0.,  0.], dtype=float32),\n",
        "  'instance': 'AS_G5690E04_R1750_STIP_TIP',\n",
        "  'magnitude': 0.0},\n",
        " {'coordinate': array([ 0.01375   , -0.02585907,  0.        ], dtype=float32),\n",
        "  'data': array([ 0.,  0.], dtype=float32),\n",
        "  'instance': 'AS_G5690E04_R1750_STIP_TIP',\n",
        "  'magnitude': 0.0},\n",
        " {'coordinate': array([ 0.014     , -0.02585907,  0.        ], dtype=float32),\n",
        "  'data': array([ 0.,  0.], dtype=float32),\n",
        "  'instance': 'AS_G5690E04_R1750_STIP_TIP',\n",
        "  'magnitude': 0.0},\n",
        " {'coordinate': array([ 0.01425   , -0.02585907,  0.        ], dtype=float32),\n",
        "  'data': array([ 0.,  0.], dtype=float32),\n",
        "  'instance': 'AS_G5690E04_R1750_STIP_TIP',\n",
        "  'magnitude': 0.0},\n",
        " {'coordinate': array([ 0.0145    , -0.02585907,  0.        ], dtype=float32),\n",
        "  'data': array([ 0.,  0.], dtype=float32),\n",
        "  'instance': 'AS_G5690E04_R1750_STIP_TIP',\n",
        "  'magnitude': 0.0},\n",
        " {'coordinate': array([ 0.01475   , -0.02585907,  0.        ], dtype=float32),\n",
        "  'data': array([ 0.,  0.], dtype=float32),\n",
        "  'instance': 'AS_G5690E04_R1750_STIP_TIP',\n",
        "  'magnitude': 0.0},\n",
        " {'coordinate': array([ 0.015     , -0.02585907,  0.        ], dtype=float32),\n",
        "  'data': array([ 0.,  0.], dtype=float32),\n",
        "  'instance': 'AS_G5690E04_R1750_STIP_TIP',\n",
        "  'magnitude': 0.0},\n",
        " {'coordinate': array([ 0.01525   , -0.02585907,  0.        ], dtype=float32),\n",
        "  'data': array([ 0.,  0.], dtype=float32),\n",
        "  'instance': 'AS_G5690E04_R1750_STIP_TIP',\n",
        "  'magnitude': 0.0},\n",
        " {'coordinate': array([ 0.0155    , -0.02585907,  0.        ], dtype=float32),\n",
        "  'data': array([ 0.,  0.], dtype=float32),\n",
        "  'instance': 'AS_G5690E04_R1750_STIP_TIP',\n",
        "  'magnitude': 0.0},\n",
        " {'coordinate': array([ 0.01575   , -0.02585907,  0.        ], dtype=float32),\n",
        "  'data': array([ 0.,  0.], dtype=float32),\n",
        "  'instance': 'AS_G5690E04_R1750_STIP_TIP',\n",
        "  'magnitude': 0.0},\n",
        " {'coordinate': array([ 0.016     , -0.02585907,  0.        ], dtype=float32),\n",
        "  'data': array([ 0.,  0.], dtype=float32),\n",
        "  'instance': 'AS_G5690E04_R1750_STIP_TIP',\n",
        "  'magnitude': 0.0},\n",
        " {'coordinate': array([ 0.01625   , -0.02585907,  0.        ], dtype=float32),\n",
        "  'data': array([ 0.,  0.], dtype=float32),\n",
        "  'instance': 'AS_G5690E04_R1750_STIP_TIP',\n",
        "  'magnitude': 0.0},\n",
        " {'coordinate': array([ 0.0165    , -0.02585907,  0.        ], dtype=float32),\n",
        "  'data': array([ 0.,  0.], dtype=float32),\n",
        "  'instance': 'AS_G5690E04_R1750_STIP_TIP',\n",
        "  'magnitude': 0.0},\n",
        " {'coordinate': array([ 0.01675   , -0.02585907,  0.        ], dtype=float32),\n",
        "  'data': array([ 0.,  0.], dtype=float32),\n",
        "  'instance': 'AS_G5690E04_R1750_STIP_TIP',\n",
        "  'magnitude': 0.0},\n",
        " {'coordinate': array([ 0.017     , -0.02585907,  0.        ], dtype=float32),\n",
        "  'data': array([ 0.,  0.], dtype=float32),\n",
        "  'instance': 'AS_G5690E04_R1750_STIP_TIP',\n",
        "  'magnitude': 0.0},\n",
        " {'coordinate': array([ 0.01725   , -0.02585907,  0.        ], dtype=float32),\n",
        "  'data': array([ 0.,  0.], dtype=float32),\n",
        "  'instance': 'AS_G5690E04_R1750_STIP_TIP',\n",
        "  'magnitude': 0.0},\n",
        " {'coordinate': array([ 0.0175    , -0.02585907,  0.        ], dtype=float32),\n",
        "  'data': array([ 0.,  0.], dtype=float32),\n",
        "  'instance': 'AS_G5690E04_R1750_STIP_TIP',\n",
        "  'magnitude': 0.0},\n",
        " {'coordinate': array([ 0.        , -0.02389408,  0.        ], dtype=float32),\n",
        "  'data': array([ 0.,  0.], dtype=float32),\n",
        "  'instance': 'AS_G5690E04_R1750_STIP_TIP',\n",
        "  'magnitude': 0.0},\n",
        " {'coordinate': array([ 0.00025   , -0.02389408,  0.        ], dtype=float32),\n",
        "  'data': array([ 0.,  0.], dtype=float32),\n",
        "  'instance': 'AS_G5690E04_R1750_STIP_TIP',\n",
        "  'magnitude': 0.0},\n",
        " {'coordinate': array([ 0.0005    , -0.02389408,  0.        ], dtype=float32),\n",
        "  'data': array([ 0.,  0.], dtype=float32),\n",
        "  'instance': 'AS_G5690E04_R1750_STIP_TIP',\n",
        "  'magnitude': 0.0},\n",
        " {'coordinate': array([ 0.00075   , -0.02389408,  0.        ], dtype=float32),\n",
        "  'data': array([ 0.,  0.], dtype=float32),\n",
        "  'instance': 'AS_G5690E04_R1750_STIP_TIP',\n",
        "  'magnitude': 0.0},\n",
        " {'coordinate': array([ 0.001     , -0.02389408,  0.        ], dtype=float32),\n",
        "  'data': array([ 0.,  0.], dtype=float32),\n",
        "  'instance': 'AS_G5690E04_R1750_STIP_TIP',\n",
        "  'magnitude': 0.0},\n",
        " {'coordinate': array([ 0.00125   , -0.02389408,  0.        ], dtype=float32),\n",
        "  'data': array([ 0.,  0.], dtype=float32),\n",
        "  'instance': 'AS_G5690E04_R1750_STIP_TIP',\n",
        "  'magnitude': 0.0},\n",
        " {'coordinate': array([ 0.0015    , -0.02389408,  0.        ], dtype=float32),\n",
        "  'data': array([ 0.,  0.], dtype=float32),\n",
        "  'instance': 'AS_G5690E04_R1750_STIP_TIP',\n",
        "  'magnitude': 0.0},\n",
        " {'coordinate': array([ 0.00175   , -0.02389408,  0.        ], dtype=float32),\n",
        "  'data': array([ 0.,  0.], dtype=float32),\n",
        "  'instance': 'AS_G5690E04_R1750_STIP_TIP',\n",
        "  'magnitude': 0.0},\n",
        " {'coordinate': array([ 0.002     , -0.02389408,  0.        ], dtype=float32),\n",
        "  'data': array([ 0.,  0.], dtype=float32),\n",
        "  'instance': 'AS_G5690E04_R1750_STIP_TIP',\n",
        "  'magnitude': 0.0},\n",
        " {'coordinate': array([ 0.00225   , -0.02389408,  0.        ], dtype=float32),\n",
        "  'data': array([ 0.,  0.], dtype=float32),\n",
        "  'instance': 'AS_G5690E04_R1750_STIP_TIP',\n",
        "  'magnitude': 0.0},\n",
        " {'coordinate': array([ 0.0025    , -0.02389408,  0.        ], dtype=float32),\n",
        "  'data': array([ 0.,  0.], dtype=float32),\n",
        "  'instance': 'AS_G5690E04_R1750_STIP_TIP',\n",
        "  'magnitude': 0.0},\n",
        " {'coordinate': array([ 0.00275   , -0.02389408,  0.        ], dtype=float32),\n",
        "  'data': array([ 0.,  0.], dtype=float32),\n",
        "  'instance': 'AS_G5690E04_R1750_STIP_TIP',\n",
        "  'magnitude': 0.0},\n",
        " {'coordinate': array([ 0.003     , -0.02389408,  0.        ], dtype=float32),\n",
        "  'data': array([ 0.,  0.], dtype=float32),\n",
        "  'instance': 'AS_G5690E04_R1750_STIP_TIP',\n",
        "  'magnitude': 0.0},\n",
        " {'coordinate': array([ 0.00325   , -0.02389408,  0.        ], dtype=float32),\n",
        "  'data': array([ 0.,  0.], dtype=float32),\n",
        "  'instance': 'AS_G5690E04_R1750_STIP_TIP',\n",
        "  'magnitude': 0.0},\n",
        " {'coordinate': array([ 0.0035    , -0.02389408,  0.        ], dtype=float32),\n",
        "  'data': array([ 0.,  0.], dtype=float32),\n",
        "  'instance': 'AS_G5690E04_R1750_STIP_TIP',\n",
        "  'magnitude': 0.0},\n",
        " {'coordinate': array([ 0.00375   , -0.02389408,  0.        ], dtype=float32),\n",
        "  'data': array([ 0.,  0.], dtype=float32),\n",
        "  'instance': 'AS_G5690E04_R1750_STIP_TIP',\n",
        "  'magnitude': 0.0},\n",
        " {'coordinate': array([ 0.004     , -0.02389408,  0.        ], dtype=float32),\n",
        "  'data': array([ 0.,  0.], dtype=float32),\n",
        "  'instance': 'AS_G5690E04_R1750_STIP_TIP',\n",
        "  'magnitude': 0.0},\n",
        " {'coordinate': array([ 0.00425   , -0.02389408,  0.        ], dtype=float32),\n",
        "  'data': array([ 0.,  0.], dtype=float32),\n",
        "  'instance': 'AS_G5690E04_R1750_STIP_TIP',\n",
        "  'magnitude': 0.0},\n",
        " {'coordinate': array([ 0.0045    , -0.02389408,  0.        ], dtype=float32),\n",
        "  'data': array([ 0.,  0.], dtype=float32),\n",
        "  'instance': 'AS_G5690E04_R1750_STIP_TIP',\n",
        "  'magnitude': 0.0},\n",
        " {'coordinate': array([ 0.00475   , -0.02389408,  0.        ], dtype=float32),\n",
        "  'data': array([ 0.,  0.], dtype=float32),\n",
        "  'instance': 'AS_G5690E04_R1750_STIP_TIP',\n",
        "  'magnitude': 0.0},\n",
        " {'coordinate': array([ 0.005     , -0.02389408,  0.        ], dtype=float32),\n",
        "  'data': array([ 0.,  0.], dtype=float32),\n",
        "  'instance': 'AS_G5690E04_R1750_STIP_TIP',\n",
        "  'magnitude': 0.0},\n",
        " {'coordinate': array([ 0.00525   , -0.02389408,  0.        ], dtype=float32),\n",
        "  'data': array([ 0.,  0.], dtype=float32),\n",
        "  'instance': 'AS_G5690E04_R1750_STIP_TIP',\n",
        "  'magnitude': 0.0},\n",
        " {'coordinate': array([ 0.0055    , -0.02389408,  0.        ], dtype=float32),\n",
        "  'data': array([ 0.,  0.], dtype=float32),\n",
        "  'instance': 'AS_G5690E04_R1750_STIP_TIP',\n",
        "  'magnitude': 0.0},\n",
        " {'coordinate': array([ 0.00575   , -0.02389408,  0.        ], dtype=float32),\n",
        "  'data': array([ 0.,  0.], dtype=float32),\n",
        "  'instance': 'AS_G5690E04_R1750_STIP_TIP',\n",
        "  'magnitude': 0.0},\n",
        " {'coordinate': array([ 0.006     , -0.02389408,  0.        ], dtype=float32),\n",
        "  'data': array([ 0.,  0.], dtype=float32),\n",
        "  'instance': 'AS_G5690E04_R1750_STIP_TIP',\n",
        "  'magnitude': 0.0},\n",
        " {'coordinate': array([ 0.00625   , -0.02389408,  0.        ], dtype=float32),\n",
        "  'data': array([ 0.,  0.], dtype=float32),\n",
        "  'instance': 'AS_G5690E04_R1750_STIP_TIP',\n",
        "  'magnitude': 0.0},\n",
        " {'coordinate': array([ 0.0065    , -0.02389408,  0.        ], dtype=float32),\n",
        "  'data': array([ 0.,  0.], dtype=float32),\n",
        "  'instance': 'AS_G5690E04_R1750_STIP_TIP',\n",
        "  'magnitude': 0.0},\n",
        " {'coordinate': array([ 0.00675   , -0.02389408,  0.        ], dtype=float32),\n",
        "  'data': array([ 0.,  0.], dtype=float32),\n",
        "  'instance': 'AS_G5690E04_R1750_STIP_TIP',\n",
        "  'magnitude': 0.0},\n",
        " {'coordinate': array([ 0.007     , -0.02389408,  0.        ], dtype=float32),\n",
        "  'data': array([ 0.,  0.], dtype=float32),\n",
        "  'instance': 'AS_G5690E04_R1750_STIP_TIP',\n",
        "  'magnitude': 0.0},\n",
        " {'coordinate': array([ 0.00725   , -0.02389408,  0.        ], dtype=float32),\n",
        "  'data': array([ 0.,  0.], dtype=float32),\n",
        "  'instance': 'AS_G5690E04_R1750_STIP_TIP',\n",
        "  'magnitude': 0.0},\n",
        " {'coordinate': array([ 0.0075    , -0.02389408,  0.        ], dtype=float32),\n",
        "  'data': array([ 0.,  0.], dtype=float32),\n",
        "  'instance': 'AS_G5690E04_R1750_STIP_TIP',\n",
        "  'magnitude': 0.0},\n",
        " {'coordinate': array([ 0.00775   , -0.02389408,  0.        ], dtype=float32),\n",
        "  'data': array([ 0.,  0.], dtype=float32),\n",
        "  'instance': 'AS_G5690E04_R1750_STIP_TIP',\n",
        "  'magnitude': 0.0},\n",
        " {'coordinate': array([ 0.008     , -0.02389408,  0.        ], dtype=float32),\n",
        "  'data': array([ 0.,  0.], dtype=float32),\n",
        "  'instance': 'AS_G5690E04_R1750_STIP_TIP',\n",
        "  'magnitude': 0.0},\n",
        " {'coordinate': array([ 0.00825   , -0.02389408,  0.        ], dtype=float32),\n",
        "  'data': array([ 0.,  0.], dtype=float32),\n",
        "  'instance': 'AS_G5690E04_R1750_STIP_TIP',\n",
        "  'magnitude': 0.0},\n",
        " {'coordinate': array([ 0.0085    , -0.02389408,  0.        ], dtype=float32),\n",
        "  'data': array([ 0.,  0.], dtype=float32),\n",
        "  'instance': 'AS_G5690E04_R1750_STIP_TIP',\n",
        "  'magnitude': 0.0},\n",
        " {'coordinate': array([ 0.00875   , -0.02389408,  0.        ], dtype=float32),\n",
        "  'data': array([ 0.,  0.], dtype=float32),\n",
        "  'instance': 'AS_G5690E04_R1750_STIP_TIP',\n",
        "  'magnitude': 0.0},\n",
        " {'coordinate': array([ 0.009     , -0.02389408,  0.        ], dtype=float32),\n",
        "  'data': array([ 0.,  0.], dtype=float32),\n",
        "  'instance': 'AS_G5690E04_R1750_STIP_TIP',\n",
        "  'magnitude': 0.0},\n",
        " {'coordinate': array([ 0.00925   , -0.02389408,  0.        ], dtype=float32),\n",
        "  'data': array([ 0.,  0.], dtype=float32),\n",
        "  'instance': 'AS_G5690E04_R1750_STIP_TIP',\n",
        "  'magnitude': 0.0},\n",
        " {'coordinate': array([ 0.0095    , -0.02389408,  0.        ], dtype=float32),\n",
        "  'data': array([ 0.,  0.], dtype=float32),\n",
        "  'instance': 'AS_G5690E04_R1750_STIP_TIP',\n",
        "  'magnitude': 0.0},\n",
        " {'coordinate': array([ 0.00975   , -0.02389408,  0.        ], dtype=float32),\n",
        "  'data': array([ 0.,  0.], dtype=float32),\n",
        "  'instance': 'AS_G5690E04_R1750_STIP_TIP',\n",
        "  'magnitude': 0.0},\n",
        " {'coordinate': array([ 0.01      , -0.02389408,  0.        ], dtype=float32),\n",
        "  'data': array([ 0.,  0.], dtype=float32),\n",
        "  'instance': 'AS_G5690E04_R1750_STIP_TIP',\n",
        "  'magnitude': 0.0},\n",
        " {'coordinate': array([ 0.01025   , -0.02389408,  0.        ], dtype=float32),\n",
        "  'data': array([ 0.,  0.], dtype=float32),\n",
        "  'instance': 'AS_G5690E04_R1750_STIP_TIP',\n",
        "  'magnitude': 0.0},\n",
        " {'coordinate': array([ 0.0105    , -0.02389408,  0.        ], dtype=float32),\n",
        "  'data': array([ 0.,  0.], dtype=float32),\n",
        "  'instance': 'AS_G5690E04_R1750_STIP_TIP',\n",
        "  'magnitude': 0.0},\n",
        " {'coordinate': array([ 0.01075   , -0.02389408,  0.        ], dtype=float32),\n",
        "  'data': array([ 0.,  0.], dtype=float32),\n",
        "  'instance': 'AS_G5690E04_R1750_STIP_TIP',\n",
        "  'magnitude': 0.0},\n",
        " {'coordinate': array([ 0.011     , -0.02389408,  0.        ], dtype=float32),\n",
        "  'data': array([ 0.,  0.], dtype=float32),\n",
        "  'instance': 'AS_G5690E04_R1750_STIP_TIP',\n",
        "  'magnitude': 0.0},\n",
        " {'coordinate': array([ 0.01125   , -0.02389408,  0.        ], dtype=float32),\n",
        "  'data': array([ 0.,  0.], dtype=float32),\n",
        "  'instance': 'AS_G5690E04_R1750_STIP_TIP',\n",
        "  'magnitude': 0.0},\n",
        " {'coordinate': array([ 0.0115    , -0.02389408,  0.        ], dtype=float32),\n",
        "  'data': array([ 0.,  0.], dtype=float32),\n",
        "  'instance': 'AS_G5690E04_R1750_STIP_TIP',\n",
        "  'magnitude': 0.0},\n",
        " {'coordinate': array([ 0.01175   , -0.02389408,  0.        ], dtype=float32),\n",
        "  'data': array([ 0.,  0.], dtype=float32),\n",
        "  'instance': 'AS_G5690E04_R1750_STIP_TIP',\n",
        "  'magnitude': 0.0},\n",
        " {'coordinate': array([ 0.012     , -0.02389408,  0.        ], dtype=float32),\n",
        "  'data': array([ 0.,  0.], dtype=float32),\n",
        "  'instance': 'AS_G5690E04_R1750_STIP_TIP',\n",
        "  'magnitude': 0.0},\n",
        " {'coordinate': array([ 0.01225   , -0.02389408,  0.        ], dtype=float32),\n",
        "  'data': array([ 0.,  0.], dtype=float32),\n",
        "  'instance': 'AS_G5690E04_R1750_STIP_TIP',\n",
        "  'magnitude': 0.0},\n",
        " {'coordinate': array([ 0.0125    , -0.02389408,  0.        ], dtype=float32),\n",
        "  'data': array([ 0.,  0.], dtype=float32),\n",
        "  'instance': 'AS_G5690E04_R1750_STIP_TIP',\n",
        "  'magnitude': 0.0},\n",
        " {'coordinate': array([ 0.01275   , -0.02389408,  0.        ], dtype=float32),\n",
        "  'data': array([ 0.,  0.], dtype=float32),\n",
        "  'instance': 'AS_G5690E04_R1750_STIP_TIP',\n",
        "  'magnitude': 0.0},\n",
        " {'coordinate': array([ 0.013     , -0.02389408,  0.        ], dtype=float32),\n",
        "  'data': array([ 0.,  0.], dtype=float32),\n",
        "  'instance': 'AS_G5690E04_R1750_STIP_TIP',\n",
        "  'magnitude': 0.0},\n",
        " {'coordinate': array([ 0.01325   , -0.02389408,  0.        ], dtype=float32),\n",
        "  'data': array([ 0.,  0.], dtype=float32),\n",
        "  'instance': 'AS_G5690E04_R1750_STIP_TIP',\n",
        "  'magnitude': 0.0},\n",
        " {'coordinate': array([ 0.0135    , -0.02389408,  0.        ], dtype=float32),\n",
        "  'data': array([ 0.,  0.], dtype=float32),\n",
        "  'instance': 'AS_G5690E04_R1750_STIP_TIP',\n",
        "  'magnitude': 0.0},\n",
        " {'coordinate': array([ 0.01375   , -0.02389408,  0.        ], dtype=float32),\n",
        "  'data': array([ 0.,  0.], dtype=float32),\n",
        "  'instance': 'AS_G5690E04_R1750_STIP_TIP',\n",
        "  'magnitude': 0.0},\n",
        " {'coordinate': array([ 0.014     , -0.02389408,  0.        ], dtype=float32),\n",
        "  'data': array([ 0.,  0.], dtype=float32),\n",
        "  'instance': 'AS_G5690E04_R1750_STIP_TIP',\n",
        "  'magnitude': 0.0},\n",
        " {'coordinate': array([ 0.01425   , -0.02389408,  0.        ], dtype=float32),\n",
        "  'data': array([ 0.,  0.], dtype=float32),\n",
        "  'instance': 'AS_G5690E04_R1750_STIP_TIP',\n",
        "  'magnitude': 0.0},\n",
        " {'coordinate': array([ 0.0145    , -0.02389408,  0.        ], dtype=float32),\n",
        "  'data': array([ 0.,  0.], dtype=float32),\n",
        "  'instance': 'AS_G5690E04_R1750_STIP_TIP',\n",
        "  'magnitude': 0.0},\n",
        " {'coordinate': array([ 0.01475   , -0.02389408,  0.        ], dtype=float32),\n",
        "  'data': array([ 0.,  0.], dtype=float32),\n",
        "  'instance': 'AS_G5690E04_R1750_STIP_TIP',\n",
        "  'magnitude': 0.0},\n",
        " {'coordinate': array([ 0.015     , -0.02389408,  0.        ], dtype=float32),\n",
        "  'data': array([ 0.,  0.], dtype=float32),\n",
        "  'instance': 'AS_G5690E04_R1750_STIP_TIP',\n",
        "  'magnitude': 0.0},\n",
        " {'coordinate': array([ 0.01525   , -0.02389408,  0.        ], dtype=float32),\n",
        "  'data': array([ 0.,  0.], dtype=float32),\n",
        "  'instance': 'AS_G5690E04_R1750_STIP_TIP',\n",
        "  'magnitude': 0.0},\n",
        " {'coordinate': array([ 0.0155    , -0.02389408,  0.        ], dtype=float32),\n",
        "  'data': array([ 0.,  0.], dtype=float32),\n",
        "  'instance': 'AS_G5690E04_R1750_STIP_TIP',\n",
        "  'magnitude': 0.0},\n",
        " {'coordinate': array([ 0.01575   , -0.02389408,  0.        ], dtype=float32),\n",
        "  'data': array([ 0.,  0.], dtype=float32),\n",
        "  'instance': 'AS_G5690E04_R1750_STIP_TIP',\n",
        "  'magnitude': 0.0},\n",
        " {'coordinate': array([ 0.016     , -0.02389408,  0.        ], dtype=float32),\n",
        "  'data': array([ 0.,  0.], dtype=float32),\n",
        "  'instance': 'AS_G5690E04_R1750_STIP_TIP',\n",
        "  'magnitude': 0.0},\n",
        " {'coordinate': array([ 0.01625   , -0.02389408,  0.        ], dtype=float32),\n",
        "  'data': array([ 0.,  0.], dtype=float32),\n",
        "  'instance': 'AS_G5690E04_R1750_STIP_TIP',\n",
        "  'magnitude': 0.0},\n",
        " {'coordinate': array([ 0.0165    , -0.02389408,  0.        ], dtype=float32),\n",
        "  'data': array([ 0.,  0.], dtype=float32),\n",
        "  'instance': 'AS_G5690E04_R1750_STIP_TIP',\n",
        "  'magnitude': 0.0},\n",
        " {'coordinate': array([ 0.01675   , -0.02389408,  0.        ], dtype=float32),\n",
        "  'data': array([ 0.,  0.], dtype=float32),\n",
        "  'instance': 'AS_G5690E04_R1750_STIP_TIP',\n",
        "  'magnitude': 0.0},\n",
        " {'coordinate': array([ 0.017     , -0.02389408,  0.        ], dtype=float32),\n",
        "  'data': array([ 0.,  0.], dtype=float32),\n",
        "  'instance': 'AS_G5690E04_R1750_STIP_TIP',\n",
        "  'magnitude': 0.0},\n",
        " {'coordinate': array([ 0.01725   , -0.02389408,  0.        ], dtype=float32),\n",
        "  'data': array([ 0.,  0.], dtype=float32),\n",
        "  'instance': 'AS_G5690E04_R1750_STIP_TIP',\n",
        "  'magnitude': 0.0},\n",
        " {'coordinate': array([ 0.0175    , -0.02389408,  0.        ], dtype=float32),\n",
        "  'data': array([ 0.,  0.], dtype=float32),\n",
        "  'instance': 'AS_G5690E04_R1750_STIP_TIP',\n",
        "  'magnitude': 0.0},\n",
        " {'coordinate': array([ 0.       , -0.0220426,  0.       ], dtype=float32),\n",
        "  'data': array([ 0.,  0.], dtype=float32),\n",
        "  'instance': 'AS_G5690E04_R1750_STIP_TIP',\n",
        "  'magnitude': 0.0},\n",
        " {'coordinate': array([ 0.00025  , -0.0220426,  0.       ], dtype=float32),\n",
        "  'data': array([ 0.,  0.], dtype=float32),\n",
        "  'instance': 'AS_G5690E04_R1750_STIP_TIP',\n",
        "  'magnitude': 0.0},\n",
        " {'coordinate': array([ 0.0005   , -0.0220426,  0.       ], dtype=float32),\n",
        "  'data': array([ 0.,  0.], dtype=float32),\n",
        "  'instance': 'AS_G5690E04_R1750_STIP_TIP',\n",
        "  'magnitude': 0.0},\n",
        " {'coordinate': array([ 0.00075  , -0.0220426,  0.       ], dtype=float32),\n",
        "  'data': array([ 0.,  0.], dtype=float32),\n",
        "  'instance': 'AS_G5690E04_R1750_STIP_TIP',\n",
        "  'magnitude': 0.0},\n",
        " {'coordinate': array([ 0.001    , -0.0220426,  0.       ], dtype=float32),\n",
        "  'data': array([ 0.,  0.], dtype=float32),\n",
        "  'instance': 'AS_G5690E04_R1750_STIP_TIP',\n",
        "  'magnitude': 0.0},\n",
        " {'coordinate': array([ 0.00125  , -0.0220426,  0.       ], dtype=float32),\n",
        "  'data': array([ 0.,  0.], dtype=float32),\n",
        "  'instance': 'AS_G5690E04_R1750_STIP_TIP',\n",
        "  'magnitude': 0.0},\n",
        " {'coordinate': array([ 0.0015   , -0.0220426,  0.       ], dtype=float32),\n",
        "  'data': array([ 0.,  0.], dtype=float32),\n",
        "  'instance': 'AS_G5690E04_R1750_STIP_TIP',\n",
        "  'magnitude': 0.0},\n",
        " {'coordinate': array([ 0.00175  , -0.0220426,  0.       ], dtype=float32),\n",
        "  'data': array([ 0.,  0.], dtype=float32),\n",
        "  'instance': 'AS_G5690E04_R1750_STIP_TIP',\n",
        "  'magnitude': 0.0},\n",
        " {'coordinate': array([ 0.002    , -0.0220426,  0.       ], dtype=float32),\n",
        "  'data': array([ 0.,  0.], dtype=float32),\n",
        "  'instance': 'AS_G5690E04_R1750_STIP_TIP',\n",
        "  'magnitude': 0.0},\n",
        " {'coordinate': array([ 0.00225  , -0.0220426,  0.       ], dtype=float32),\n",
        "  'data': array([ 0.,  0.], dtype=float32),\n",
        "  'instance': 'AS_G5690E04_R1750_STIP_TIP',\n",
        "  'magnitude': 0.0},\n",
        " {'coordinate': array([ 0.0025   , -0.0220426,  0.       ], dtype=float32),\n",
        "  'data': array([ 0.,  0.], dtype=float32),\n",
        "  'instance': 'AS_G5690E04_R1750_STIP_TIP',\n",
        "  'magnitude': 0.0},\n",
        " {'coordinate': array([ 0.00275  , -0.0220426,  0.       ], dtype=float32),\n",
        "  'data': array([ 0.,  0.], dtype=float32),\n",
        "  'instance': 'AS_G5690E04_R1750_STIP_TIP',\n",
        "  'magnitude': 0.0},\n",
        " {'coordinate': array([ 0.003    , -0.0220426,  0.       ], dtype=float32),\n",
        "  'data': array([ 0.,  0.], dtype=float32),\n",
        "  'instance': 'AS_G5690E04_R1750_STIP_TIP',\n",
        "  'magnitude': 0.0},\n",
        " {'coordinate': array([ 0.00325  , -0.0220426,  0.       ], dtype=float32),\n",
        "  'data': array([ 0.,  0.], dtype=float32),\n",
        "  'instance': 'AS_G5690E04_R1750_STIP_TIP',\n",
        "  'magnitude': 0.0},\n",
        " {'coordinate': array([ 0.0035   , -0.0220426,  0.       ], dtype=float32),\n",
        "  'data': array([ 0.,  0.], dtype=float32),\n",
        "  'instance': 'AS_G5690E04_R1750_STIP_TIP',\n",
        "  'magnitude': 0.0},\n",
        " {'coordinate': array([ 0.00375  , -0.0220426,  0.       ], dtype=float32),\n",
        "  'data': array([ 0.,  0.], dtype=float32),\n",
        "  'instance': 'AS_G5690E04_R1750_STIP_TIP',\n",
        "  'magnitude': 0.0},\n",
        " {'coordinate': array([ 0.004    , -0.0220426,  0.       ], dtype=float32),\n",
        "  'data': array([ 0.,  0.], dtype=float32),\n",
        "  'instance': 'AS_G5690E04_R1750_STIP_TIP',\n",
        "  'magnitude': 0.0},\n",
        " {'coordinate': array([ 0.00425  , -0.0220426,  0.       ], dtype=float32),\n",
        "  'data': array([ 0.,  0.], dtype=float32),\n",
        "  'instance': 'AS_G5690E04_R1750_STIP_TIP',\n",
        "  'magnitude': 0.0},\n",
        " {'coordinate': array([ 0.0045   , -0.0220426,  0.       ], dtype=float32),\n",
        "  'data': array([ 0.,  0.], dtype=float32),\n",
        "  'instance': 'AS_G5690E04_R1750_STIP_TIP',\n",
        "  'magnitude': 0.0},\n",
        " {'coordinate': array([ 0.00475  , -0.0220426,  0.       ], dtype=float32),\n",
        "  'data': array([ 0.,  0.], dtype=float32),\n",
        "  'instance': 'AS_G5690E04_R1750_STIP_TIP',\n",
        "  'magnitude': 0.0},\n",
        " {'coordinate': array([ 0.005    , -0.0220426,  0.       ], dtype=float32),\n",
        "  'data': array([ 0.,  0.], dtype=float32),\n",
        "  'instance': 'AS_G5690E04_R1750_STIP_TIP',\n",
        "  'magnitude': 0.0},\n",
        " {'coordinate': array([ 0.00525  , -0.0220426,  0.       ], dtype=float32),\n",
        "  'data': array([ 0.,  0.], dtype=float32),\n",
        "  'instance': 'AS_G5690E04_R1750_STIP_TIP',\n",
        "  'magnitude': 0.0},\n",
        " {'coordinate': array([ 0.0055   , -0.0220426,  0.       ], dtype=float32),\n",
        "  'data': array([ 0.,  0.], dtype=float32),\n",
        "  'instance': 'AS_G5690E04_R1750_STIP_TIP',\n",
        "  'magnitude': 0.0},\n",
        " {'coordinate': array([ 0.00575  , -0.0220426,  0.       ], dtype=float32),\n",
        "  'data': array([ 0.,  0.], dtype=float32),\n",
        "  'instance': 'AS_G5690E04_R1750_STIP_TIP',\n",
        "  'magnitude': 0.0},\n",
        " {'coordinate': array([ 0.006    , -0.0220426,  0.       ], dtype=float32),\n",
        "  'data': array([ 0.,  0.], dtype=float32),\n",
        "  'instance': 'AS_G5690E04_R1750_STIP_TIP',\n",
        "  'magnitude': 0.0},\n",
        " {'coordinate': array([ 0.00625  , -0.0220426,  0.       ], dtype=float32),\n",
        "  'data': array([ 0.,  0.], dtype=float32),\n",
        "  'instance': 'AS_G5690E04_R1750_STIP_TIP',\n",
        "  'magnitude': 0.0},\n",
        " {'coordinate': array([ 0.0065   , -0.0220426,  0.       ], dtype=float32),\n",
        "  'data': array([ 0.,  0.], dtype=float32),\n",
        "  'instance': 'AS_G5690E04_R1750_STIP_TIP',\n",
        "  'magnitude': 0.0},\n",
        " {'coordinate': array([ 0.00675  , -0.0220426,  0.       ], dtype=float32),\n",
        "  'data': array([ 0.,  0.], dtype=float32),\n",
        "  'instance': 'AS_G5690E04_R1750_STIP_TIP',\n",
        "  'magnitude': 0.0},\n",
        " {'coordinate': array([ 0.007    , -0.0220426,  0.       ], dtype=float32),\n",
        "  'data': array([ 0.,  0.], dtype=float32),\n",
        "  'instance': 'AS_G5690E04_R1750_STIP_TIP',\n",
        "  'magnitude': 0.0},\n",
        " {'coordinate': array([ 0.00725  , -0.0220426,  0.       ], dtype=float32),\n",
        "  'data': array([ 0.,  0.], dtype=float32),\n",
        "  'instance': 'AS_G5690E04_R1750_STIP_TIP',\n",
        "  'magnitude': 0.0},\n",
        " {'coordinate': array([ 0.0075   , -0.0220426,  0.       ], dtype=float32),\n",
        "  'data': array([ 0.,  0.], dtype=float32),\n",
        "  'instance': 'AS_G5690E04_R1750_STIP_TIP',\n",
        "  'magnitude': 0.0},\n",
        " {'coordinate': array([ 0.00775  , -0.0220426,  0.       ], dtype=float32),\n",
        "  'data': array([ 0.,  0.], dtype=float32),\n",
        "  'instance': 'AS_G5690E04_R1750_STIP_TIP',\n",
        "  'magnitude': 0.0},\n",
        " {'coordinate': array([ 0.008    , -0.0220426,  0.       ], dtype=float32),\n",
        "  'data': array([ 0.,  0.], dtype=float32),\n",
        "  'instance': 'AS_G5690E04_R1750_STIP_TIP',\n",
        "  'magnitude': 0.0},\n",
        " {'coordinate': array([ 0.00825  , -0.0220426,  0.       ], dtype=float32),\n",
        "  'data': array([ 0.,  0.], dtype=float32),\n",
        "  'instance': 'AS_G5690E04_R1750_STIP_TIP',\n",
        "  'magnitude': 0.0},\n",
        " {'coordinate': array([ 0.0085   , -0.0220426,  0.       ], dtype=float32),\n",
        "  'data': array([ 0.,  0.], dtype=float32),\n",
        "  'instance': 'AS_G5690E04_R1750_STIP_TIP',\n",
        "  'magnitude': 0.0},\n",
        " {'coordinate': array([ 0.00875  , -0.0220426,  0.       ], dtype=float32),\n",
        "  'data': array([ 0.,  0.], dtype=float32),\n",
        "  'instance': 'AS_G5690E04_R1750_STIP_TIP',\n",
        "  'magnitude': 0.0},\n",
        " {'coordinate': array([ 0.009    , -0.0220426,  0.       ], dtype=float32),\n",
        "  'data': array([ 0.,  0.], dtype=float32),\n",
        "  'instance': 'AS_G5690E04_R1750_STIP_TIP',\n",
        "  'magnitude': 0.0},\n",
        " {'coordinate': array([ 0.00925  , -0.0220426,  0.       ], dtype=float32),\n",
        "  'data': array([ 0.,  0.], dtype=float32),\n",
        "  'instance': 'AS_G5690E04_R1750_STIP_TIP',\n",
        "  'magnitude': 0.0},\n",
        " {'coordinate': array([ 0.0095   , -0.0220426,  0.       ], dtype=float32),\n",
        "  'data': array([ 0.,  0.], dtype=float32),\n",
        "  'instance': 'AS_G5690E04_R1750_STIP_TIP',\n",
        "  'magnitude': 0.0},\n",
        " {'coordinate': array([ 0.00975  , -0.0220426,  0.       ], dtype=float32),\n",
        "  'data': array([ 0.,  0.], dtype=float32),\n",
        "  'instance': 'AS_G5690E04_R1750_STIP_TIP',\n",
        "  'magnitude': 0.0},\n",
        " {'coordinate': array([ 0.01     , -0.0220426,  0.       ], dtype=float32),\n",
        "  'data': array([ 0.,  0.], dtype=float32),\n",
        "  'instance': 'AS_G5690E04_R1750_STIP_TIP',\n",
        "  'magnitude': 0.0},\n",
        " {'coordinate': array([ 0.01025  , -0.0220426,  0.       ], dtype=float32),\n",
        "  'data': array([ 0.,  0.], dtype=float32),\n",
        "  'instance': 'AS_G5690E04_R1750_STIP_TIP',\n",
        "  'magnitude': 0.0},\n",
        " {'coordinate': array([ 0.0105   , -0.0220426,  0.       ], dtype=float32),\n",
        "  'data': array([ 0.,  0.], dtype=float32),\n",
        "  'instance': 'AS_G5690E04_R1750_STIP_TIP',\n",
        "  'magnitude': 0.0},\n",
        " {'coordinate': array([ 0.01075  , -0.0220426,  0.       ], dtype=float32),\n",
        "  'data': array([ 0.,  0.], dtype=float32),\n",
        "  'instance': 'AS_G5690E04_R1750_STIP_TIP',\n",
        "  'magnitude': 0.0},\n",
        " {'coordinate': array([ 0.011    , -0.0220426,  0.       ], dtype=float32),\n",
        "  'data': array([ 0.,  0.], dtype=float32),\n",
        "  'instance': 'AS_G5690E04_R1750_STIP_TIP',\n",
        "  'magnitude': 0.0},\n",
        " {'coordinate': array([ 0.01125  , -0.0220426,  0.       ], dtype=float32),\n",
        "  'data': array([ 0.,  0.], dtype=float32),\n",
        "  'instance': 'AS_G5690E04_R1750_STIP_TIP',\n",
        "  'magnitude': 0.0},\n",
        " {'coordinate': array([ 0.0115   , -0.0220426,  0.       ], dtype=float32),\n",
        "  'data': array([ 0.,  0.], dtype=float32),\n",
        "  'instance': 'AS_G5690E04_R1750_STIP_TIP',\n",
        "  'magnitude': 0.0},\n",
        " {'coordinate': array([ 0.01175  , -0.0220426,  0.       ], dtype=float32),\n",
        "  'data': array([ 0.,  0.], dtype=float32),\n",
        "  'instance': 'AS_G5690E04_R1750_STIP_TIP',\n",
        "  'magnitude': 0.0},\n",
        " {'coordinate': array([ 0.012    , -0.0220426,  0.       ], dtype=float32),\n",
        "  'data': array([ 0.,  0.], dtype=float32),\n",
        "  'instance': 'AS_G5690E04_R1750_STIP_TIP',\n",
        "  'magnitude': 0.0},\n",
        " {'coordinate': array([ 0.01225  , -0.0220426,  0.       ], dtype=float32),\n",
        "  'data': array([ 0.,  0.], dtype=float32),\n",
        "  'instance': 'AS_G5690E04_R1750_STIP_TIP',\n",
        "  'magnitude': 0.0},\n",
        " {'coordinate': array([ 0.0125   , -0.0220426,  0.       ], dtype=float32),\n",
        "  'data': array([ 0.,  0.], dtype=float32),\n",
        "  'instance': 'AS_G5690E04_R1750_STIP_TIP',\n",
        "  'magnitude': 0.0},\n",
        " {'coordinate': array([ 0.01275  , -0.0220426,  0.       ], dtype=float32),\n",
        "  'data': array([ 0.,  0.], dtype=float32),\n",
        "  'instance': 'AS_G5690E04_R1750_STIP_TIP',\n",
        "  'magnitude': 0.0},\n",
        " {'coordinate': array([ 0.013    , -0.0220426,  0.       ], dtype=float32),\n",
        "  'data': array([ 0.,  0.], dtype=float32),\n",
        "  'instance': 'AS_G5690E04_R1750_STIP_TIP',\n",
        "  'magnitude': 0.0},\n",
        " {'coordinate': array([ 0.01325  , -0.0220426,  0.       ], dtype=float32),\n",
        "  'data': array([ 0.,  0.], dtype=float32),\n",
        "  'instance': 'AS_G5690E04_R1750_STIP_TIP',\n",
        "  'magnitude': 0.0},\n",
        " {'coordinate': array([ 0.0135   , -0.0220426,  0.       ], dtype=float32),\n",
        "  'data': array([ 0.,  0.], dtype=float32),\n",
        "  'instance': 'AS_G5690E04_R1750_STIP_TIP',\n",
        "  'magnitude': 0.0},\n",
        " {'coordinate': array([ 0.01375  , -0.0220426,  0.       ], dtype=float32),\n",
        "  'data': array([ 0.,  0.], dtype=float32),\n",
        "  'instance': 'AS_G5690E04_R1750_STIP_TIP',\n",
        "  'magnitude': 0.0},\n",
        " {'coordinate': array([ 0.014    , -0.0220426,  0.       ], dtype=float32),\n",
        "  'data': array([ 0.,  0.], dtype=float32),\n",
        "  'instance': 'AS_G5690E04_R1750_STIP_TIP',\n",
        "  'magnitude': 0.0},\n",
        " {'coordinate': array([ 0.01425  , -0.0220426,  0.       ], dtype=float32),\n",
        "  'data': array([ 0.,  0.], dtype=float32),\n",
        "  'instance': 'AS_G5690E04_R1750_STIP_TIP',\n",
        "  'magnitude': 0.0},\n",
        " {'coordinate': array([ 0.0145   , -0.0220426,  0.       ], dtype=float32),\n",
        "  'data': array([ 0.,  0.], dtype=float32),\n",
        "  'instance': 'AS_G5690E04_R1750_STIP_TIP',\n",
        "  'magnitude': 0.0},\n",
        " {'coordinate': array([ 0.01475  , -0.0220426,  0.       ], dtype=float32),\n",
        "  'data': array([ 0.,  0.], dtype=float32),\n",
        "  'instance': 'AS_G5690E04_R1750_STIP_TIP',\n",
        "  'magnitude': 0.0},\n",
        " {'coordinate': array([ 0.015    , -0.0220426,  0.       ], dtype=float32),\n",
        "  'data': array([ 0.,  0.], dtype=float32),\n",
        "  'instance': 'AS_G5690E04_R1750_STIP_TIP',\n",
        "  'magnitude': 0.0},\n",
        " {'coordinate': array([ 0.01525  , -0.0220426,  0.       ], dtype=float32),\n",
        "  'data': array([ 0.,  0.], dtype=float32),\n",
        "  'instance': 'AS_G5690E04_R1750_STIP_TIP',\n",
        "  'magnitude': 0.0},\n",
        " {'coordinate': array([ 0.0155   , -0.0220426,  0.       ], dtype=float32),\n",
        "  'data': array([ 0.,  0.], dtype=float32),\n",
        "  'instance': 'AS_G5690E04_R1750_STIP_TIP',\n",
        "  'magnitude': 0.0},\n",
        " {'coordinate': array([ 0.01575  , -0.0220426,  0.       ], dtype=float32),\n",
        "  'data': array([ 0.,  0.], dtype=float32),\n",
        "  'instance': 'AS_G5690E04_R1750_STIP_TIP',\n",
        "  'magnitude': 0.0},\n",
        " {'coordinate': array([ 0.016    , -0.0220426,  0.       ], dtype=float32),\n",
        "  'data': array([ 0.,  0.], dtype=float32),\n",
        "  'instance': 'AS_G5690E04_R1750_STIP_TIP',\n",
        "  'magnitude': 0.0},\n",
        " {'coordinate': array([ 0.01625  , -0.0220426,  0.       ], dtype=float32),\n",
        "  'data': array([ 0.,  0.], dtype=float32),\n",
        "  'instance': 'AS_G5690E04_R1750_STIP_TIP',\n",
        "  'magnitude': 0.0},\n",
        " {'coordinate': array([ 0.0165   , -0.0220426,  0.       ], dtype=float32),\n",
        "  'data': array([ 0.,  0.], dtype=float32),\n",
        "  'instance': 'AS_G5690E04_R1750_STIP_TIP',\n",
        "  'magnitude': 0.0},\n",
        " {'coordinate': array([ 0.01675  , -0.0220426,  0.       ], dtype=float32),\n",
        "  'data': array([ 0.,  0.], dtype=float32),\n",
        "  'instance': 'AS_G5690E04_R1750_STIP_TIP',\n",
        "  'magnitude': 0.0},\n",
        " {'coordinate': array([ 0.017    , -0.0220426,  0.       ], dtype=float32),\n",
        "  'data': array([ 0.,  0.], dtype=float32),\n",
        "  'instance': 'AS_G5690E04_R1750_STIP_TIP',\n",
        "  'magnitude': 0.0},\n",
        " {'coordinate': array([ 0.01725  , -0.0220426,  0.       ], dtype=float32),\n",
        "  'data': array([ 0.,  0.], dtype=float32),\n",
        "  'instance': 'AS_G5690E04_R1750_STIP_TIP',\n",
        "  'magnitude': 0.0},\n",
        " {'coordinate': array([ 0.0175   , -0.0220426,  0.       ], dtype=float32),\n",
        "  'data': array([ 0.,  0.], dtype=float32),\n",
        "  'instance': 'AS_G5690E04_R1750_STIP_TIP',\n",
        "  'magnitude': 0.0},\n",
        " {'coordinate': array([ 0.        , -0.02029808,  0.        ], dtype=float32),\n",
        "  'data': array([ 0.,  0.], dtype=float32),\n",
        "  'instance': 'AS_G5690E04_R1750_STIP_TIP',\n",
        "  'magnitude': 0.0},\n",
        " {'coordinate': array([ 0.00025   , -0.02029808,  0.        ], dtype=float32),\n",
        "  'data': array([ 0.,  0.], dtype=float32),\n",
        "  'instance': 'AS_G5690E04_R1750_STIP_TIP',\n",
        "  'magnitude': 0.0},\n",
        " {'coordinate': array([ 0.0005    , -0.02029808,  0.        ], dtype=float32),\n",
        "  'data': array([ 0.,  0.], dtype=float32),\n",
        "  'instance': 'AS_G5690E04_R1750_STIP_TIP',\n",
        "  'magnitude': 0.0},\n",
        " {'coordinate': array([ 0.00075   , -0.02029808,  0.        ], dtype=float32),\n",
        "  'data': array([ 0.,  0.], dtype=float32),\n",
        "  'instance': 'AS_G5690E04_R1750_STIP_TIP',\n",
        "  'magnitude': 0.0},\n",
        " {'coordinate': array([ 0.001     , -0.02029808,  0.        ], dtype=float32),\n",
        "  'data': array([ 0.,  0.], dtype=float32),\n",
        "  'instance': 'AS_G5690E04_R1750_STIP_TIP',\n",
        "  'magnitude': 0.0},\n",
        " {'coordinate': array([ 0.00125   , -0.02029808,  0.        ], dtype=float32),\n",
        "  'data': array([ 0.,  0.], dtype=float32),\n",
        "  'instance': 'AS_G5690E04_R1750_STIP_TIP',\n",
        "  'magnitude': 0.0},\n",
        " {'coordinate': array([ 0.0015    , -0.02029808,  0.        ], dtype=float32),\n",
        "  'data': array([ 0.,  0.], dtype=float32),\n",
        "  'instance': 'AS_G5690E04_R1750_STIP_TIP',\n",
        "  'magnitude': 0.0},\n",
        " {'coordinate': array([ 0.00175   , -0.02029808,  0.        ], dtype=float32),\n",
        "  'data': array([ 0.,  0.], dtype=float32),\n",
        "  'instance': 'AS_G5690E04_R1750_STIP_TIP',\n",
        "  'magnitude': 0.0},\n",
        " {'coordinate': array([ 0.002     , -0.02029808,  0.        ], dtype=float32),\n",
        "  'data': array([ 0.,  0.], dtype=float32),\n",
        "  'instance': 'AS_G5690E04_R1750_STIP_TIP',\n",
        "  'magnitude': 0.0},\n",
        " {'coordinate': array([ 0.00225   , -0.02029808,  0.        ], dtype=float32),\n",
        "  'data': array([ 0.,  0.], dtype=float32),\n",
        "  'instance': 'AS_G5690E04_R1750_STIP_TIP',\n",
        "  'magnitude': 0.0},\n",
        " {'coordinate': array([ 0.0025    , -0.02029808,  0.        ], dtype=float32),\n",
        "  'data': array([ 0.,  0.], dtype=float32),\n",
        "  'instance': 'AS_G5690E04_R1750_STIP_TIP',\n",
        "  'magnitude': 0.0},\n",
        " {'coordinate': array([ 0.00275   , -0.02029808,  0.        ], dtype=float32),\n",
        "  'data': array([ 0.,  0.], dtype=float32),\n",
        "  'instance': 'AS_G5690E04_R1750_STIP_TIP',\n",
        "  'magnitude': 0.0},\n",
        " {'coordinate': array([ 0.003     , -0.02029808,  0.        ], dtype=float32),\n",
        "  'data': array([ 0.,  0.], dtype=float32),\n",
        "  'instance': 'AS_G5690E04_R1750_STIP_TIP',\n",
        "  'magnitude': 0.0},\n",
        " {'coordinate': array([ 0.00325   , -0.02029808,  0.        ], dtype=float32),\n",
        "  'data': array([ 0.,  0.], dtype=float32),\n",
        "  'instance': 'AS_G5690E04_R1750_STIP_TIP',\n",
        "  'magnitude': 0.0},\n",
        " {'coordinate': array([ 0.0035    , -0.02029808,  0.        ], dtype=float32),\n",
        "  'data': array([ 0.,  0.], dtype=float32),\n",
        "  'instance': 'AS_G5690E04_R1750_STIP_TIP',\n",
        "  'magnitude': 0.0},\n",
        " {'coordinate': array([ 0.00375   , -0.02029808,  0.        ], dtype=float32),\n",
        "  'data': array([ 0.,  0.], dtype=float32),\n",
        "  'instance': 'AS_G5690E04_R1750_STIP_TIP',\n",
        "  'magnitude': 0.0},\n",
        " {'coordinate': array([ 0.004     , -0.02029808,  0.        ], dtype=float32),\n",
        "  'data': array([ 0.,  0.], dtype=float32),\n",
        "  'instance': 'AS_G5690E04_R1750_STIP_TIP',\n",
        "  'magnitude': 0.0},\n",
        " {'coordinate': array([ 0.00425   , -0.02029808,  0.        ], dtype=float32),\n",
        "  'data': array([ 0.,  0.], dtype=float32),\n",
        "  'instance': 'AS_G5690E04_R1750_STIP_TIP',\n",
        "  'magnitude': 0.0},\n",
        " {'coordinate': array([ 0.0045    , -0.02029808,  0.        ], dtype=float32),\n",
        "  'data': array([ 0.,  0.], dtype=float32),\n",
        "  'instance': 'AS_G5690E04_R1750_STIP_TIP',\n",
        "  'magnitude': 0.0},\n",
        " {'coordinate': array([ 0.00475   , -0.02029808,  0.        ], dtype=float32),\n",
        "  'data': array([ 0.,  0.], dtype=float32),\n",
        "  'instance': 'AS_G5690E04_R1750_STIP_TIP',\n",
        "  'magnitude': 0.0},\n",
        " {'coordinate': array([ 0.005     , -0.02029808,  0.        ], dtype=float32),\n",
        "  'data': array([ 0.,  0.], dtype=float32),\n",
        "  'instance': 'AS_G5690E04_R1750_STIP_TIP',\n",
        "  'magnitude': 0.0},\n",
        " {'coordinate': array([ 0.00525   , -0.02029808,  0.        ], dtype=float32),\n",
        "  'data': array([ 0.,  0.], dtype=float32),\n",
        "  'instance': 'AS_G5690E04_R1750_STIP_TIP',\n",
        "  'magnitude': 0.0},\n",
        " {'coordinate': array([ 0.0055    , -0.02029808,  0.        ], dtype=float32),\n",
        "  'data': array([ 0.,  0.], dtype=float32),\n",
        "  'instance': 'AS_G5690E04_R1750_STIP_TIP',\n",
        "  'magnitude': 0.0},\n",
        " {'coordinate': array([ 0.00575   , -0.02029808,  0.        ], dtype=float32),\n",
        "  'data': array([ 0.,  0.], dtype=float32),\n",
        "  'instance': 'AS_G5690E04_R1750_STIP_TIP',\n",
        "  'magnitude': 0.0},\n",
        " {'coordinate': array([ 0.006     , -0.02029808,  0.        ], dtype=float32),\n",
        "  'data': array([ 0.,  0.], dtype=float32),\n",
        "  'instance': 'AS_G5690E04_R1750_STIP_TIP',\n",
        "  'magnitude': 0.0},\n",
        " {'coordinate': array([ 0.00625   , -0.02029808,  0.        ], dtype=float32),\n",
        "  'data': array([ 0.,  0.], dtype=float32),\n",
        "  'instance': 'AS_G5690E04_R1750_STIP_TIP',\n",
        "  'magnitude': 0.0},\n",
        " {'coordinate': array([ 0.0065    , -0.02029808,  0.        ], dtype=float32),\n",
        "  'data': array([ 0.,  0.], dtype=float32),\n",
        "  'instance': 'AS_G5690E04_R1750_STIP_TIP',\n",
        "  'magnitude': 0.0},\n",
        " {'coordinate': array([ 0.00675   , -0.02029808,  0.        ], dtype=float32),\n",
        "  'data': array([ 0.,  0.], dtype=float32),\n",
        "  'instance': 'AS_G5690E04_R1750_STIP_TIP',\n",
        "  'magnitude': 0.0},\n",
        " {'coordinate': array([ 0.007     , -0.02029808,  0.        ], dtype=float32),\n",
        "  'data': array([ 0.,  0.], dtype=float32),\n",
        "  'instance': 'AS_G5690E04_R1750_STIP_TIP',\n",
        "  'magnitude': 0.0},\n",
        " {'coordinate': array([ 0.00725   , -0.02029808,  0.        ], dtype=float32),\n",
        "  'data': array([ 0.,  0.], dtype=float32),\n",
        "  'instance': 'AS_G5690E04_R1750_STIP_TIP',\n",
        "  'magnitude': 0.0},\n",
        " {'coordinate': array([ 0.0075    , -0.02029808,  0.        ], dtype=float32),\n",
        "  'data': array([ 0.,  0.], dtype=float32),\n",
        "  'instance': 'AS_G5690E04_R1750_STIP_TIP',\n",
        "  'magnitude': 0.0},\n",
        " {'coordinate': array([ 0.00775   , -0.02029808,  0.        ], dtype=float32),\n",
        "  'data': array([ 0.,  0.], dtype=float32),\n",
        "  'instance': 'AS_G5690E04_R1750_STIP_TIP',\n",
        "  'magnitude': 0.0},\n",
        " {'coordinate': array([ 0.008     , -0.02029808,  0.        ], dtype=float32),\n",
        "  'data': array([ 0.,  0.], dtype=float32),\n",
        "  'instance': 'AS_G5690E04_R1750_STIP_TIP',\n",
        "  'magnitude': 0.0},\n",
        " {'coordinate': array([ 0.00825   , -0.02029808,  0.        ], dtype=float32),\n",
        "  'data': array([ 0.,  0.], dtype=float32),\n",
        "  'instance': 'AS_G5690E04_R1750_STIP_TIP',\n",
        "  'magnitude': 0.0},\n",
        " {'coordinate': array([ 0.0085    , -0.02029808,  0.        ], dtype=float32),\n",
        "  'data': array([ 0.,  0.], dtype=float32),\n",
        "  'instance': 'AS_G5690E04_R1750_STIP_TIP',\n",
        "  'magnitude': 0.0},\n",
        " {'coordinate': array([ 0.00875   , -0.02029808,  0.        ], dtype=float32),\n",
        "  'data': array([ 0.,  0.], dtype=float32),\n",
        "  'instance': 'AS_G5690E04_R1750_STIP_TIP',\n",
        "  'magnitude': 0.0},\n",
        " {'coordinate': array([ 0.009     , -0.02029808,  0.        ], dtype=float32),\n",
        "  'data': array([ 0.,  0.], dtype=float32),\n",
        "  'instance': 'AS_G5690E04_R1750_STIP_TIP',\n",
        "  'magnitude': 0.0},\n",
        " {'coordinate': array([ 0.00925   , -0.02029808,  0.        ], dtype=float32),\n",
        "  'data': array([ 0.,  0.], dtype=float32),\n",
        "  'instance': 'AS_G5690E04_R1750_STIP_TIP',\n",
        "  'magnitude': 0.0},\n",
        " {'coordinate': array([ 0.0095    , -0.02029808,  0.        ], dtype=float32),\n",
        "  'data': array([ 0.,  0.], dtype=float32),\n",
        "  'instance': 'AS_G5690E04_R1750_STIP_TIP',\n",
        "  'magnitude': 0.0},\n",
        " {'coordinate': array([ 0.00975   , -0.02029808,  0.        ], dtype=float32),\n",
        "  'data': array([ 0.,  0.], dtype=float32),\n",
        "  'instance': 'AS_G5690E04_R1750_STIP_TIP',\n",
        "  'magnitude': 0.0},\n",
        " {'coordinate': array([ 0.01      , -0.02029808,  0.        ], dtype=float32),\n",
        "  'data': array([ 0.,  0.], dtype=float32),\n",
        "  'instance': 'AS_G5690E04_R1750_STIP_TIP',\n",
        "  'magnitude': 0.0},\n",
        " {'coordinate': array([ 0.01025   , -0.02029808,  0.        ], dtype=float32),\n",
        "  'data': array([ 0.,  0.], dtype=float32),\n",
        "  'instance': 'AS_G5690E04_R1750_STIP_TIP',\n",
        "  'magnitude': 0.0},\n",
        " {'coordinate': array([ 0.0105    , -0.02029808,  0.        ], dtype=float32),\n",
        "  'data': array([ 0.,  0.], dtype=float32),\n",
        "  'instance': 'AS_G5690E04_R1750_STIP_TIP',\n",
        "  'magnitude': 0.0},\n",
        " {'coordinate': array([ 0.01075   , -0.02029808,  0.        ], dtype=float32),\n",
        "  'data': array([ 0.,  0.], dtype=float32),\n",
        "  'instance': 'AS_G5690E04_R1750_STIP_TIP',\n",
        "  'magnitude': 0.0},\n",
        " {'coordinate': array([ 0.011     , -0.02029808,  0.        ], dtype=float32),\n",
        "  'data': array([ 0.,  0.], dtype=float32),\n",
        "  'instance': 'AS_G5690E04_R1750_STIP_TIP',\n",
        "  'magnitude': 0.0},\n",
        " {'coordinate': array([ 0.01125   , -0.02029808,  0.        ], dtype=float32),\n",
        "  'data': array([ 0.,  0.], dtype=float32),\n",
        "  'instance': 'AS_G5690E04_R1750_STIP_TIP',\n",
        "  'magnitude': 0.0},\n",
        " {'coordinate': array([ 0.0115    , -0.02029808,  0.        ], dtype=float32),\n",
        "  'data': array([ 0.,  0.], dtype=float32),\n",
        "  'instance': 'AS_G5690E04_R1750_STIP_TIP',\n",
        "  'magnitude': 0.0},\n",
        " {'coordinate': array([ 0.01175   , -0.02029808,  0.        ], dtype=float32),\n",
        "  'data': array([ 0.,  0.], dtype=float32),\n",
        "  'instance': 'AS_G5690E04_R1750_STIP_TIP',\n",
        "  'magnitude': 0.0},\n",
        " {'coordinate': array([ 0.012     , -0.02029808,  0.        ], dtype=float32),\n",
        "  'data': array([ 0.,  0.], dtype=float32),\n",
        "  'instance': 'AS_G5690E04_R1750_STIP_TIP',\n",
        "  'magnitude': 0.0},\n",
        " {'coordinate': array([ 0.01225   , -0.02029808,  0.        ], dtype=float32),\n",
        "  'data': array([ 0.,  0.], dtype=float32),\n",
        "  'instance': 'AS_G5690E04_R1750_STIP_TIP',\n",
        "  'magnitude': 0.0},\n",
        " {'coordinate': array([ 0.0125    , -0.02029808,  0.        ], dtype=float32),\n",
        "  'data': array([ 0.,  0.], dtype=float32),\n",
        "  'instance': 'AS_G5690E04_R1750_STIP_TIP',\n",
        "  'magnitude': 0.0},\n",
        " {'coordinate': array([ 0.01275   , -0.02029808,  0.        ], dtype=float32),\n",
        "  'data': array([ 0.,  0.], dtype=float32),\n",
        "  'instance': 'AS_G5690E04_R1750_STIP_TIP',\n",
        "  'magnitude': 0.0},\n",
        " {'coordinate': array([ 0.013     , -0.02029808,  0.        ], dtype=float32),\n",
        "  'data': array([ 0.,  0.], dtype=float32),\n",
        "  'instance': 'AS_G5690E04_R1750_STIP_TIP',\n",
        "  'magnitude': 0.0},\n",
        " {'coordinate': array([ 0.01325   , -0.02029808,  0.        ], dtype=float32),\n",
        "  'data': array([ 0.,  0.], dtype=float32),\n",
        "  'instance': 'AS_G5690E04_R1750_STIP_TIP',\n",
        "  'magnitude': 0.0},\n",
        " {'coordinate': array([ 0.0135    , -0.02029808,  0.        ], dtype=float32),\n",
        "  'data': array([ 0.,  0.], dtype=float32),\n",
        "  'instance': 'AS_G5690E04_R1750_STIP_TIP',\n",
        "  'magnitude': 0.0},\n",
        " {'coordinate': array([ 0.01375   , -0.02029808,  0.        ], dtype=float32),\n",
        "  'data': array([ 0.,  0.], dtype=float32),\n",
        "  'instance': 'AS_G5690E04_R1750_STIP_TIP',\n",
        "  'magnitude': 0.0},\n",
        " {'coordinate': array([ 0.014     , -0.02029808,  0.        ], dtype=float32),\n",
        "  'data': array([ 0.,  0.], dtype=float32),\n",
        "  'instance': 'AS_G5690E04_R1750_STIP_TIP',\n",
        "  'magnitude': 0.0},\n",
        " {'coordinate': array([ 0.01425   , -0.02029808,  0.        ], dtype=float32),\n",
        "  'data': array([ 0.,  0.], dtype=float32),\n",
        "  'instance': 'AS_G5690E04_R1750_STIP_TIP',\n",
        "  'magnitude': 0.0},\n",
        " {'coordinate': array([ 0.0145    , -0.02029808,  0.        ], dtype=float32),\n",
        "  'data': array([ 0.,  0.], dtype=float32),\n",
        "  'instance': 'AS_G5690E04_R1750_STIP_TIP',\n",
        "  'magnitude': 0.0},\n",
        " {'coordinate': array([ 0.01475   , -0.02029808,  0.        ], dtype=float32),\n",
        "  'data': array([ 0.,  0.], dtype=float32),\n",
        "  'instance': 'AS_G5690E04_R1750_STIP_TIP',\n",
        "  'magnitude': 0.0},\n",
        " {'coordinate': array([ 0.015     , -0.02029808,  0.        ], dtype=float32),\n",
        "  'data': array([ 0.,  0.], dtype=float32),\n",
        "  'instance': 'AS_G5690E04_R1750_STIP_TIP',\n",
        "  'magnitude': 0.0},\n",
        " {'coordinate': array([ 0.01525   , -0.02029808,  0.        ], dtype=float32),\n",
        "  'data': array([ 0.,  0.], dtype=float32),\n",
        "  'instance': 'AS_G5690E04_R1750_STIP_TIP',\n",
        "  'magnitude': 0.0},\n",
        " {'coordinate': array([ 0.0155    , -0.02029808,  0.        ], dtype=float32),\n",
        "  'data': array([ 0.,  0.], dtype=float32),\n",
        "  'instance': 'AS_G5690E04_R1750_STIP_TIP',\n",
        "  'magnitude': 0.0},\n",
        " {'coordinate': array([ 0.01575   , -0.02029808,  0.        ], dtype=float32),\n",
        "  'data': array([ 0.,  0.], dtype=float32),\n",
        "  'instance': 'AS_G5690E04_R1750_STIP_TIP',\n",
        "  'magnitude': 0.0},\n",
        " {'coordinate': array([ 0.016     , -0.02029808,  0.        ], dtype=float32),\n",
        "  'data': array([ 0.,  0.], dtype=float32),\n",
        "  'instance': 'AS_G5690E04_R1750_STIP_TIP',\n",
        "  'magnitude': 0.0},\n",
        " {'coordinate': array([ 0.01625   , -0.02029808,  0.        ], dtype=float32),\n",
        "  'data': array([ 0.,  0.], dtype=float32),\n",
        "  'instance': 'AS_G5690E04_R1750_STIP_TIP',\n",
        "  'magnitude': 0.0},\n",
        " {'coordinate': array([ 0.0165    , -0.02029808,  0.        ], dtype=float32),\n",
        "  'data': array([ 0.,  0.], dtype=float32),\n",
        "  'instance': 'AS_G5690E04_R1750_STIP_TIP',\n",
        "  'magnitude': 0.0},\n",
        " {'coordinate': array([ 0.01675   , -0.02029808,  0.        ], dtype=float32),\n",
        "  'data': array([ 0.,  0.], dtype=float32),\n",
        "  'instance': 'AS_G5690E04_R1750_STIP_TIP',\n",
        "  'magnitude': 0.0},\n",
        " {'coordinate': array([ 0.017     , -0.02029808,  0.        ], dtype=float32),\n",
        "  'data': array([ 0.,  0.], dtype=float32),\n",
        "  'instance': 'AS_G5690E04_R1750_STIP_TIP',\n",
        "  'magnitude': 0.0},\n",
        " {'coordinate': array([ 0.01725   , -0.02029808,  0.        ], dtype=float32),\n",
        "  'data': array([ 0.,  0.], dtype=float32),\n",
        "  'instance': 'AS_G5690E04_R1750_STIP_TIP',\n",
        "  'magnitude': 0.0},\n",
        " {'coordinate': array([ 0.0175    , -0.02029808,  0.        ], dtype=float32),\n",
        "  'data': array([ 0.,  0.], dtype=float32),\n",
        "  'instance': 'AS_G5690E04_R1750_STIP_TIP',\n",
        "  'magnitude': 0.0},\n",
        " {'coordinate': array([ 0.        , -0.01865434,  0.        ], dtype=float32),\n",
        "  'data': array([ 0.,  0.], dtype=float32),\n",
        "  'instance': 'AS_G5690E04_R1750_STIP_TIP',\n",
        "  'magnitude': 0.0},\n",
        " {'coordinate': array([ 0.00025   , -0.01865434,  0.        ], dtype=float32),\n",
        "  'data': array([ 0.,  0.], dtype=float32),\n",
        "  'instance': 'AS_G5690E04_R1750_STIP_TIP',\n",
        "  'magnitude': 0.0},\n",
        " {'coordinate': array([ 0.0005    , -0.01865434,  0.        ], dtype=float32),\n",
        "  'data': array([ 0.,  0.], dtype=float32),\n",
        "  'instance': 'AS_G5690E04_R1750_STIP_TIP',\n",
        "  'magnitude': 0.0},\n",
        " {'coordinate': array([ 0.00075   , -0.01865434,  0.        ], dtype=float32),\n",
        "  'data': array([ 0.,  0.], dtype=float32),\n",
        "  'instance': 'AS_G5690E04_R1750_STIP_TIP',\n",
        "  'magnitude': 0.0},\n",
        " {'coordinate': array([ 0.001     , -0.01865434,  0.        ], dtype=float32),\n",
        "  'data': array([ 0.,  0.], dtype=float32),\n",
        "  'instance': 'AS_G5690E04_R1750_STIP_TIP',\n",
        "  'magnitude': 0.0},\n",
        " {'coordinate': array([ 0.00125   , -0.01865434,  0.        ], dtype=float32),\n",
        "  'data': array([ 0.,  0.], dtype=float32),\n",
        "  'instance': 'AS_G5690E04_R1750_STIP_TIP',\n",
        "  'magnitude': 0.0},\n",
        " {'coordinate': array([ 0.0015    , -0.01865434,  0.        ], dtype=float32),\n",
        "  'data': array([ 0.,  0.], dtype=float32),\n",
        "  'instance': 'AS_G5690E04_R1750_STIP_TIP',\n",
        "  'magnitude': 0.0},\n",
        " {'coordinate': array([ 0.00175   , -0.01865434,  0.        ], dtype=float32),\n",
        "  'data': array([ 0.,  0.], dtype=float32),\n",
        "  'instance': 'AS_G5690E04_R1750_STIP_TIP',\n",
        "  'magnitude': 0.0},\n",
        " {'coordinate': array([ 0.002     , -0.01865434,  0.        ], dtype=float32),\n",
        "  'data': array([ 0.,  0.], dtype=float32),\n",
        "  'instance': 'AS_G5690E04_R1750_STIP_TIP',\n",
        "  'magnitude': 0.0},\n",
        " {'coordinate': array([ 0.00225   , -0.01865434,  0.        ], dtype=float32),\n",
        "  'data': array([ 0.,  0.], dtype=float32),\n",
        "  'instance': 'AS_G5690E04_R1750_STIP_TIP',\n",
        "  'magnitude': 0.0},\n",
        " {'coordinate': array([ 0.0025    , -0.01865434,  0.        ], dtype=float32),\n",
        "  'data': array([ 0.,  0.], dtype=float32),\n",
        "  'instance': 'AS_G5690E04_R1750_STIP_TIP',\n",
        "  'magnitude': 0.0},\n",
        " {'coordinate': array([ 0.00275   , -0.01865434,  0.        ], dtype=float32),\n",
        "  'data': array([ 0.,  0.], dtype=float32),\n",
        "  'instance': 'AS_G5690E04_R1750_STIP_TIP',\n",
        "  'magnitude': 0.0},\n",
        " {'coordinate': array([ 0.003     , -0.01865434,  0.        ], dtype=float32),\n",
        "  'data': array([ 0.,  0.], dtype=float32),\n",
        "  'instance': 'AS_G5690E04_R1750_STIP_TIP',\n",
        "  'magnitude': 0.0},\n",
        " {'coordinate': array([ 0.00325   , -0.01865434,  0.        ], dtype=float32),\n",
        "  'data': array([ 0.,  0.], dtype=float32),\n",
        "  'instance': 'AS_G5690E04_R1750_STIP_TIP',\n",
        "  'magnitude': 0.0},\n",
        " {'coordinate': array([ 0.0035    , -0.01865434,  0.        ], dtype=float32),\n",
        "  'data': array([ 0.,  0.], dtype=float32),\n",
        "  'instance': 'AS_G5690E04_R1750_STIP_TIP',\n",
        "  'magnitude': 0.0},\n",
        " {'coordinate': array([ 0.00375   , -0.01865434,  0.        ], dtype=float32),\n",
        "  'data': array([ 0.,  0.], dtype=float32),\n",
        "  'instance': 'AS_G5690E04_R1750_STIP_TIP',\n",
        "  'magnitude': 0.0},\n",
        " {'coordinate': array([ 0.004     , -0.01865434,  0.        ], dtype=float32),\n",
        "  'data': array([ 0.,  0.], dtype=float32),\n",
        "  'instance': 'AS_G5690E04_R1750_STIP_TIP',\n",
        "  'magnitude': 0.0},\n",
        " {'coordinate': array([ 0.00425   , -0.01865434,  0.        ], dtype=float32),\n",
        "  'data': array([ 0.,  0.], dtype=float32),\n",
        "  'instance': 'AS_G5690E04_R1750_STIP_TIP',\n",
        "  'magnitude': 0.0},\n",
        " {'coordinate': array([ 0.0045    , -0.01865434,  0.        ], dtype=float32),\n",
        "  'data': array([ 0.,  0.], dtype=float32),\n",
        "  'instance': 'AS_G5690E04_R1750_STIP_TIP',\n",
        "  'magnitude': 0.0},\n",
        " {'coordinate': array([ 0.00475   , -0.01865434,  0.        ], dtype=float32),\n",
        "  'data': array([ 0.,  0.], dtype=float32),\n",
        "  'instance': 'AS_G5690E04_R1750_STIP_TIP',\n",
        "  'magnitude': 0.0},\n",
        " {'coordinate': array([ 0.005     , -0.01865434,  0.        ], dtype=float32),\n",
        "  'data': array([ 0.,  0.], dtype=float32),\n",
        "  'instance': 'AS_G5690E04_R1750_STIP_TIP',\n",
        "  'magnitude': 0.0},\n",
        " {'coordinate': array([ 0.00525   , -0.01865434,  0.        ], dtype=float32),\n",
        "  'data': array([ 0.,  0.], dtype=float32),\n",
        "  'instance': 'AS_G5690E04_R1750_STIP_TIP',\n",
        "  'magnitude': 0.0},\n",
        " {'coordinate': array([ 0.0055    , -0.01865434,  0.        ], dtype=float32),\n",
        "  'data': array([ 0.,  0.], dtype=float32),\n",
        "  'instance': 'AS_G5690E04_R1750_STIP_TIP',\n",
        "  'magnitude': 0.0},\n",
        " {'coordinate': array([ 0.00575   , -0.01865434,  0.        ], dtype=float32),\n",
        "  'data': array([ 0.,  0.], dtype=float32),\n",
        "  'instance': 'AS_G5690E04_R1750_STIP_TIP',\n",
        "  'magnitude': 0.0},\n",
        " {'coordinate': array([ 0.006     , -0.01865434,  0.        ], dtype=float32),\n",
        "  'data': array([ 0.,  0.], dtype=float32),\n",
        "  'instance': 'AS_G5690E04_R1750_STIP_TIP',\n",
        "  'magnitude': 0.0},\n",
        " {'coordinate': array([ 0.00625   , -0.01865434,  0.        ], dtype=float32),\n",
        "  'data': array([ 0.,  0.], dtype=float32),\n",
        "  'instance': 'AS_G5690E04_R1750_STIP_TIP',\n",
        "  'magnitude': 0.0},\n",
        " {'coordinate': array([ 0.0065    , -0.01865434,  0.        ], dtype=float32),\n",
        "  'data': array([ 0.,  0.], dtype=float32),\n",
        "  'instance': 'AS_G5690E04_R1750_STIP_TIP',\n",
        "  'magnitude': 0.0},\n",
        " {'coordinate': array([ 0.00675   , -0.01865434,  0.        ], dtype=float32),\n",
        "  'data': array([ 0.,  0.], dtype=float32),\n",
        "  'instance': 'AS_G5690E04_R1750_STIP_TIP',\n",
        "  'magnitude': 0.0},\n",
        " {'coordinate': array([ 0.007     , -0.01865434,  0.        ], dtype=float32),\n",
        "  'data': array([ 0.,  0.], dtype=float32),\n",
        "  'instance': 'AS_G5690E04_R1750_STIP_TIP',\n",
        "  'magnitude': 0.0},\n",
        " {'coordinate': array([ 0.00725   , -0.01865434,  0.        ], dtype=float32),\n",
        "  'data': array([ 0.,  0.], dtype=float32),\n",
        "  'instance': 'AS_G5690E04_R1750_STIP_TIP',\n",
        "  'magnitude': 0.0},\n",
        " {'coordinate': array([ 0.0075    , -0.01865434,  0.        ], dtype=float32),\n",
        "  'data': array([ 0.,  0.], dtype=float32),\n",
        "  'instance': 'AS_G5690E04_R1750_STIP_TIP',\n",
        "  'magnitude': 0.0},\n",
        " {'coordinate': array([ 0.00775   , -0.01865434,  0.        ], dtype=float32),\n",
        "  'data': array([ 0.,  0.], dtype=float32),\n",
        "  'instance': 'AS_G5690E04_R1750_STIP_TIP',\n",
        "  'magnitude': 0.0},\n",
        " {'coordinate': array([ 0.008     , -0.01865434,  0.        ], dtype=float32),\n",
        "  'data': array([ 0.,  0.], dtype=float32),\n",
        "  'instance': 'AS_G5690E04_R1750_STIP_TIP',\n",
        "  'magnitude': 0.0},\n",
        " {'coordinate': array([ 0.00825   , -0.01865434,  0.        ], dtype=float32),\n",
        "  'data': array([ 0.,  0.], dtype=float32),\n",
        "  'instance': 'AS_G5690E04_R1750_STIP_TIP',\n",
        "  'magnitude': 0.0},\n",
        " {'coordinate': array([ 0.0085    , -0.01865434,  0.        ], dtype=float32),\n",
        "  'data': array([ 0.,  0.], dtype=float32),\n",
        "  'instance': 'AS_G5690E04_R1750_STIP_TIP',\n",
        "  'magnitude': 0.0},\n",
        " {'coordinate': array([ 0.00875   , -0.01865434,  0.        ], dtype=float32),\n",
        "  'data': array([ 0.,  0.], dtype=float32),\n",
        "  'instance': 'AS_G5690E04_R1750_STIP_TIP',\n",
        "  'magnitude': 0.0},\n",
        " {'coordinate': array([ 0.009     , -0.01865434,  0.        ], dtype=float32),\n",
        "  'data': array([ 0.,  0.], dtype=float32),\n",
        "  'instance': 'AS_G5690E04_R1750_STIP_TIP',\n",
        "  'magnitude': 0.0},\n",
        " {'coordinate': array([ 0.00925   , -0.01865434,  0.        ], dtype=float32),\n",
        "  'data': array([ 0.,  0.], dtype=float32),\n",
        "  'instance': 'AS_G5690E04_R1750_STIP_TIP',\n",
        "  'magnitude': 0.0},\n",
        " {'coordinate': array([ 0.0095    , -0.01865434,  0.        ], dtype=float32),\n",
        "  'data': array([ 0.,  0.], dtype=float32),\n",
        "  'instance': 'AS_G5690E04_R1750_STIP_TIP',\n",
        "  'magnitude': 0.0},\n",
        " {'coordinate': array([ 0.00975   , -0.01865434,  0.        ], dtype=float32),\n",
        "  'data': array([ 0.,  0.], dtype=float32),\n",
        "  'instance': 'AS_G5690E04_R1750_STIP_TIP',\n",
        "  'magnitude': 0.0},\n",
        " {'coordinate': array([ 0.01      , -0.01865434,  0.        ], dtype=float32),\n",
        "  'data': array([ 0.,  0.], dtype=float32),\n",
        "  'instance': 'AS_G5690E04_R1750_STIP_TIP',\n",
        "  'magnitude': 0.0},\n",
        " {'coordinate': array([ 0.01025   , -0.01865434,  0.        ], dtype=float32),\n",
        "  'data': array([ 0.,  0.], dtype=float32),\n",
        "  'instance': 'AS_G5690E04_R1750_STIP_TIP',\n",
        "  'magnitude': 0.0},\n",
        " {'coordinate': array([ 0.0105    , -0.01865434,  0.        ], dtype=float32),\n",
        "  'data': array([ 0.,  0.], dtype=float32),\n",
        "  'instance': 'AS_G5690E04_R1750_STIP_TIP',\n",
        "  'magnitude': 0.0},\n",
        " {'coordinate': array([ 0.01075   , -0.01865434,  0.        ], dtype=float32),\n",
        "  'data': array([ 0.,  0.], dtype=float32),\n",
        "  'instance': 'AS_G5690E04_R1750_STIP_TIP',\n",
        "  'magnitude': 0.0},\n",
        " {'coordinate': array([ 0.011     , -0.01865434,  0.        ], dtype=float32),\n",
        "  'data': array([ 0.,  0.], dtype=float32),\n",
        "  'instance': 'AS_G5690E04_R1750_STIP_TIP',\n",
        "  'magnitude': 0.0},\n",
        " {'coordinate': array([ 0.01125   , -0.01865434,  0.        ], dtype=float32),\n",
        "  'data': array([ 0.,  0.], dtype=float32),\n",
        "  'instance': 'AS_G5690E04_R1750_STIP_TIP',\n",
        "  'magnitude': 0.0},\n",
        " {'coordinate': array([ 0.0115    , -0.01865434,  0.        ], dtype=float32),\n",
        "  'data': array([ 0.,  0.], dtype=float32),\n",
        "  'instance': 'AS_G5690E04_R1750_STIP_TIP',\n",
        "  'magnitude': 0.0},\n",
        " {'coordinate': array([ 0.01175   , -0.01865434,  0.        ], dtype=float32),\n",
        "  'data': array([ 0.,  0.], dtype=float32),\n",
        "  'instance': 'AS_G5690E04_R1750_STIP_TIP',\n",
        "  'magnitude': 0.0},\n",
        " {'coordinate': array([ 0.012     , -0.01865434,  0.        ], dtype=float32),\n",
        "  'data': array([ 0.,  0.], dtype=float32),\n",
        "  'instance': 'AS_G5690E04_R1750_STIP_TIP',\n",
        "  'magnitude': 0.0},\n",
        " {'coordinate': array([ 0.01225   , -0.01865434,  0.        ], dtype=float32),\n",
        "  'data': array([ 0.,  0.], dtype=float32),\n",
        "  'instance': 'AS_G5690E04_R1750_STIP_TIP',\n",
        "  'magnitude': 0.0},\n",
        " {'coordinate': array([ 0.0125    , -0.01865434,  0.        ], dtype=float32),\n",
        "  'data': array([ 0.,  0.], dtype=float32),\n",
        "  'instance': 'AS_G5690E04_R1750_STIP_TIP',\n",
        "  'magnitude': 0.0},\n",
        " {'coordinate': array([ 0.01275   , -0.01865434,  0.        ], dtype=float32),\n",
        "  'data': array([ 0.,  0.], dtype=float32),\n",
        "  'instance': 'AS_G5690E04_R1750_STIP_TIP',\n",
        "  'magnitude': 0.0},\n",
        " {'coordinate': array([ 0.013     , -0.01865434,  0.        ], dtype=float32),\n",
        "  'data': array([ 0.,  0.], dtype=float32),\n",
        "  'instance': 'AS_G5690E04_R1750_STIP_TIP',\n",
        "  'magnitude': 0.0},\n",
        " {'coordinate': array([ 0.01325   , -0.01865434,  0.        ], dtype=float32),\n",
        "  'data': array([ 0.,  0.], dtype=float32),\n",
        "  'instance': 'AS_G5690E04_R1750_STIP_TIP',\n",
        "  'magnitude': 0.0},\n",
        " {'coordinate': array([ 0.0135    , -0.01865434,  0.        ], dtype=float32),\n",
        "  'data': array([ 0.,  0.], dtype=float32),\n",
        "  'instance': 'AS_G5690E04_R1750_STIP_TIP',\n",
        "  'magnitude': 0.0},\n",
        " {'coordinate': array([ 0.01375   , -0.01865434,  0.        ], dtype=float32),\n",
        "  'data': array([ 0.,  0.], dtype=float32),\n",
        "  'instance': 'AS_G5690E04_R1750_STIP_TIP',\n",
        "  'magnitude': 0.0},\n",
        " {'coordinate': array([ 0.014     , -0.01865434,  0.        ], dtype=float32),\n",
        "  'data': array([ 0.,  0.], dtype=float32),\n",
        "  'instance': 'AS_G5690E04_R1750_STIP_TIP',\n",
        "  'magnitude': 0.0},\n",
        " {'coordinate': array([ 0.01425   , -0.01865434,  0.        ], dtype=float32),\n",
        "  'data': array([ 0.,  0.], dtype=float32),\n",
        "  'instance': 'AS_G5690E04_R1750_STIP_TIP',\n",
        "  'magnitude': 0.0},\n",
        " {'coordinate': array([ 0.0145    , -0.01865434,  0.        ], dtype=float32),\n",
        "  'data': array([ 0.,  0.], dtype=float32),\n",
        "  'instance': 'AS_G5690E04_R1750_STIP_TIP',\n",
        "  'magnitude': 0.0},\n",
        " {'coordinate': array([ 0.01475   , -0.01865434,  0.        ], dtype=float32),\n",
        "  'data': array([ 0.,  0.], dtype=float32),\n",
        "  'instance': 'AS_G5690E04_R1750_STIP_TIP',\n",
        "  'magnitude': 0.0},\n",
        " {'coordinate': array([ 0.015     , -0.01865434,  0.        ], dtype=float32),\n",
        "  'data': array([ 0.,  0.], dtype=float32),\n",
        "  'instance': 'AS_G5690E04_R1750_STIP_TIP',\n",
        "  'magnitude': 0.0},\n",
        " {'coordinate': array([ 0.01525   , -0.01865434,  0.        ], dtype=float32),\n",
        "  'data': array([ 0.,  0.], dtype=float32),\n",
        "  'instance': 'AS_G5690E04_R1750_STIP_TIP',\n",
        "  'magnitude': 0.0},\n",
        " {'coordinate': array([ 0.0155    , -0.01865434,  0.        ], dtype=float32),\n",
        "  'data': array([ 0.,  0.], dtype=float32),\n",
        "  'instance': 'AS_G5690E04_R1750_STIP_TIP',\n",
        "  'magnitude': 0.0},\n",
        " {'coordinate': array([ 0.01575   , -0.01865434,  0.        ], dtype=float32),\n",
        "  'data': array([ 0.,  0.], dtype=float32),\n",
        "  'instance': 'AS_G5690E04_R1750_STIP_TIP',\n",
        "  'magnitude': 0.0},\n",
        " {'coordinate': array([ 0.016     , -0.01865434,  0.        ], dtype=float32),\n",
        "  'data': array([ 0.,  0.], dtype=float32),\n",
        "  'instance': 'AS_G5690E04_R1750_STIP_TIP',\n",
        "  'magnitude': 0.0},\n",
        " {'coordinate': array([ 0.01625   , -0.01865434,  0.        ], dtype=float32),\n",
        "  'data': array([ 0.,  0.], dtype=float32),\n",
        "  'instance': 'AS_G5690E04_R1750_STIP_TIP',\n",
        "  'magnitude': 0.0},\n",
        " {'coordinate': array([ 0.0165    , -0.01865434,  0.        ], dtype=float32),\n",
        "  'data': array([ 0.,  0.], dtype=float32),\n",
        "  'instance': 'AS_G5690E04_R1750_STIP_TIP',\n",
        "  'magnitude': 0.0},\n",
        " {'coordinate': array([ 0.01675   , -0.01865434,  0.        ], dtype=float32),\n",
        "  'data': array([ 0.,  0.], dtype=float32),\n",
        "  'instance': 'AS_G5690E04_R1750_STIP_TIP',\n",
        "  'magnitude': 0.0},\n",
        " {'coordinate': array([ 0.017     , -0.01865434,  0.        ], dtype=float32),\n",
        "  'data': array([ 0.,  0.], dtype=float32),\n",
        "  'instance': 'AS_G5690E04_R1750_STIP_TIP',\n",
        "  'magnitude': 0.0},\n",
        " {'coordinate': array([ 0.01725   , -0.01865434,  0.        ], dtype=float32),\n",
        "  'data': array([ 0.,  0.], dtype=float32),\n",
        "  'instance': 'AS_G5690E04_R1750_STIP_TIP',\n",
        "  'magnitude': 0.0},\n",
        " {'coordinate': array([ 0.0175    , -0.01865434,  0.        ], dtype=float32),\n",
        "  'data': array([ 0.,  0.], dtype=float32),\n",
        "  'instance': 'AS_G5690E04_R1750_STIP_TIP',\n",
        "  'magnitude': 0.0},\n",
        " {'coordinate': array([ 0.        , -0.01710557,  0.        ], dtype=float32),\n",
        "  'data': array([ 0.,  0.], dtype=float32),\n",
        "  'instance': 'AS_G5690E04_R1750_STIP_TIP',\n",
        "  'magnitude': 0.0},\n",
        " {'coordinate': array([ 0.00025   , -0.01710557,  0.        ], dtype=float32),\n",
        "  'data': array([ 0.,  0.], dtype=float32),\n",
        "  'instance': 'AS_G5690E04_R1750_STIP_TIP',\n",
        "  'magnitude': 0.0},\n",
        " {'coordinate': array([ 0.0005    , -0.01710557,  0.        ], dtype=float32),\n",
        "  'data': array([ 0.,  0.], dtype=float32),\n",
        "  'instance': 'AS_G5690E04_R1750_STIP_TIP',\n",
        "  'magnitude': 0.0},\n",
        " {'coordinate': array([ 0.00075   , -0.01710557,  0.        ], dtype=float32),\n",
        "  'data': array([ 0.,  0.], dtype=float32),\n",
        "  'instance': 'AS_G5690E04_R1750_STIP_TIP',\n",
        "  'magnitude': 0.0},\n",
        " {'coordinate': array([ 0.001     , -0.01710557,  0.        ], dtype=float32),\n",
        "  'data': array([ 0.,  0.], dtype=float32),\n",
        "  'instance': 'AS_G5690E04_R1750_STIP_TIP',\n",
        "  'magnitude': 0.0},\n",
        " {'coordinate': array([ 0.00125   , -0.01710557,  0.        ], dtype=float32),\n",
        "  'data': array([ 0.,  0.], dtype=float32),\n",
        "  'instance': 'AS_G5690E04_R1750_STIP_TIP',\n",
        "  'magnitude': 0.0},\n",
        " {'coordinate': array([ 0.0015    , -0.01710557,  0.        ], dtype=float32),\n",
        "  'data': array([ 0.,  0.], dtype=float32),\n",
        "  'instance': 'AS_G5690E04_R1750_STIP_TIP',\n",
        "  'magnitude': 0.0},\n",
        " {'coordinate': array([ 0.00175   , -0.01710557,  0.        ], dtype=float32),\n",
        "  'data': array([ 0.,  0.], dtype=float32),\n",
        "  'instance': 'AS_G5690E04_R1750_STIP_TIP',\n",
        "  'magnitude': 0.0},\n",
        " {'coordinate': array([ 0.002     , -0.01710557,  0.        ], dtype=float32),\n",
        "  'data': array([ 0.,  0.], dtype=float32),\n",
        "  'instance': 'AS_G5690E04_R1750_STIP_TIP',\n",
        "  'magnitude': 0.0},\n",
        " {'coordinate': array([ 0.00225   , -0.01710557,  0.        ], dtype=float32),\n",
        "  'data': array([ 0.,  0.], dtype=float32),\n",
        "  'instance': 'AS_G5690E04_R1750_STIP_TIP',\n",
        "  'magnitude': 0.0},\n",
        " {'coordinate': array([ 0.0025    , -0.01710557,  0.        ], dtype=float32),\n",
        "  'data': array([ 0.,  0.], dtype=float32),\n",
        "  'instance': 'AS_G5690E04_R1750_STIP_TIP',\n",
        "  'magnitude': 0.0},\n",
        " {'coordinate': array([ 0.00275   , -0.01710557,  0.        ], dtype=float32),\n",
        "  'data': array([ 0.,  0.], dtype=float32),\n",
        "  'instance': 'AS_G5690E04_R1750_STIP_TIP',\n",
        "  'magnitude': 0.0},\n",
        " {'coordinate': array([ 0.003     , -0.01710557,  0.        ], dtype=float32),\n",
        "  'data': array([ 0.,  0.], dtype=float32),\n",
        "  'instance': 'AS_G5690E04_R1750_STIP_TIP',\n",
        "  'magnitude': 0.0},\n",
        " {'coordinate': array([ 0.00325   , -0.01710557,  0.        ], dtype=float32),\n",
        "  'data': array([ 0.,  0.], dtype=float32),\n",
        "  'instance': 'AS_G5690E04_R1750_STIP_TIP',\n",
        "  'magnitude': 0.0},\n",
        " {'coordinate': array([ 0.0035    , -0.01710557,  0.        ], dtype=float32),\n",
        "  'data': array([ 0.,  0.], dtype=float32),\n",
        "  'instance': 'AS_G5690E04_R1750_STIP_TIP',\n",
        "  'magnitude': 0.0},\n",
        " {'coordinate': array([ 0.00375   , -0.01710557,  0.        ], dtype=float32),\n",
        "  'data': array([ 0.,  0.], dtype=float32),\n",
        "  'instance': 'AS_G5690E04_R1750_STIP_TIP',\n",
        "  'magnitude': 0.0},\n",
        " {'coordinate': array([ 0.004     , -0.01710557,  0.        ], dtype=float32),\n",
        "  'data': array([ 0.,  0.], dtype=float32),\n",
        "  'instance': 'AS_G5690E04_R1750_STIP_TIP',\n",
        "  'magnitude': 0.0},\n",
        " {'coordinate': array([ 0.00425   , -0.01710557,  0.        ], dtype=float32),\n",
        "  'data': array([ 0.,  0.], dtype=float32),\n",
        "  'instance': 'AS_G5690E04_R1750_STIP_TIP',\n",
        "  'magnitude': 0.0},\n",
        " {'coordinate': array([ 0.0045    , -0.01710557,  0.        ], dtype=float32),\n",
        "  'data': array([ 0.,  0.], dtype=float32),\n",
        "  'instance': 'AS_G5690E04_R1750_STIP_TIP',\n",
        "  'magnitude': 0.0},\n",
        " {'coordinate': array([ 0.00475   , -0.01710557,  0.        ], dtype=float32),\n",
        "  'data': array([ 0.,  0.], dtype=float32),\n",
        "  'instance': 'AS_G5690E04_R1750_STIP_TIP',\n",
        "  'magnitude': 0.0},\n",
        " {'coordinate': array([ 0.005     , -0.01710557,  0.        ], dtype=float32),\n",
        "  'data': array([ 0.,  0.], dtype=float32),\n",
        "  'instance': 'AS_G5690E04_R1750_STIP_TIP',\n",
        "  'magnitude': 0.0},\n",
        " {'coordinate': array([ 0.00525   , -0.01710557,  0.        ], dtype=float32),\n",
        "  'data': array([ 0.,  0.], dtype=float32),\n",
        "  'instance': 'AS_G5690E04_R1750_STIP_TIP',\n",
        "  'magnitude': 0.0},\n",
        " {'coordinate': array([ 0.0055    , -0.01710557,  0.        ], dtype=float32),\n",
        "  'data': array([ 0.,  0.], dtype=float32),\n",
        "  'instance': 'AS_G5690E04_R1750_STIP_TIP',\n",
        "  'magnitude': 0.0},\n",
        " {'coordinate': array([ 0.00575   , -0.01710557,  0.        ], dtype=float32),\n",
        "  'data': array([ 0.,  0.], dtype=float32),\n",
        "  'instance': 'AS_G5690E04_R1750_STIP_TIP',\n",
        "  'magnitude': 0.0},\n",
        " {'coordinate': array([ 0.006     , -0.01710557,  0.        ], dtype=float32),\n",
        "  'data': array([ 0.,  0.], dtype=float32),\n",
        "  'instance': 'AS_G5690E04_R1750_STIP_TIP',\n",
        "  'magnitude': 0.0},\n",
        " {'coordinate': array([ 0.00625   , -0.01710557,  0.        ], dtype=float32),\n",
        "  'data': array([ 0.,  0.], dtype=float32),\n",
        "  'instance': 'AS_G5690E04_R1750_STIP_TIP',\n",
        "  'magnitude': 0.0},\n",
        " {'coordinate': array([ 0.0065    , -0.01710557,  0.        ], dtype=float32),\n",
        "  'data': array([ 0.,  0.], dtype=float32),\n",
        "  'instance': 'AS_G5690E04_R1750_STIP_TIP',\n",
        "  'magnitude': 0.0},\n",
        " {'coordinate': array([ 0.00675   , -0.01710557,  0.        ], dtype=float32),\n",
        "  'data': array([ 0.,  0.], dtype=float32),\n",
        "  'instance': 'AS_G5690E04_R1750_STIP_TIP',\n",
        "  'magnitude': 0.0},\n",
        " {'coordinate': array([ 0.007     , -0.01710557,  0.        ], dtype=float32),\n",
        "  'data': array([ 0.,  0.], dtype=float32),\n",
        "  'instance': 'AS_G5690E04_R1750_STIP_TIP',\n",
        "  'magnitude': 0.0},\n",
        " {'coordinate': array([ 0.00725   , -0.01710557,  0.        ], dtype=float32),\n",
        "  'data': array([ 0.,  0.], dtype=float32),\n",
        "  'instance': 'AS_G5690E04_R1750_STIP_TIP',\n",
        "  'magnitude': 0.0},\n",
        " {'coordinate': array([ 0.0075    , -0.01710557,  0.        ], dtype=float32),\n",
        "  'data': array([ 0.,  0.], dtype=float32),\n",
        "  'instance': 'AS_G5690E04_R1750_STIP_TIP',\n",
        "  'magnitude': 0.0},\n",
        " {'coordinate': array([ 0.00775   , -0.01710557,  0.        ], dtype=float32),\n",
        "  'data': array([ 0.,  0.], dtype=float32),\n",
        "  'instance': 'AS_G5690E04_R1750_STIP_TIP',\n",
        "  'magnitude': 0.0},\n",
        " {'coordinate': array([ 0.008     , -0.01710557,  0.        ], dtype=float32),\n",
        "  'data': array([ 0.,  0.], dtype=float32),\n",
        "  'instance': 'AS_G5690E04_R1750_STIP_TIP',\n",
        "  'magnitude': 0.0},\n",
        " {'coordinate': array([ 0.00825   , -0.01710557,  0.        ], dtype=float32),\n",
        "  'data': array([ 0.,  0.], dtype=float32),\n",
        "  'instance': 'AS_G5690E04_R1750_STIP_TIP',\n",
        "  'magnitude': 0.0},\n",
        " {'coordinate': array([ 0.0085    , -0.01710557,  0.        ], dtype=float32),\n",
        "  'data': array([ 0.,  0.], dtype=float32),\n",
        "  'instance': 'AS_G5690E04_R1750_STIP_TIP',\n",
        "  'magnitude': 0.0},\n",
        " {'coordinate': array([ 0.00875   , -0.01710557,  0.        ], dtype=float32),\n",
        "  'data': array([ 0.,  0.], dtype=float32),\n",
        "  'instance': 'AS_G5690E04_R1750_STIP_TIP',\n",
        "  'magnitude': 0.0},\n",
        " {'coordinate': array([ 0.009     , -0.01710557,  0.        ], dtype=float32),\n",
        "  'data': array([ 0.,  0.], dtype=float32),\n",
        "  'instance': 'AS_G5690E04_R1750_STIP_TIP',\n",
        "  'magnitude': 0.0},\n",
        " {'coordinate': array([ 0.00925   , -0.01710557,  0.        ], dtype=float32),\n",
        "  'data': array([ 0.,  0.], dtype=float32),\n",
        "  'instance': 'AS_G5690E04_R1750_STIP_TIP',\n",
        "  'magnitude': 0.0},\n",
        " {'coordinate': array([ 0.0095    , -0.01710557,  0.        ], dtype=float32),\n",
        "  'data': array([ 0.,  0.], dtype=float32),\n",
        "  'instance': 'AS_G5690E04_R1750_STIP_TIP',\n",
        "  'magnitude': 0.0},\n",
        " {'coordinate': array([ 0.00975   , -0.01710557,  0.        ], dtype=float32),\n",
        "  'data': array([ 0.,  0.], dtype=float32),\n",
        "  'instance': 'AS_G5690E04_R1750_STIP_TIP',\n",
        "  'magnitude': 0.0},\n",
        " {'coordinate': array([ 0.01      , -0.01710557,  0.        ], dtype=float32),\n",
        "  'data': array([ 0.,  0.], dtype=float32),\n",
        "  'instance': 'AS_G5690E04_R1750_STIP_TIP',\n",
        "  'magnitude': 0.0},\n",
        " {'coordinate': array([ 0.01025   , -0.01710557,  0.        ], dtype=float32),\n",
        "  'data': array([ 0.,  0.], dtype=float32),\n",
        "  'instance': 'AS_G5690E04_R1750_STIP_TIP',\n",
        "  'magnitude': 0.0},\n",
        " {'coordinate': array([ 0.0105    , -0.01710557,  0.        ], dtype=float32),\n",
        "  'data': array([ 0.,  0.], dtype=float32),\n",
        "  'instance': 'AS_G5690E04_R1750_STIP_TIP',\n",
        "  'magnitude': 0.0},\n",
        " {'coordinate': array([ 0.01075   , -0.01710557,  0.        ], dtype=float32),\n",
        "  'data': array([ 0.,  0.], dtype=float32),\n",
        "  'instance': 'AS_G5690E04_R1750_STIP_TIP',\n",
        "  'magnitude': 0.0},\n",
        " {'coordinate': array([ 0.011     , -0.01710557,  0.        ], dtype=float32),\n",
        "  'data': array([ 0.,  0.], dtype=float32),\n",
        "  'instance': 'AS_G5690E04_R1750_STIP_TIP',\n",
        "  'magnitude': 0.0},\n",
        " {'coordinate': array([ 0.01125   , -0.01710557,  0.        ], dtype=float32),\n",
        "  'data': array([ 0.,  0.], dtype=float32),\n",
        "  'instance': 'AS_G5690E04_R1750_STIP_TIP',\n",
        "  'magnitude': 0.0},\n",
        " {'coordinate': array([ 0.0115    , -0.01710557,  0.        ], dtype=float32),\n",
        "  'data': array([ 0.,  0.], dtype=float32),\n",
        "  'instance': 'AS_G5690E04_R1750_STIP_TIP',\n",
        "  'magnitude': 0.0},\n",
        " {'coordinate': array([ 0.01175   , -0.01710557,  0.        ], dtype=float32),\n",
        "  'data': array([ 0.,  0.], dtype=float32),\n",
        "  'instance': 'AS_G5690E04_R1750_STIP_TIP',\n",
        "  'magnitude': 0.0},\n",
        " {'coordinate': array([ 0.012     , -0.01710557,  0.        ], dtype=float32),\n",
        "  'data': array([ 0.,  0.], dtype=float32),\n",
        "  'instance': 'AS_G5690E04_R1750_STIP_TIP',\n",
        "  'magnitude': 0.0},\n",
        " {'coordinate': array([ 0.01225   , -0.01710557,  0.        ], dtype=float32),\n",
        "  'data': array([ 0.,  0.], dtype=float32),\n",
        "  'instance': 'AS_G5690E04_R1750_STIP_TIP',\n",
        "  'magnitude': 0.0},\n",
        " {'coordinate': array([ 0.0125    , -0.01710557,  0.        ], dtype=float32),\n",
        "  'data': array([ 0.,  0.], dtype=float32),\n",
        "  'instance': 'AS_G5690E04_R1750_STIP_TIP',\n",
        "  'magnitude': 0.0},\n",
        " {'coordinate': array([ 0.01275   , -0.01710557,  0.        ], dtype=float32),\n",
        "  'data': array([ 0.,  0.], dtype=float32),\n",
        "  'instance': 'AS_G5690E04_R1750_STIP_TIP',\n",
        "  'magnitude': 0.0},\n",
        " {'coordinate': array([ 0.013     , -0.01710557,  0.        ], dtype=float32),\n",
        "  'data': array([ 0.,  0.], dtype=float32),\n",
        "  'instance': 'AS_G5690E04_R1750_STIP_TIP',\n",
        "  'magnitude': 0.0},\n",
        " {'coordinate': array([ 0.01325   , -0.01710557,  0.        ], dtype=float32),\n",
        "  'data': array([ 0.,  0.], dtype=float32),\n",
        "  'instance': 'AS_G5690E04_R1750_STIP_TIP',\n",
        "  'magnitude': 0.0},\n",
        " {'coordinate': array([ 0.0135    , -0.01710557,  0.        ], dtype=float32),\n",
        "  'data': array([ 0.,  0.], dtype=float32),\n",
        "  'instance': 'AS_G5690E04_R1750_STIP_TIP',\n",
        "  'magnitude': 0.0},\n",
        " {'coordinate': array([ 0.01375   , -0.01710557,  0.        ], dtype=float32),\n",
        "  'data': array([ 0.,  0.], dtype=float32),\n",
        "  'instance': 'AS_G5690E04_R1750_STIP_TIP',\n",
        "  'magnitude': 0.0},\n",
        " {'coordinate': array([ 0.014     , -0.01710557,  0.        ], dtype=float32),\n",
        "  'data': array([ 0.,  0.], dtype=float32),\n",
        "  'instance': 'AS_G5690E04_R1750_STIP_TIP',\n",
        "  'magnitude': 0.0},\n",
        " {'coordinate': array([ 0.01425   , -0.01710557,  0.        ], dtype=float32),\n",
        "  'data': array([ 0.,  0.], dtype=float32),\n",
        "  'instance': 'AS_G5690E04_R1750_STIP_TIP',\n",
        "  'magnitude': 0.0},\n",
        " {'coordinate': array([ 0.0145    , -0.01710557,  0.        ], dtype=float32),\n",
        "  'data': array([ 0.,  0.], dtype=float32),\n",
        "  'instance': 'AS_G5690E04_R1750_STIP_TIP',\n",
        "  'magnitude': 0.0},\n",
        " {'coordinate': array([ 0.01475   , -0.01710557,  0.        ], dtype=float32),\n",
        "  'data': array([ 0.,  0.], dtype=float32),\n",
        "  'instance': 'AS_G5690E04_R1750_STIP_TIP',\n",
        "  'magnitude': 0.0},\n",
        " {'coordinate': array([ 0.015     , -0.01710557,  0.        ], dtype=float32),\n",
        "  'data': array([ 0.,  0.], dtype=float32),\n",
        "  'instance': 'AS_G5690E04_R1750_STIP_TIP',\n",
        "  'magnitude': 0.0},\n",
        " {'coordinate': array([ 0.01525   , -0.01710557,  0.        ], dtype=float32),\n",
        "  'data': array([ 0.,  0.], dtype=float32),\n",
        "  'instance': 'AS_G5690E04_R1750_STIP_TIP',\n",
        "  'magnitude': 0.0},\n",
        " {'coordinate': array([ 0.0155    , -0.01710557,  0.        ], dtype=float32),\n",
        "  'data': array([ 0.,  0.], dtype=float32),\n",
        "  'instance': 'AS_G5690E04_R1750_STIP_TIP',\n",
        "  'magnitude': 0.0},\n",
        " {'coordinate': array([ 0.01575   , -0.01710557,  0.        ], dtype=float32),\n",
        "  'data': array([ 0.,  0.], dtype=float32),\n",
        "  'instance': 'AS_G5690E04_R1750_STIP_TIP',\n",
        "  'magnitude': 0.0},\n",
        " {'coordinate': array([ 0.016     , -0.01710557,  0.        ], dtype=float32),\n",
        "  'data': array([ 0.,  0.], dtype=float32),\n",
        "  'instance': 'AS_G5690E04_R1750_STIP_TIP',\n",
        "  'magnitude': 0.0},\n",
        " {'coordinate': array([ 0.01625   , -0.01710557,  0.        ], dtype=float32),\n",
        "  'data': array([ 0.,  0.], dtype=float32),\n",
        "  'instance': 'AS_G5690E04_R1750_STIP_TIP',\n",
        "  'magnitude': 0.0},\n",
        " {'coordinate': array([ 0.0165    , -0.01710557,  0.        ], dtype=float32),\n",
        "  'data': array([ 0.,  0.], dtype=float32),\n",
        "  'instance': 'AS_G5690E04_R1750_STIP_TIP',\n",
        "  'magnitude': 0.0},\n",
        " {'coordinate': array([ 0.01675   , -0.01710557,  0.        ], dtype=float32),\n",
        "  'data': array([ 0.,  0.], dtype=float32),\n",
        "  'instance': 'AS_G5690E04_R1750_STIP_TIP',\n",
        "  'magnitude': 0.0},\n",
        " {'coordinate': array([ 0.017     , -0.01710557,  0.        ], dtype=float32),\n",
        "  'data': array([ 0.,  0.], dtype=float32),\n",
        "  'instance': 'AS_G5690E04_R1750_STIP_TIP',\n",
        "  'magnitude': 0.0},\n",
        " {'coordinate': array([ 0.01725   , -0.01710557,  0.        ], dtype=float32),\n",
        "  'data': array([ 0.,  0.], dtype=float32),\n",
        "  'instance': 'AS_G5690E04_R1750_STIP_TIP',\n",
        "  'magnitude': 0.0},\n",
        " {'coordinate': array([ 0.0175    , -0.01710557,  0.        ], dtype=float32),\n",
        "  'data': array([ 0.,  0.], dtype=float32),\n",
        "  'instance': 'AS_G5690E04_R1750_STIP_TIP',\n",
        "  'magnitude': 0.0},\n",
        " {'coordinate': array([ 0.        , -0.01564626,  0.        ], dtype=float32),\n",
        "  'data': array([ 0.,  0.], dtype=float32),\n",
        "  'instance': 'AS_G5690E04_R1750_STIP_TIP',\n",
        "  'magnitude': 0.0},\n",
        " {'coordinate': array([ 0.00025   , -0.01564626,  0.        ], dtype=float32),\n",
        "  'data': array([ 0.,  0.], dtype=float32),\n",
        "  'instance': 'AS_G5690E04_R1750_STIP_TIP',\n",
        "  'magnitude': 0.0},\n",
        " {'coordinate': array([ 0.0005    , -0.01564626,  0.        ], dtype=float32),\n",
        "  'data': array([ 0.,  0.], dtype=float32),\n",
        "  'instance': 'AS_G5690E04_R1750_STIP_TIP',\n",
        "  'magnitude': 0.0},\n",
        " {'coordinate': array([ 0.00075   , -0.01564626,  0.        ], dtype=float32),\n",
        "  'data': array([ 0.,  0.], dtype=float32),\n",
        "  'instance': 'AS_G5690E04_R1750_STIP_TIP',\n",
        "  'magnitude': 0.0},\n",
        " {'coordinate': array([ 0.001     , -0.01564626,  0.        ], dtype=float32),\n",
        "  'data': array([ 0.,  0.], dtype=float32),\n",
        "  'instance': 'AS_G5690E04_R1750_STIP_TIP',\n",
        "  'magnitude': 0.0},\n",
        " {'coordinate': array([ 0.00125   , -0.01564626,  0.        ], dtype=float32),\n",
        "  'data': array([ 0.,  0.], dtype=float32),\n",
        "  'instance': 'AS_G5690E04_R1750_STIP_TIP',\n",
        "  'magnitude': 0.0},\n",
        " {'coordinate': array([ 0.0015    , -0.01564626,  0.        ], dtype=float32),\n",
        "  'data': array([ 0.,  0.], dtype=float32),\n",
        "  'instance': 'AS_G5690E04_R1750_STIP_TIP',\n",
        "  'magnitude': 0.0},\n",
        " {'coordinate': array([ 0.00175   , -0.01564626,  0.        ], dtype=float32),\n",
        "  'data': array([ 0.,  0.], dtype=float32),\n",
        "  'instance': 'AS_G5690E04_R1750_STIP_TIP',\n",
        "  'magnitude': 0.0},\n",
        " {'coordinate': array([ 0.002     , -0.01564626,  0.        ], dtype=float32),\n",
        "  'data': array([ 0.,  0.], dtype=float32),\n",
        "  'instance': 'AS_G5690E04_R1750_STIP_TIP',\n",
        "  'magnitude': 0.0},\n",
        " {'coordinate': array([ 0.00225   , -0.01564626,  0.        ], dtype=float32),\n",
        "  'data': array([ 0.,  0.], dtype=float32),\n",
        "  'instance': 'AS_G5690E04_R1750_STIP_TIP',\n",
        "  'magnitude': 0.0},\n",
        " {'coordinate': array([ 0.0025    , -0.01564626,  0.        ], dtype=float32),\n",
        "  'data': array([ 0.,  0.], dtype=float32),\n",
        "  'instance': 'AS_G5690E04_R1750_STIP_TIP',\n",
        "  'magnitude': 0.0},\n",
        " {'coordinate': array([ 0.00275   , -0.01564626,  0.        ], dtype=float32),\n",
        "  'data': array([ 0.,  0.], dtype=float32),\n",
        "  'instance': 'AS_G5690E04_R1750_STIP_TIP',\n",
        "  'magnitude': 0.0},\n",
        " {'coordinate': array([ 0.003     , -0.01564626,  0.        ], dtype=float32),\n",
        "  'data': array([ 0.,  0.], dtype=float32),\n",
        "  'instance': 'AS_G5690E04_R1750_STIP_TIP',\n",
        "  'magnitude': 0.0},\n",
        " {'coordinate': array([ 0.00325   , -0.01564626,  0.        ], dtype=float32),\n",
        "  'data': array([ 0.,  0.], dtype=float32),\n",
        "  'instance': 'AS_G5690E04_R1750_STIP_TIP',\n",
        "  'magnitude': 0.0},\n",
        " {'coordinate': array([ 0.0035    , -0.01564626,  0.        ], dtype=float32),\n",
        "  'data': array([ 0.,  0.], dtype=float32),\n",
        "  'instance': 'AS_G5690E04_R1750_STIP_TIP',\n",
        "  'magnitude': 0.0},\n",
        " {'coordinate': array([ 0.00375   , -0.01564626,  0.        ], dtype=float32),\n",
        "  'data': array([ 0.,  0.], dtype=float32),\n",
        "  'instance': 'AS_G5690E04_R1750_STIP_TIP',\n",
        "  'magnitude': 0.0},\n",
        " {'coordinate': array([ 0.004     , -0.01564626,  0.        ], dtype=float32),\n",
        "  'data': array([ 0.,  0.], dtype=float32),\n",
        "  'instance': 'AS_G5690E04_R1750_STIP_TIP',\n",
        "  'magnitude': 0.0},\n",
        " {'coordinate': array([ 0.00425   , -0.01564626,  0.        ], dtype=float32),\n",
        "  'data': array([ 0.,  0.], dtype=float32),\n",
        "  'instance': 'AS_G5690E04_R1750_STIP_TIP',\n",
        "  'magnitude': 0.0},\n",
        " {'coordinate': array([ 0.0045    , -0.01564626,  0.        ], dtype=float32),\n",
        "  'data': array([ 0.,  0.], dtype=float32),\n",
        "  'instance': 'AS_G5690E04_R1750_STIP_TIP',\n",
        "  'magnitude': 0.0},\n",
        " {'coordinate': array([ 0.00475   , -0.01564626,  0.        ], dtype=float32),\n",
        "  'data': array([ 0.,  0.], dtype=float32),\n",
        "  'instance': 'AS_G5690E04_R1750_STIP_TIP',\n",
        "  'magnitude': 0.0},\n",
        " {'coordinate': array([ 0.005     , -0.01564626,  0.        ], dtype=float32),\n",
        "  'data': array([ 0.,  0.], dtype=float32),\n",
        "  'instance': 'AS_G5690E04_R1750_STIP_TIP',\n",
        "  'magnitude': 0.0},\n",
        " {'coordinate': array([ 0.00525   , -0.01564626,  0.        ], dtype=float32),\n",
        "  'data': array([ 0.,  0.], dtype=float32),\n",
        "  'instance': 'AS_G5690E04_R1750_STIP_TIP',\n",
        "  'magnitude': 0.0},\n",
        " {'coordinate': array([ 0.0055    , -0.01564626,  0.        ], dtype=float32),\n",
        "  'data': array([ 0.,  0.], dtype=float32),\n",
        "  'instance': 'AS_G5690E04_R1750_STIP_TIP',\n",
        "  'magnitude': 0.0},\n",
        " {'coordinate': array([ 0.00575   , -0.01564626,  0.        ], dtype=float32),\n",
        "  'data': array([ 0.,  0.], dtype=float32),\n",
        "  'instance': 'AS_G5690E04_R1750_STIP_TIP',\n",
        "  'magnitude': 0.0},\n",
        " {'coordinate': array([ 0.006     , -0.01564626,  0.        ], dtype=float32),\n",
        "  'data': array([ 0.,  0.], dtype=float32),\n",
        "  'instance': 'AS_G5690E04_R1750_STIP_TIP',\n",
        "  'magnitude': 0.0},\n",
        " {'coordinate': array([ 0.00625   , -0.01564626,  0.        ], dtype=float32),\n",
        "  'data': array([ 0.,  0.], dtype=float32),\n",
        "  'instance': 'AS_G5690E04_R1750_STIP_TIP',\n",
        "  'magnitude': 0.0},\n",
        " {'coordinate': array([ 0.0065    , -0.01564626,  0.        ], dtype=float32),\n",
        "  'data': array([ 0.,  0.], dtype=float32),\n",
        "  'instance': 'AS_G5690E04_R1750_STIP_TIP',\n",
        "  'magnitude': 0.0},\n",
        " {'coordinate': array([ 0.00675   , -0.01564626,  0.        ], dtype=float32),\n",
        "  'data': array([ 0.,  0.], dtype=float32),\n",
        "  'instance': 'AS_G5690E04_R1750_STIP_TIP',\n",
        "  'magnitude': 0.0},\n",
        " {'coordinate': array([ 0.007     , -0.01564626,  0.        ], dtype=float32),\n",
        "  'data': array([ 0.,  0.], dtype=float32),\n",
        "  'instance': 'AS_G5690E04_R1750_STIP_TIP',\n",
        "  'magnitude': 0.0},\n",
        " {'coordinate': array([ 0.00725   , -0.01564626,  0.        ], dtype=float32),\n",
        "  'data': array([ 0.,  0.], dtype=float32),\n",
        "  'instance': 'AS_G5690E04_R1750_STIP_TIP',\n",
        "  'magnitude': 0.0},\n",
        " {'coordinate': array([ 0.0075    , -0.01564626,  0.        ], dtype=float32),\n",
        "  'data': array([ 0.,  0.], dtype=float32),\n",
        "  'instance': 'AS_G5690E04_R1750_STIP_TIP',\n",
        "  'magnitude': 0.0},\n",
        " {'coordinate': array([ 0.00775   , -0.01564626,  0.        ], dtype=float32),\n",
        "  'data': array([ 0.,  0.], dtype=float32),\n",
        "  'instance': 'AS_G5690E04_R1750_STIP_TIP',\n",
        "  'magnitude': 0.0},\n",
        " {'coordinate': array([ 0.008     , -0.01564626,  0.        ], dtype=float32),\n",
        "  'data': array([ 0.,  0.], dtype=float32),\n",
        "  'instance': 'AS_G5690E04_R1750_STIP_TIP',\n",
        "  'magnitude': 0.0},\n",
        " {'coordinate': array([ 0.00825   , -0.01564626,  0.        ], dtype=float32),\n",
        "  'data': array([ 0.,  0.], dtype=float32),\n",
        "  'instance': 'AS_G5690E04_R1750_STIP_TIP',\n",
        "  'magnitude': 0.0},\n",
        " {'coordinate': array([ 0.0085    , -0.01564626,  0.        ], dtype=float32),\n",
        "  'data': array([ 0.,  0.], dtype=float32),\n",
        "  'instance': 'AS_G5690E04_R1750_STIP_TIP',\n",
        "  'magnitude': 0.0},\n",
        " {'coordinate': array([ 0.00875   , -0.01564626,  0.        ], dtype=float32),\n",
        "  'data': array([ 0.,  0.], dtype=float32),\n",
        "  'instance': 'AS_G5690E04_R1750_STIP_TIP',\n",
        "  'magnitude': 0.0},\n",
        " {'coordinate': array([ 0.009     , -0.01564626,  0.        ], dtype=float32),\n",
        "  'data': array([ 0.,  0.], dtype=float32),\n",
        "  'instance': 'AS_G5690E04_R1750_STIP_TIP',\n",
        "  'magnitude': 0.0},\n",
        " {'coordinate': array([ 0.00925   , -0.01564626,  0.        ], dtype=float32),\n",
        "  'data': array([ 0.,  0.], dtype=float32),\n",
        "  'instance': 'AS_G5690E04_R1750_STIP_TIP',\n",
        "  'magnitude': 0.0},\n",
        " {'coordinate': array([ 0.0095    , -0.01564626,  0.        ], dtype=float32),\n",
        "  'data': array([ 0.,  0.], dtype=float32),\n",
        "  'instance': 'AS_G5690E04_R1750_STIP_TIP',\n",
        "  'magnitude': 0.0},\n",
        " {'coordinate': array([ 0.00975   , -0.01564626,  0.        ], dtype=float32),\n",
        "  'data': array([ 0.,  0.], dtype=float32),\n",
        "  'instance': 'AS_G5690E04_R1750_STIP_TIP',\n",
        "  'magnitude': 0.0},\n",
        " {'coordinate': array([ 0.01      , -0.01564626,  0.        ], dtype=float32),\n",
        "  'data': array([ 0.,  0.], dtype=float32),\n",
        "  'instance': 'AS_G5690E04_R1750_STIP_TIP',\n",
        "  'magnitude': 0.0},\n",
        " {'coordinate': array([ 0.01025   , -0.01564626,  0.        ], dtype=float32),\n",
        "  'data': array([ 0.,  0.], dtype=float32),\n",
        "  'instance': 'AS_G5690E04_R1750_STIP_TIP',\n",
        "  'magnitude': 0.0},\n",
        " {'coordinate': array([ 0.0105    , -0.01564626,  0.        ], dtype=float32),\n",
        "  'data': array([ 0.,  0.], dtype=float32),\n",
        "  'instance': 'AS_G5690E04_R1750_STIP_TIP',\n",
        "  'magnitude': 0.0},\n",
        " {'coordinate': array([ 0.01075   , -0.01564626,  0.        ], dtype=float32),\n",
        "  'data': array([ 0.,  0.], dtype=float32),\n",
        "  'instance': 'AS_G5690E04_R1750_STIP_TIP',\n",
        "  'magnitude': 0.0},\n",
        " {'coordinate': array([ 0.011     , -0.01564626,  0.        ], dtype=float32),\n",
        "  'data': array([ 0.,  0.], dtype=float32),\n",
        "  'instance': 'AS_G5690E04_R1750_STIP_TIP',\n",
        "  'magnitude': 0.0},\n",
        " {'coordinate': array([ 0.01125   , -0.01564626,  0.        ], dtype=float32),\n",
        "  'data': array([ 0.,  0.], dtype=float32),\n",
        "  'instance': 'AS_G5690E04_R1750_STIP_TIP',\n",
        "  'magnitude': 0.0},\n",
        " {'coordinate': array([ 0.0115    , -0.01564626,  0.        ], dtype=float32),\n",
        "  'data': array([ 0.,  0.], dtype=float32),\n",
        "  'instance': 'AS_G5690E04_R1750_STIP_TIP',\n",
        "  'magnitude': 0.0},\n",
        " {'coordinate': array([ 0.01175   , -0.01564626,  0.        ], dtype=float32),\n",
        "  'data': array([ 0.,  0.], dtype=float32),\n",
        "  'instance': 'AS_G5690E04_R1750_STIP_TIP',\n",
        "  'magnitude': 0.0},\n",
        " {'coordinate': array([ 0.012     , -0.01564626,  0.        ], dtype=float32),\n",
        "  'data': array([ 0.,  0.], dtype=float32),\n",
        "  'instance': 'AS_G5690E04_R1750_STIP_TIP',\n",
        "  'magnitude': 0.0},\n",
        " {'coordinate': array([ 0.01225   , -0.01564626,  0.        ], dtype=float32),\n",
        "  'data': array([ 0.,  0.], dtype=float32),\n",
        "  'instance': 'AS_G5690E04_R1750_STIP_TIP',\n",
        "  'magnitude': 0.0},\n",
        " {'coordinate': array([ 0.0125    , -0.01564626,  0.        ], dtype=float32),\n",
        "  'data': array([ 0.,  0.], dtype=float32),\n",
        "  'instance': 'AS_G5690E04_R1750_STIP_TIP',\n",
        "  'magnitude': 0.0},\n",
        " {'coordinate': array([ 0.01275   , -0.01564626,  0.        ], dtype=float32),\n",
        "  'data': array([ 0.,  0.], dtype=float32),\n",
        "  'instance': 'AS_G5690E04_R1750_STIP_TIP',\n",
        "  'magnitude': 0.0},\n",
        " {'coordinate': array([ 0.013     , -0.01564626,  0.        ], dtype=float32),\n",
        "  'data': array([ 0.,  0.], dtype=float32),\n",
        "  'instance': 'AS_G5690E04_R1750_STIP_TIP',\n",
        "  'magnitude': 0.0},\n",
        " {'coordinate': array([ 0.01325   , -0.01564626,  0.        ], dtype=float32),\n",
        "  'data': array([ 0.,  0.], dtype=float32),\n",
        "  'instance': 'AS_G5690E04_R1750_STIP_TIP',\n",
        "  'magnitude': 0.0},\n",
        " {'coordinate': array([ 0.0135    , -0.01564626,  0.        ], dtype=float32),\n",
        "  'data': array([ 0.,  0.], dtype=float32),\n",
        "  'instance': 'AS_G5690E04_R1750_STIP_TIP',\n",
        "  'magnitude': 0.0},\n",
        " {'coordinate': array([ 0.01375   , -0.01564626,  0.        ], dtype=float32),\n",
        "  'data': array([ 0.,  0.], dtype=float32),\n",
        "  'instance': 'AS_G5690E04_R1750_STIP_TIP',\n",
        "  'magnitude': 0.0},\n",
        " {'coordinate': array([ 0.014     , -0.01564626,  0.        ], dtype=float32),\n",
        "  'data': array([ 0.,  0.], dtype=float32),\n",
        "  'instance': 'AS_G5690E04_R1750_STIP_TIP',\n",
        "  'magnitude': 0.0},\n",
        " {'coordinate': array([ 0.01425   , -0.01564626,  0.        ], dtype=float32),\n",
        "  'data': array([ 0.,  0.], dtype=float32),\n",
        "  'instance': 'AS_G5690E04_R1750_STIP_TIP',\n",
        "  'magnitude': 0.0},\n",
        " {'coordinate': array([ 0.0145    , -0.01564626,  0.        ], dtype=float32),\n",
        "  'data': array([ 0.,  0.], dtype=float32),\n",
        "  'instance': 'AS_G5690E04_R1750_STIP_TIP',\n",
        "  'magnitude': 0.0},\n",
        " {'coordinate': array([ 0.01475   , -0.01564626,  0.        ], dtype=float32),\n",
        "  'data': array([ 0.,  0.], dtype=float32),\n",
        "  'instance': 'AS_G5690E04_R1750_STIP_TIP',\n",
        "  'magnitude': 0.0},\n",
        " {'coordinate': array([ 0.015     , -0.01564626,  0.        ], dtype=float32),\n",
        "  'data': array([ 0.,  0.], dtype=float32),\n",
        "  'instance': 'AS_G5690E04_R1750_STIP_TIP',\n",
        "  'magnitude': 0.0},\n",
        " {'coordinate': array([ 0.01525   , -0.01564626,  0.        ], dtype=float32),\n",
        "  'data': array([ 0.,  0.], dtype=float32),\n",
        "  'instance': 'AS_G5690E04_R1750_STIP_TIP',\n",
        "  'magnitude': 0.0},\n",
        " {'coordinate': array([ 0.0155    , -0.01564626,  0.        ], dtype=float32),\n",
        "  'data': array([ 0.,  0.], dtype=float32),\n",
        "  'instance': 'AS_G5690E04_R1750_STIP_TIP',\n",
        "  'magnitude': 0.0},\n",
        " {'coordinate': array([ 0.01575   , -0.01564626,  0.        ], dtype=float32),\n",
        "  'data': array([ 0.,  0.], dtype=float32),\n",
        "  'instance': 'AS_G5690E04_R1750_STIP_TIP',\n",
        "  'magnitude': 0.0},\n",
        " {'coordinate': array([ 0.016     , -0.01564626,  0.        ], dtype=float32),\n",
        "  'data': array([ 0.,  0.], dtype=float32),\n",
        "  'instance': 'AS_G5690E04_R1750_STIP_TIP',\n",
        "  'magnitude': 0.0},\n",
        " {'coordinate': array([ 0.01625   , -0.01564626,  0.        ], dtype=float32),\n",
        "  'data': array([ 0.,  0.], dtype=float32),\n",
        "  'instance': 'AS_G5690E04_R1750_STIP_TIP',\n",
        "  'magnitude': 0.0},\n",
        " {'coordinate': array([ 0.0165    , -0.01564626,  0.        ], dtype=float32),\n",
        "  'data': array([ 0.,  0.], dtype=float32),\n",
        "  'instance': 'AS_G5690E04_R1750_STIP_TIP',\n",
        "  'magnitude': 0.0},\n",
        " {'coordinate': array([ 0.01675   , -0.01564626,  0.        ], dtype=float32),\n",
        "  'data': array([ 0.,  0.], dtype=float32),\n",
        "  'instance': 'AS_G5690E04_R1750_STIP_TIP',\n",
        "  'magnitude': 0.0},\n",
        " {'coordinate': array([ 0.017     , -0.01564626,  0.        ], dtype=float32),\n",
        "  'data': array([ 0.,  0.], dtype=float32),\n",
        "  'instance': 'AS_G5690E04_R1750_STIP_TIP',\n",
        "  'magnitude': 0.0},\n",
        " {'coordinate': array([ 0.01725   , -0.01564626,  0.        ], dtype=float32),\n",
        "  'data': array([ 0.,  0.], dtype=float32),\n",
        "  'instance': 'AS_G5690E04_R1750_STIP_TIP',\n",
        "  'magnitude': 0.0},\n",
        " {'coordinate': array([ 0.0175    , -0.01564626,  0.        ], dtype=float32),\n",
        "  'data': array([ 0.,  0.], dtype=float32),\n",
        "  'instance': 'AS_G5690E04_R1750_STIP_TIP',\n",
        "  'magnitude': 0.0},\n",
        " {'coordinate': array([ 0.        , -0.01427126,  0.        ], dtype=float32),\n",
        "  'data': array([ 0.,  0.], dtype=float32),\n",
        "  'instance': 'AS_G5690E04_R1750_STIP_TIP',\n",
        "  'magnitude': 0.0},\n",
        " {'coordinate': array([ 0.00025   , -0.01427126,  0.        ], dtype=float32),\n",
        "  'data': array([ 0.,  0.], dtype=float32),\n",
        "  'instance': 'AS_G5690E04_R1750_STIP_TIP',\n",
        "  'magnitude': 0.0},\n",
        " {'coordinate': array([ 0.0005    , -0.01427126,  0.        ], dtype=float32),\n",
        "  'data': array([ 0.,  0.], dtype=float32),\n",
        "  'instance': 'AS_G5690E04_R1750_STIP_TIP',\n",
        "  'magnitude': 0.0},\n",
        " {'coordinate': array([ 0.00075   , -0.01427126,  0.        ], dtype=float32),\n",
        "  'data': array([ 0.,  0.], dtype=float32),\n",
        "  'instance': 'AS_G5690E04_R1750_STIP_TIP',\n",
        "  'magnitude': 0.0},\n",
        " {'coordinate': array([ 0.001     , -0.01427126,  0.        ], dtype=float32),\n",
        "  'data': array([ 0.,  0.], dtype=float32),\n",
        "  'instance': 'AS_G5690E04_R1750_STIP_TIP',\n",
        "  'magnitude': 0.0},\n",
        " {'coordinate': array([ 0.00125   , -0.01427126,  0.        ], dtype=float32),\n",
        "  'data': array([ 0.,  0.], dtype=float32),\n",
        "  'instance': 'AS_G5690E04_R1750_STIP_TIP',\n",
        "  'magnitude': 0.0},\n",
        " {'coordinate': array([ 0.0015    , -0.01427126,  0.        ], dtype=float32),\n",
        "  'data': array([ 0.,  0.], dtype=float32),\n",
        "  'instance': 'AS_G5690E04_R1750_STIP_TIP',\n",
        "  'magnitude': 0.0},\n",
        " {'coordinate': array([ 0.00175   , -0.01427126,  0.        ], dtype=float32),\n",
        "  'data': array([ 0.,  0.], dtype=float32),\n",
        "  'instance': 'AS_G5690E04_R1750_STIP_TIP',\n",
        "  'magnitude': 0.0},\n",
        " {'coordinate': array([ 0.002     , -0.01427126,  0.        ], dtype=float32),\n",
        "  'data': array([ 0.,  0.], dtype=float32),\n",
        "  'instance': 'AS_G5690E04_R1750_STIP_TIP',\n",
        "  'magnitude': 0.0},\n",
        " {'coordinate': array([ 0.00225   , -0.01427126,  0.        ], dtype=float32),\n",
        "  'data': array([ 0.,  0.], dtype=float32),\n",
        "  'instance': 'AS_G5690E04_R1750_STIP_TIP',\n",
        "  'magnitude': 0.0},\n",
        " {'coordinate': array([ 0.0025    , -0.01427126,  0.        ], dtype=float32),\n",
        "  'data': array([ 0.,  0.], dtype=float32),\n",
        "  'instance': 'AS_G5690E04_R1750_STIP_TIP',\n",
        "  'magnitude': 0.0},\n",
        " {'coordinate': array([ 0.00275   , -0.01427126,  0.        ], dtype=float32),\n",
        "  'data': array([ 0.,  0.], dtype=float32),\n",
        "  'instance': 'AS_G5690E04_R1750_STIP_TIP',\n",
        "  'magnitude': 0.0},\n",
        " {'coordinate': array([ 0.003     , -0.01427126,  0.        ], dtype=float32),\n",
        "  'data': array([ 0.,  0.], dtype=float32),\n",
        "  'instance': 'AS_G5690E04_R1750_STIP_TIP',\n",
        "  'magnitude': 0.0},\n",
        " {'coordinate': array([ 0.00325   , -0.01427126,  0.        ], dtype=float32),\n",
        "  'data': array([ 0.,  0.], dtype=float32),\n",
        "  'instance': 'AS_G5690E04_R1750_STIP_TIP',\n",
        "  'magnitude': 0.0},\n",
        " {'coordinate': array([ 0.0035    , -0.01427126,  0.        ], dtype=float32),\n",
        "  'data': array([ 0.,  0.], dtype=float32),\n",
        "  'instance': 'AS_G5690E04_R1750_STIP_TIP',\n",
        "  'magnitude': 0.0},\n",
        " {'coordinate': array([ 0.00375   , -0.01427126,  0.        ], dtype=float32),\n",
        "  'data': array([ 0.,  0.], dtype=float32),\n",
        "  'instance': 'AS_G5690E04_R1750_STIP_TIP',\n",
        "  'magnitude': 0.0},\n",
        " {'coordinate': array([ 0.004     , -0.01427126,  0.        ], dtype=float32),\n",
        "  'data': array([ 0.,  0.], dtype=float32),\n",
        "  'instance': 'AS_G5690E04_R1750_STIP_TIP',\n",
        "  'magnitude': 0.0},\n",
        " {'coordinate': array([ 0.00425   , -0.01427126,  0.        ], dtype=float32),\n",
        "  'data': array([ 0.,  0.], dtype=float32),\n",
        "  'instance': 'AS_G5690E04_R1750_STIP_TIP',\n",
        "  'magnitude': 0.0},\n",
        " {'coordinate': array([ 0.0045    , -0.01427126,  0.        ], dtype=float32),\n",
        "  'data': array([ 0.,  0.], dtype=float32),\n",
        "  'instance': 'AS_G5690E04_R1750_STIP_TIP',\n",
        "  'magnitude': 0.0},\n",
        " {'coordinate': array([ 0.00475   , -0.01427126,  0.        ], dtype=float32),\n",
        "  'data': array([ 0.,  0.], dtype=float32),\n",
        "  'instance': 'AS_G5690E04_R1750_STIP_TIP',\n",
        "  'magnitude': 0.0},\n",
        " {'coordinate': array([ 0.005     , -0.01427126,  0.        ], dtype=float32),\n",
        "  'data': array([ 0.,  0.], dtype=float32),\n",
        "  'instance': 'AS_G5690E04_R1750_STIP_TIP',\n",
        "  'magnitude': 0.0},\n",
        " {'coordinate': array([ 0.00525   , -0.01427126,  0.        ], dtype=float32),\n",
        "  'data': array([ 0.,  0.], dtype=float32),\n",
        "  'instance': 'AS_G5690E04_R1750_STIP_TIP',\n",
        "  'magnitude': 0.0},\n",
        " {'coordinate': array([ 0.0055    , -0.01427126,  0.        ], dtype=float32),\n",
        "  'data': array([ 0.,  0.], dtype=float32),\n",
        "  'instance': 'AS_G5690E04_R1750_STIP_TIP',\n",
        "  'magnitude': 0.0},\n",
        " {'coordinate': array([ 0.00575   , -0.01427126,  0.        ], dtype=float32),\n",
        "  'data': array([ 0.,  0.], dtype=float32),\n",
        "  'instance': 'AS_G5690E04_R1750_STIP_TIP',\n",
        "  'magnitude': 0.0},\n",
        " {'coordinate': array([ 0.006     , -0.01427126,  0.        ], dtype=float32),\n",
        "  'data': array([ 0.,  0.], dtype=float32),\n",
        "  'instance': 'AS_G5690E04_R1750_STIP_TIP',\n",
        "  'magnitude': 0.0},\n",
        " {'coordinate': array([ 0.00625   , -0.01427126,  0.        ], dtype=float32),\n",
        "  'data': array([ 0.,  0.], dtype=float32),\n",
        "  'instance': 'AS_G5690E04_R1750_STIP_TIP',\n",
        "  'magnitude': 0.0},\n",
        " {'coordinate': array([ 0.0065    , -0.01427126,  0.        ], dtype=float32),\n",
        "  'data': array([ 0.,  0.], dtype=float32),\n",
        "  'instance': 'AS_G5690E04_R1750_STIP_TIP',\n",
        "  'magnitude': 0.0},\n",
        " {'coordinate': array([ 0.00675   , -0.01427126,  0.        ], dtype=float32),\n",
        "  'data': array([ 0.,  0.], dtype=float32),\n",
        "  'instance': 'AS_G5690E04_R1750_STIP_TIP',\n",
        "  'magnitude': 0.0},\n",
        " {'coordinate': array([ 0.007     , -0.01427126,  0.        ], dtype=float32),\n",
        "  'data': array([ 0.,  0.], dtype=float32),\n",
        "  'instance': 'AS_G5690E04_R1750_STIP_TIP',\n",
        "  'magnitude': 0.0},\n",
        " {'coordinate': array([ 0.00725   , -0.01427126,  0.        ], dtype=float32),\n",
        "  'data': array([ 0.,  0.], dtype=float32),\n",
        "  'instance': 'AS_G5690E04_R1750_STIP_TIP',\n",
        "  'magnitude': 0.0},\n",
        " {'coordinate': array([ 0.0075    , -0.01427126,  0.        ], dtype=float32),\n",
        "  'data': array([ 0.,  0.], dtype=float32),\n",
        "  'instance': 'AS_G5690E04_R1750_STIP_TIP',\n",
        "  'magnitude': 0.0},\n",
        " {'coordinate': array([ 0.00775   , -0.01427126,  0.        ], dtype=float32),\n",
        "  'data': array([ 0.,  0.], dtype=float32),\n",
        "  'instance': 'AS_G5690E04_R1750_STIP_TIP',\n",
        "  'magnitude': 0.0},\n",
        " {'coordinate': array([ 0.008     , -0.01427126,  0.        ], dtype=float32),\n",
        "  'data': array([ 0.,  0.], dtype=float32),\n",
        "  'instance': 'AS_G5690E04_R1750_STIP_TIP',\n",
        "  'magnitude': 0.0},\n",
        " {'coordinate': array([ 0.00825   , -0.01427126,  0.        ], dtype=float32),\n",
        "  'data': array([ 0.,  0.], dtype=float32),\n",
        "  'instance': 'AS_G5690E04_R1750_STIP_TIP',\n",
        "  'magnitude': 0.0},\n",
        " {'coordinate': array([ 0.0085    , -0.01427126,  0.        ], dtype=float32),\n",
        "  'data': array([ 0.,  0.], dtype=float32),\n",
        "  'instance': 'AS_G5690E04_R1750_STIP_TIP',\n",
        "  'magnitude': 0.0},\n",
        " {'coordinate': array([ 0.00875   , -0.01427126,  0.        ], dtype=float32),\n",
        "  'data': array([ 0.,  0.], dtype=float32),\n",
        "  'instance': 'AS_G5690E04_R1750_STIP_TIP',\n",
        "  'magnitude': 0.0},\n",
        " {'coordinate': array([ 0.009     , -0.01427126,  0.        ], dtype=float32),\n",
        "  'data': array([ 0.,  0.], dtype=float32),\n",
        "  'instance': 'AS_G5690E04_R1750_STIP_TIP',\n",
        "  'magnitude': 0.0},\n",
        " {'coordinate': array([ 0.00925   , -0.01427126,  0.        ], dtype=float32),\n",
        "  'data': array([ 0.,  0.], dtype=float32),\n",
        "  'instance': 'AS_G5690E04_R1750_STIP_TIP',\n",
        "  'magnitude': 0.0},\n",
        " {'coordinate': array([ 0.0095    , -0.01427126,  0.        ], dtype=float32),\n",
        "  'data': array([ 0.,  0.], dtype=float32),\n",
        "  'instance': 'AS_G5690E04_R1750_STIP_TIP',\n",
        "  'magnitude': 0.0},\n",
        " {'coordinate': array([ 0.00975   , -0.01427126,  0.        ], dtype=float32),\n",
        "  'data': array([ 0.,  0.], dtype=float32),\n",
        "  'instance': 'AS_G5690E04_R1750_STIP_TIP',\n",
        "  'magnitude': 0.0},\n",
        " {'coordinate': array([ 0.01      , -0.01427126,  0.        ], dtype=float32),\n",
        "  'data': array([ 0.,  0.], dtype=float32),\n",
        "  'instance': 'AS_G5690E04_R1750_STIP_TIP',\n",
        "  'magnitude': 0.0},\n",
        " {'coordinate': array([ 0.01025   , -0.01427126,  0.        ], dtype=float32),\n",
        "  'data': array([ 0.,  0.], dtype=float32),\n",
        "  'instance': 'AS_G5690E04_R1750_STIP_TIP',\n",
        "  'magnitude': 0.0},\n",
        " {'coordinate': array([ 0.0105    , -0.01427126,  0.        ], dtype=float32),\n",
        "  'data': array([ 0.,  0.], dtype=float32),\n",
        "  'instance': 'AS_G5690E04_R1750_STIP_TIP',\n",
        "  'magnitude': 0.0},\n",
        " {'coordinate': array([ 0.01075   , -0.01427126,  0.        ], dtype=float32),\n",
        "  'data': array([ 0.,  0.], dtype=float32),\n",
        "  'instance': 'AS_G5690E04_R1750_STIP_TIP',\n",
        "  'magnitude': 0.0},\n",
        " {'coordinate': array([ 0.011     , -0.01427126,  0.        ], dtype=float32),\n",
        "  'data': array([ 0.,  0.], dtype=float32),\n",
        "  'instance': 'AS_G5690E04_R1750_STIP_TIP',\n",
        "  'magnitude': 0.0},\n",
        " {'coordinate': array([ 0.01125   , -0.01427126,  0.        ], dtype=float32),\n",
        "  'data': array([ 0.,  0.], dtype=float32),\n",
        "  'instance': 'AS_G5690E04_R1750_STIP_TIP',\n",
        "  'magnitude': 0.0},\n",
        " {'coordinate': array([ 0.0115    , -0.01427126,  0.        ], dtype=float32),\n",
        "  'data': array([ 0.,  0.], dtype=float32),\n",
        "  'instance': 'AS_G5690E04_R1750_STIP_TIP',\n",
        "  'magnitude': 0.0},\n",
        " {'coordinate': array([ 0.01175   , -0.01427126,  0.        ], dtype=float32),\n",
        "  'data': array([ 0.,  0.], dtype=float32),\n",
        "  'instance': 'AS_G5690E04_R1750_STIP_TIP',\n",
        "  'magnitude': 0.0},\n",
        " {'coordinate': array([ 0.012     , -0.01427126,  0.        ], dtype=float32),\n",
        "  'data': array([ 0.,  0.], dtype=float32),\n",
        "  'instance': 'AS_G5690E04_R1750_STIP_TIP',\n",
        "  'magnitude': 0.0},\n",
        " {'coordinate': array([ 0.01225   , -0.01427126,  0.        ], dtype=float32),\n",
        "  'data': array([ 0.,  0.], dtype=float32),\n",
        "  'instance': 'AS_G5690E04_R1750_STIP_TIP',\n",
        "  'magnitude': 0.0},\n",
        " {'coordinate': array([ 0.0125    , -0.01427126,  0.        ], dtype=float32),\n",
        "  'data': array([ 0.,  0.], dtype=float32),\n",
        "  'instance': 'AS_G5690E04_R1750_STIP_TIP',\n",
        "  'magnitude': 0.0},\n",
        " {'coordinate': array([ 0.01275   , -0.01427126,  0.        ], dtype=float32),\n",
        "  'data': array([ 0.,  0.], dtype=float32),\n",
        "  'instance': 'AS_G5690E04_R1750_STIP_TIP',\n",
        "  'magnitude': 0.0},\n",
        " {'coordinate': array([ 0.013     , -0.01427126,  0.        ], dtype=float32),\n",
        "  'data': array([ 0.,  0.], dtype=float32),\n",
        "  'instance': 'AS_G5690E04_R1750_STIP_TIP',\n",
        "  'magnitude': 0.0},\n",
        " {'coordinate': array([ 0.01325   , -0.01427126,  0.        ], dtype=float32),\n",
        "  'data': array([ 0.,  0.], dtype=float32),\n",
        "  'instance': 'AS_G5690E04_R1750_STIP_TIP',\n",
        "  'magnitude': 0.0},\n",
        " {'coordinate': array([ 0.0135    , -0.01427126,  0.        ], dtype=float32),\n",
        "  'data': array([ 0.,  0.], dtype=float32),\n",
        "  'instance': 'AS_G5690E04_R1750_STIP_TIP',\n",
        "  'magnitude': 0.0},\n",
        " {'coordinate': array([ 0.01375   , -0.01427126,  0.        ], dtype=float32),\n",
        "  'data': array([ 0.,  0.], dtype=float32),\n",
        "  'instance': 'AS_G5690E04_R1750_STIP_TIP',\n",
        "  'magnitude': 0.0},\n",
        " {'coordinate': array([ 0.014     , -0.01427126,  0.        ], dtype=float32),\n",
        "  'data': array([ 0.,  0.], dtype=float32),\n",
        "  'instance': 'AS_G5690E04_R1750_STIP_TIP',\n",
        "  'magnitude': 0.0},\n",
        " {'coordinate': array([ 0.01425   , -0.01427126,  0.        ], dtype=float32),\n",
        "  'data': array([ 0.,  0.], dtype=float32),\n",
        "  'instance': 'AS_G5690E04_R1750_STIP_TIP',\n",
        "  'magnitude': 0.0},\n",
        " {'coordinate': array([ 0.0145    , -0.01427126,  0.        ], dtype=float32),\n",
        "  'data': array([ 0.,  0.], dtype=float32),\n",
        "  'instance': 'AS_G5690E04_R1750_STIP_TIP',\n",
        "  'magnitude': 0.0},\n",
        " {'coordinate': array([ 0.01475   , -0.01427126,  0.        ], dtype=float32),\n",
        "  'data': array([ 0.,  0.], dtype=float32),\n",
        "  'instance': 'AS_G5690E04_R1750_STIP_TIP',\n",
        "  'magnitude': 0.0},\n",
        " {'coordinate': array([ 0.015     , -0.01427126,  0.        ], dtype=float32),\n",
        "  'data': array([ 0.,  0.], dtype=float32),\n",
        "  'instance': 'AS_G5690E04_R1750_STIP_TIP',\n",
        "  'magnitude': 0.0},\n",
        " {'coordinate': array([ 0.01525   , -0.01427126,  0.        ], dtype=float32),\n",
        "  'data': array([ 0.,  0.], dtype=float32),\n",
        "  'instance': 'AS_G5690E04_R1750_STIP_TIP',\n",
        "  'magnitude': 0.0},\n",
        " {'coordinate': array([ 0.0155    , -0.01427126,  0.        ], dtype=float32),\n",
        "  'data': array([ 0.,  0.], dtype=float32),\n",
        "  'instance': 'AS_G5690E04_R1750_STIP_TIP',\n",
        "  'magnitude': 0.0},\n",
        " {'coordinate': array([ 0.01575   , -0.01427126,  0.        ], dtype=float32),\n",
        "  'data': array([ 0.,  0.], dtype=float32),\n",
        "  'instance': 'AS_G5690E04_R1750_STIP_TIP',\n",
        "  'magnitude': 0.0},\n",
        " {'coordinate': array([ 0.016     , -0.01427126,  0.        ], dtype=float32),\n",
        "  'data': array([ 0.,  0.], dtype=float32),\n",
        "  'instance': 'AS_G5690E04_R1750_STIP_TIP',\n",
        "  'magnitude': 0.0},\n",
        " {'coordinate': array([ 0.01625   , -0.01427126,  0.        ], dtype=float32),\n",
        "  'data': array([ 0.,  0.], dtype=float32),\n",
        "  'instance': 'AS_G5690E04_R1750_STIP_TIP',\n",
        "  'magnitude': 0.0},\n",
        " {'coordinate': array([ 0.0165    , -0.01427126,  0.        ], dtype=float32),\n",
        "  'data': array([ 0.,  0.], dtype=float32),\n",
        "  'instance': 'AS_G5690E04_R1750_STIP_TIP',\n",
        "  'magnitude': 0.0},\n",
        " {'coordinate': array([ 0.01675   , -0.01427126,  0.        ], dtype=float32),\n",
        "  'data': array([ 0.,  0.], dtype=float32),\n",
        "  'instance': 'AS_G5690E04_R1750_STIP_TIP',\n",
        "  'magnitude': 0.0},\n",
        " {'coordinate': array([ 0.017     , -0.01427126,  0.        ], dtype=float32),\n",
        "  'data': array([ 0.,  0.], dtype=float32),\n",
        "  'instance': 'AS_G5690E04_R1750_STIP_TIP',\n",
        "  'magnitude': 0.0},\n",
        " {'coordinate': array([ 0.01725   , -0.01427126,  0.        ], dtype=float32),\n",
        "  'data': array([ 0.,  0.], dtype=float32),\n",
        "  'instance': 'AS_G5690E04_R1750_STIP_TIP',\n",
        "  'magnitude': 0.0},\n",
        " {'coordinate': array([ 0.0175    , -0.01427126,  0.        ], dtype=float32),\n",
        "  'data': array([ 0.,  0.], dtype=float32),\n",
        "  'instance': 'AS_G5690E04_R1750_STIP_TIP',\n",
        "  'magnitude': 0.0},\n",
        " {'coordinate': array([ 0.        , -0.01297569,  0.        ], dtype=float32),\n",
        "  'data': array([ 0.,  0.], dtype=float32),\n",
        "  'instance': 'AS_G5690E04_R1750_STIP_TIP',\n",
        "  'magnitude': 0.0},\n",
        " {'coordinate': array([ 0.00025   , -0.01297569,  0.        ], dtype=float32),\n",
        "  'data': array([ 0.,  0.], dtype=float32),\n",
        "  'instance': 'AS_G5690E04_R1750_STIP_TIP',\n",
        "  'magnitude': 0.0},\n",
        " {'coordinate': array([ 0.0005    , -0.01297569,  0.        ], dtype=float32),\n",
        "  'data': array([ 0.,  0.], dtype=float32),\n",
        "  'instance': 'AS_G5690E04_R1750_STIP_TIP',\n",
        "  'magnitude': 0.0},\n",
        " {'coordinate': array([ 0.00075   , -0.01297569,  0.        ], dtype=float32),\n",
        "  'data': array([ 0.,  0.], dtype=float32),\n",
        "  'instance': 'AS_G5690E04_R1750_STIP_TIP',\n",
        "  'magnitude': 0.0},\n",
        " {'coordinate': array([ 0.001     , -0.01297569,  0.        ], dtype=float32),\n",
        "  'data': array([ 0.,  0.], dtype=float32),\n",
        "  'instance': 'AS_G5690E04_R1750_STIP_TIP',\n",
        "  'magnitude': 0.0},\n",
        " {'coordinate': array([ 0.00125   , -0.01297569,  0.        ], dtype=float32),\n",
        "  'data': array([ 0.,  0.], dtype=float32),\n",
        "  'instance': 'AS_G5690E04_R1750_STIP_TIP',\n",
        "  'magnitude': 0.0},\n",
        " {'coordinate': array([ 0.0015    , -0.01297569,  0.        ], dtype=float32),\n",
        "  'data': array([ 0.,  0.], dtype=float32),\n",
        "  'instance': 'AS_G5690E04_R1750_STIP_TIP',\n",
        "  'magnitude': 0.0},\n",
        " {'coordinate': array([ 0.00175   , -0.01297569,  0.        ], dtype=float32),\n",
        "  'data': array([ 0.,  0.], dtype=float32),\n",
        "  'instance': 'AS_G5690E04_R1750_STIP_TIP',\n",
        "  'magnitude': 0.0},\n",
        " {'coordinate': array([ 0.002     , -0.01297569,  0.        ], dtype=float32),\n",
        "  'data': array([ 0.,  0.], dtype=float32),\n",
        "  'instance': 'AS_G5690E04_R1750_STIP_TIP',\n",
        "  'magnitude': 0.0},\n",
        " {'coordinate': array([ 0.00225   , -0.01297569,  0.        ], dtype=float32),\n",
        "  'data': array([ 0.,  0.], dtype=float32),\n",
        "  'instance': 'AS_G5690E04_R1750_STIP_TIP',\n",
        "  'magnitude': 0.0},\n",
        " {'coordinate': array([ 0.0025    , -0.01297569,  0.        ], dtype=float32),\n",
        "  'data': array([ 0.,  0.], dtype=float32),\n",
        "  'instance': 'AS_G5690E04_R1750_STIP_TIP',\n",
        "  'magnitude': 0.0},\n",
        " {'coordinate': array([ 0.00275   , -0.01297569,  0.        ], dtype=float32),\n",
        "  'data': array([ 0.,  0.], dtype=float32),\n",
        "  'instance': 'AS_G5690E04_R1750_STIP_TIP',\n",
        "  'magnitude': 0.0},\n",
        " {'coordinate': array([ 0.003     , -0.01297569,  0.        ], dtype=float32),\n",
        "  'data': array([ 0.,  0.], dtype=float32),\n",
        "  'instance': 'AS_G5690E04_R1750_STIP_TIP',\n",
        "  'magnitude': 0.0},\n",
        " {'coordinate': array([ 0.00325   , -0.01297569,  0.        ], dtype=float32),\n",
        "  'data': array([ 0.,  0.], dtype=float32),\n",
        "  'instance': 'AS_G5690E04_R1750_STIP_TIP',\n",
        "  'magnitude': 0.0},\n",
        " {'coordinate': array([ 0.0035    , -0.01297569,  0.        ], dtype=float32),\n",
        "  'data': array([ 0.,  0.], dtype=float32),\n",
        "  'instance': 'AS_G5690E04_R1750_STIP_TIP',\n",
        "  'magnitude': 0.0},\n",
        " {'coordinate': array([ 0.00375   , -0.01297569,  0.        ], dtype=float32),\n",
        "  'data': array([ 0.,  0.], dtype=float32),\n",
        "  'instance': 'AS_G5690E04_R1750_STIP_TIP',\n",
        "  'magnitude': 0.0},\n",
        " {'coordinate': array([ 0.004     , -0.01297569,  0.        ], dtype=float32),\n",
        "  'data': array([ 0.,  0.], dtype=float32),\n",
        "  'instance': 'AS_G5690E04_R1750_STIP_TIP',\n",
        "  'magnitude': 0.0},\n",
        " {'coordinate': array([ 0.00425   , -0.01297569,  0.        ], dtype=float32),\n",
        "  'data': array([ 0.,  0.], dtype=float32),\n",
        "  'instance': 'AS_G5690E04_R1750_STIP_TIP',\n",
        "  'magnitude': 0.0},\n",
        " {'coordinate': array([ 0.0045    , -0.01297569,  0.        ], dtype=float32),\n",
        "  'data': array([ 0.,  0.], dtype=float32),\n",
        "  'instance': 'AS_G5690E04_R1750_STIP_TIP',\n",
        "  'magnitude': 0.0},\n",
        " {'coordinate': array([ 0.00475   , -0.01297569,  0.        ], dtype=float32),\n",
        "  'data': array([ 0.,  0.], dtype=float32),\n",
        "  'instance': 'AS_G5690E04_R1750_STIP_TIP',\n",
        "  'magnitude': 0.0},\n",
        " {'coordinate': array([ 0.005     , -0.01297569,  0.        ], dtype=float32),\n",
        "  'data': array([ 0.,  0.], dtype=float32),\n",
        "  'instance': 'AS_G5690E04_R1750_STIP_TIP',\n",
        "  'magnitude': 0.0},\n",
        " {'coordinate': array([ 0.00525   , -0.01297569,  0.        ], dtype=float32),\n",
        "  'data': array([ 0.,  0.], dtype=float32),\n",
        "  'instance': 'AS_G5690E04_R1750_STIP_TIP',\n",
        "  'magnitude': 0.0},\n",
        " {'coordinate': array([ 0.0055    , -0.01297569,  0.        ], dtype=float32),\n",
        "  'data': array([ 0.,  0.], dtype=float32),\n",
        "  'instance': 'AS_G5690E04_R1750_STIP_TIP',\n",
        "  'magnitude': 0.0},\n",
        " {'coordinate': array([ 0.00575   , -0.01297569,  0.        ], dtype=float32),\n",
        "  'data': array([ 0.,  0.], dtype=float32),\n",
        "  'instance': 'AS_G5690E04_R1750_STIP_TIP',\n",
        "  'magnitude': 0.0},\n",
        " {'coordinate': array([ 0.006     , -0.01297569,  0.        ], dtype=float32),\n",
        "  'data': array([ 0.,  0.], dtype=float32),\n",
        "  'instance': 'AS_G5690E04_R1750_STIP_TIP',\n",
        "  'magnitude': 0.0},\n",
        " {'coordinate': array([ 0.00625   , -0.01297569,  0.        ], dtype=float32),\n",
        "  'data': array([ 0.,  0.], dtype=float32),\n",
        "  'instance': 'AS_G5690E04_R1750_STIP_TIP',\n",
        "  'magnitude': 0.0},\n",
        " {'coordinate': array([ 0.0065    , -0.01297569,  0.        ], dtype=float32),\n",
        "  'data': array([ 0.,  0.], dtype=float32),\n",
        "  'instance': 'AS_G5690E04_R1750_STIP_TIP',\n",
        "  'magnitude': 0.0},\n",
        " {'coordinate': array([ 0.00675   , -0.01297569,  0.        ], dtype=float32),\n",
        "  'data': array([ 0.,  0.], dtype=float32),\n",
        "  'instance': 'AS_G5690E04_R1750_STIP_TIP',\n",
        "  'magnitude': 0.0},\n",
        " {'coordinate': array([ 0.007     , -0.01297569,  0.        ], dtype=float32),\n",
        "  'data': array([ 0.,  0.], dtype=float32),\n",
        "  'instance': 'AS_G5690E04_R1750_STIP_TIP',\n",
        "  'magnitude': 0.0},\n",
        " {'coordinate': array([ 0.00725   , -0.01297569,  0.        ], dtype=float32),\n",
        "  'data': array([ 0.,  0.], dtype=float32),\n",
        "  'instance': 'AS_G5690E04_R1750_STIP_TIP',\n",
        "  'magnitude': 0.0},\n",
        " {'coordinate': array([ 0.0075    , -0.01297569,  0.        ], dtype=float32),\n",
        "  'data': array([ 0.,  0.], dtype=float32),\n",
        "  'instance': 'AS_G5690E04_R1750_STIP_TIP',\n",
        "  'magnitude': 0.0},\n",
        " {'coordinate': array([ 0.00775   , -0.01297569,  0.        ], dtype=float32),\n",
        "  'data': array([ 0.,  0.], dtype=float32),\n",
        "  'instance': 'AS_G5690E04_R1750_STIP_TIP',\n",
        "  'magnitude': 0.0},\n",
        " {'coordinate': array([ 0.008     , -0.01297569,  0.        ], dtype=float32),\n",
        "  'data': array([ 0.,  0.], dtype=float32),\n",
        "  'instance': 'AS_G5690E04_R1750_STIP_TIP',\n",
        "  'magnitude': 0.0},\n",
        " {'coordinate': array([ 0.00825   , -0.01297569,  0.        ], dtype=float32),\n",
        "  'data': array([ 0.,  0.], dtype=float32),\n",
        "  'instance': 'AS_G5690E04_R1750_STIP_TIP',\n",
        "  'magnitude': 0.0},\n",
        " {'coordinate': array([ 0.0085    , -0.01297569,  0.        ], dtype=float32),\n",
        "  'data': array([ 0.,  0.], dtype=float32),\n",
        "  'instance': 'AS_G5690E04_R1750_STIP_TIP',\n",
        "  'magnitude': 0.0},\n",
        " {'coordinate': array([ 0.00875   , -0.01297569,  0.        ], dtype=float32),\n",
        "  'data': array([ 0.,  0.], dtype=float32),\n",
        "  'instance': 'AS_G5690E04_R1750_STIP_TIP',\n",
        "  'magnitude': 0.0},\n",
        " {'coordinate': array([ 0.009     , -0.01297569,  0.        ], dtype=float32),\n",
        "  'data': array([ 0.,  0.], dtype=float32),\n",
        "  'instance': 'AS_G5690E04_R1750_STIP_TIP',\n",
        "  'magnitude': 0.0},\n",
        " {'coordinate': array([ 0.00925   , -0.01297569,  0.        ], dtype=float32),\n",
        "  'data': array([ 0.,  0.], dtype=float32),\n",
        "  'instance': 'AS_G5690E04_R1750_STIP_TIP',\n",
        "  'magnitude': 0.0},\n",
        " {'coordinate': array([ 0.0095    , -0.01297569,  0.        ], dtype=float32),\n",
        "  'data': array([ 0.,  0.], dtype=float32),\n",
        "  'instance': 'AS_G5690E04_R1750_STIP_TIP',\n",
        "  'magnitude': 0.0},\n",
        " {'coordinate': array([ 0.00975   , -0.01297569,  0.        ], dtype=float32),\n",
        "  'data': array([ 0.,  0.], dtype=float32),\n",
        "  'instance': 'AS_G5690E04_R1750_STIP_TIP',\n",
        "  'magnitude': 0.0},\n",
        " {'coordinate': array([ 0.01      , -0.01297569,  0.        ], dtype=float32),\n",
        "  'data': array([ 0.,  0.], dtype=float32),\n",
        "  'instance': 'AS_G5690E04_R1750_STIP_TIP',\n",
        "  'magnitude': 0.0},\n",
        " {'coordinate': array([ 0.01025   , -0.01297569,  0.        ], dtype=float32),\n",
        "  'data': array([ 0.,  0.], dtype=float32),\n",
        "  'instance': 'AS_G5690E04_R1750_STIP_TIP',\n",
        "  'magnitude': 0.0},\n",
        " {'coordinate': array([ 0.0105    , -0.01297569,  0.        ], dtype=float32),\n",
        "  'data': array([ 0.,  0.], dtype=float32),\n",
        "  'instance': 'AS_G5690E04_R1750_STIP_TIP',\n",
        "  'magnitude': 0.0},\n",
        " {'coordinate': array([ 0.01075   , -0.01297569,  0.        ], dtype=float32),\n",
        "  'data': array([ 0.,  0.], dtype=float32),\n",
        "  'instance': 'AS_G5690E04_R1750_STIP_TIP',\n",
        "  'magnitude': 0.0},\n",
        " {'coordinate': array([ 0.011     , -0.01297569,  0.        ], dtype=float32),\n",
        "  'data': array([ 0.,  0.], dtype=float32),\n",
        "  'instance': 'AS_G5690E04_R1750_STIP_TIP',\n",
        "  'magnitude': 0.0},\n",
        " {'coordinate': array([ 0.01125   , -0.01297569,  0.        ], dtype=float32),\n",
        "  'data': array([ 0.,  0.], dtype=float32),\n",
        "  'instance': 'AS_G5690E04_R1750_STIP_TIP',\n",
        "  'magnitude': 0.0},\n",
        " {'coordinate': array([ 0.0115    , -0.01297569,  0.        ], dtype=float32),\n",
        "  'data': array([ 0.,  0.], dtype=float32),\n",
        "  'instance': 'AS_G5690E04_R1750_STIP_TIP',\n",
        "  'magnitude': 0.0},\n",
        " {'coordinate': array([ 0.01175   , -0.01297569,  0.        ], dtype=float32),\n",
        "  'data': array([ 0.,  0.], dtype=float32),\n",
        "  'instance': 'AS_G5690E04_R1750_STIP_TIP',\n",
        "  'magnitude': 0.0},\n",
        " {'coordinate': array([ 0.012     , -0.01297569,  0.        ], dtype=float32),\n",
        "  'data': array([ 0.,  0.], dtype=float32),\n",
        "  'instance': 'AS_G5690E04_R1750_STIP_TIP',\n",
        "  'magnitude': 0.0},\n",
        " {'coordinate': array([ 0.01225   , -0.01297569,  0.        ], dtype=float32),\n",
        "  'data': array([ 0.,  0.], dtype=float32),\n",
        "  'instance': 'AS_G5690E04_R1750_STIP_TIP',\n",
        "  'magnitude': 0.0},\n",
        " {'coordinate': array([ 0.0125    , -0.01297569,  0.        ], dtype=float32),\n",
        "  'data': array([ 0.,  0.], dtype=float32),\n",
        "  'instance': 'AS_G5690E04_R1750_STIP_TIP',\n",
        "  'magnitude': 0.0},\n",
        " {'coordinate': array([ 0.01275   , -0.01297569,  0.        ], dtype=float32),\n",
        "  'data': array([ 0.,  0.], dtype=float32),\n",
        "  'instance': 'AS_G5690E04_R1750_STIP_TIP',\n",
        "  'magnitude': 0.0},\n",
        " {'coordinate': array([ 0.013     , -0.01297569,  0.        ], dtype=float32),\n",
        "  'data': array([ 0.,  0.], dtype=float32),\n",
        "  'instance': 'AS_G5690E04_R1750_STIP_TIP',\n",
        "  'magnitude': 0.0},\n",
        " {'coordinate': array([ 0.01325   , -0.01297569,  0.        ], dtype=float32),\n",
        "  'data': array([ 0.,  0.], dtype=float32),\n",
        "  'instance': 'AS_G5690E04_R1750_STIP_TIP',\n",
        "  'magnitude': 0.0},\n",
        " {'coordinate': array([ 0.0135    , -0.01297569,  0.        ], dtype=float32),\n",
        "  'data': array([ 0.,  0.], dtype=float32),\n",
        "  'instance': 'AS_G5690E04_R1750_STIP_TIP',\n",
        "  'magnitude': 0.0},\n",
        " {'coordinate': array([ 0.01375   , -0.01297569,  0.        ], dtype=float32),\n",
        "  'data': array([ 0.,  0.], dtype=float32),\n",
        "  'instance': 'AS_G5690E04_R1750_STIP_TIP',\n",
        "  'magnitude': 0.0},\n",
        " {'coordinate': array([ 0.014     , -0.01297569,  0.        ], dtype=float32),\n",
        "  'data': array([ 0.,  0.], dtype=float32),\n",
        "  'instance': 'AS_G5690E04_R1750_STIP_TIP',\n",
        "  'magnitude': 0.0},\n",
        " {'coordinate': array([ 0.01425   , -0.01297569,  0.        ], dtype=float32),\n",
        "  'data': array([ 0.,  0.], dtype=float32),\n",
        "  'instance': 'AS_G5690E04_R1750_STIP_TIP',\n",
        "  'magnitude': 0.0},\n",
        " {'coordinate': array([ 0.0145    , -0.01297569,  0.        ], dtype=float32),\n",
        "  'data': array([ 0.,  0.], dtype=float32),\n",
        "  'instance': 'AS_G5690E04_R1750_STIP_TIP',\n",
        "  'magnitude': 0.0},\n",
        " {'coordinate': array([ 0.01475   , -0.01297569,  0.        ], dtype=float32),\n",
        "  'data': array([ 0.,  0.], dtype=float32),\n",
        "  'instance': 'AS_G5690E04_R1750_STIP_TIP',\n",
        "  'magnitude': 0.0},\n",
        " {'coordinate': array([ 0.015     , -0.01297569,  0.        ], dtype=float32),\n",
        "  'data': array([ 0.,  0.], dtype=float32),\n",
        "  'instance': 'AS_G5690E04_R1750_STIP_TIP',\n",
        "  'magnitude': 0.0},\n",
        " {'coordinate': array([ 0.01525   , -0.01297569,  0.        ], dtype=float32),\n",
        "  'data': array([ 0.,  0.], dtype=float32),\n",
        "  'instance': 'AS_G5690E04_R1750_STIP_TIP',\n",
        "  'magnitude': 0.0},\n",
        " {'coordinate': array([ 0.0155    , -0.01297569,  0.        ], dtype=float32),\n",
        "  'data': array([ 0.,  0.], dtype=float32),\n",
        "  'instance': 'AS_G5690E04_R1750_STIP_TIP',\n",
        "  'magnitude': 0.0},\n",
        " {'coordinate': array([ 0.01575   , -0.01297569,  0.        ], dtype=float32),\n",
        "  'data': array([ 0.,  0.], dtype=float32),\n",
        "  'instance': 'AS_G5690E04_R1750_STIP_TIP',\n",
        "  'magnitude': 0.0},\n",
        " {'coordinate': array([ 0.016     , -0.01297569,  0.        ], dtype=float32),\n",
        "  'data': array([ 0.,  0.], dtype=float32),\n",
        "  'instance': 'AS_G5690E04_R1750_STIP_TIP',\n",
        "  'magnitude': 0.0},\n",
        " {'coordinate': array([ 0.01625   , -0.01297569,  0.        ], dtype=float32),\n",
        "  'data': array([ 0.,  0.], dtype=float32),\n",
        "  'instance': 'AS_G5690E04_R1750_STIP_TIP',\n",
        "  'magnitude': 0.0},\n",
        " {'coordinate': array([ 0.0165    , -0.01297569,  0.        ], dtype=float32),\n",
        "  'data': array([ 0.,  0.], dtype=float32),\n",
        "  'instance': 'AS_G5690E04_R1750_STIP_TIP',\n",
        "  'magnitude': 0.0},\n",
        " {'coordinate': array([ 0.01675   , -0.01297569,  0.        ], dtype=float32),\n",
        "  'data': array([ 0.,  0.], dtype=float32),\n",
        "  'instance': 'AS_G5690E04_R1750_STIP_TIP',\n",
        "  'magnitude': 0.0},\n",
        " {'coordinate': array([ 0.017     , -0.01297569,  0.        ], dtype=float32),\n",
        "  'data': array([ 0.,  0.], dtype=float32),\n",
        "  'instance': 'AS_G5690E04_R1750_STIP_TIP',\n",
        "  'magnitude': 0.0},\n",
        " {'coordinate': array([ 0.01725   , -0.01297569,  0.        ], dtype=float32),\n",
        "  'data': array([ 0.,  0.], dtype=float32),\n",
        "  'instance': 'AS_G5690E04_R1750_STIP_TIP',\n",
        "  'magnitude': 0.0},\n",
        " {'coordinate': array([ 0.0175    , -0.01297569,  0.        ], dtype=float32),\n",
        "  'data': array([ 0.,  0.], dtype=float32),\n",
        "  'instance': 'AS_G5690E04_R1750_STIP_TIP',\n",
        "  'magnitude': 0.0},\n",
        " {'coordinate': array([ 0.        , -0.01175497,  0.        ], dtype=float32),\n",
        "  'data': array([ 0.,  0.], dtype=float32),\n",
        "  'instance': 'AS_G5690E04_R1750_STIP_TIP',\n",
        "  'magnitude': 0.0},\n",
        " {'coordinate': array([ 0.00025   , -0.01175497,  0.        ], dtype=float32),\n",
        "  'data': array([ 0.,  0.], dtype=float32),\n",
        "  'instance': 'AS_G5690E04_R1750_STIP_TIP',\n",
        "  'magnitude': 0.0},\n",
        " {'coordinate': array([ 0.0005    , -0.01175497,  0.        ], dtype=float32),\n",
        "  'data': array([ 0.,  0.], dtype=float32),\n",
        "  'instance': 'AS_G5690E04_R1750_STIP_TIP',\n",
        "  'magnitude': 0.0},\n",
        " {'coordinate': array([ 0.00075   , -0.01175497,  0.        ], dtype=float32),\n",
        "  'data': array([ 0.,  0.], dtype=float32),\n",
        "  'instance': 'AS_G5690E04_R1750_STIP_TIP',\n",
        "  'magnitude': 0.0},\n",
        " {'coordinate': array([ 0.001     , -0.01175497,  0.        ], dtype=float32),\n",
        "  'data': array([ 0.,  0.], dtype=float32),\n",
        "  'instance': 'AS_G5690E04_R1750_STIP_TIP',\n",
        "  'magnitude': 0.0},\n",
        " {'coordinate': array([ 0.00125   , -0.01175497,  0.        ], dtype=float32),\n",
        "  'data': array([ 0.,  0.], dtype=float32),\n",
        "  'instance': 'AS_G5690E04_R1750_STIP_TIP',\n",
        "  'magnitude': 0.0},\n",
        " {'coordinate': array([ 0.0015    , -0.01175497,  0.        ], dtype=float32),\n",
        "  'data': array([ 0.,  0.], dtype=float32),\n",
        "  'instance': 'AS_G5690E04_R1750_STIP_TIP',\n",
        "  'magnitude': 0.0},\n",
        " {'coordinate': array([ 0.00175   , -0.01175497,  0.        ], dtype=float32),\n",
        "  'data': array([ 0.,  0.], dtype=float32),\n",
        "  'instance': 'AS_G5690E04_R1750_STIP_TIP',\n",
        "  'magnitude': 0.0},\n",
        " {'coordinate': array([ 0.002     , -0.01175497,  0.        ], dtype=float32),\n",
        "  'data': array([ 0.,  0.], dtype=float32),\n",
        "  'instance': 'AS_G5690E04_R1750_STIP_TIP',\n",
        "  'magnitude': 0.0},\n",
        " {'coordinate': array([ 0.00225   , -0.01175497,  0.        ], dtype=float32),\n",
        "  'data': array([ 0.,  0.], dtype=float32),\n",
        "  'instance': 'AS_G5690E04_R1750_STIP_TIP',\n",
        "  'magnitude': 0.0},\n",
        " {'coordinate': array([ 0.0025    , -0.01175497,  0.        ], dtype=float32),\n",
        "  'data': array([ 0.,  0.], dtype=float32),\n",
        "  'instance': 'AS_G5690E04_R1750_STIP_TIP',\n",
        "  'magnitude': 0.0},\n",
        " {'coordinate': array([ 0.00275   , -0.01175497,  0.        ], dtype=float32),\n",
        "  'data': array([ 0.,  0.], dtype=float32),\n",
        "  'instance': 'AS_G5690E04_R1750_STIP_TIP',\n",
        "  'magnitude': 0.0},\n",
        " {'coordinate': array([ 0.003     , -0.01175497,  0.        ], dtype=float32),\n",
        "  'data': array([ 0.,  0.], dtype=float32),\n",
        "  'instance': 'AS_G5690E04_R1750_STIP_TIP',\n",
        "  'magnitude': 0.0},\n",
        " {'coordinate': array([ 0.00325   , -0.01175497,  0.        ], dtype=float32),\n",
        "  'data': array([ 0.,  0.], dtype=float32),\n",
        "  'instance': 'AS_G5690E04_R1750_STIP_TIP',\n",
        "  'magnitude': 0.0},\n",
        " {'coordinate': array([ 0.0035    , -0.01175497,  0.        ], dtype=float32),\n",
        "  'data': array([ 0.,  0.], dtype=float32),\n",
        "  'instance': 'AS_G5690E04_R1750_STIP_TIP',\n",
        "  'magnitude': 0.0},\n",
        " {'coordinate': array([ 0.00375   , -0.01175497,  0.        ], dtype=float32),\n",
        "  'data': array([ 0.,  0.], dtype=float32),\n",
        "  'instance': 'AS_G5690E04_R1750_STIP_TIP',\n",
        "  'magnitude': 0.0},\n",
        " {'coordinate': array([ 0.004     , -0.01175497,  0.        ], dtype=float32),\n",
        "  'data': array([ 0.,  0.], dtype=float32),\n",
        "  'instance': 'AS_G5690E04_R1750_STIP_TIP',\n",
        "  'magnitude': 0.0},\n",
        " {'coordinate': array([ 0.00425   , -0.01175497,  0.        ], dtype=float32),\n",
        "  'data': array([ 0.,  0.], dtype=float32),\n",
        "  'instance': 'AS_G5690E04_R1750_STIP_TIP',\n",
        "  'magnitude': 0.0},\n",
        " {'coordinate': array([ 0.0045    , -0.01175497,  0.        ], dtype=float32),\n",
        "  'data': array([ 0.,  0.], dtype=float32),\n",
        "  'instance': 'AS_G5690E04_R1750_STIP_TIP',\n",
        "  'magnitude': 0.0},\n",
        " {'coordinate': array([ 0.00475   , -0.01175497,  0.        ], dtype=float32),\n",
        "  'data': array([ 0.,  0.], dtype=float32),\n",
        "  'instance': 'AS_G5690E04_R1750_STIP_TIP',\n",
        "  'magnitude': 0.0},\n",
        " {'coordinate': array([ 0.005     , -0.01175497,  0.        ], dtype=float32),\n",
        "  'data': array([ 0.,  0.], dtype=float32),\n",
        "  'instance': 'AS_G5690E04_R1750_STIP_TIP',\n",
        "  'magnitude': 0.0},\n",
        " {'coordinate': array([ 0.00525   , -0.01175497,  0.        ], dtype=float32),\n",
        "  'data': array([ 0.,  0.], dtype=float32),\n",
        "  'instance': 'AS_G5690E04_R1750_STIP_TIP',\n",
        "  'magnitude': 0.0},\n",
        " {'coordinate': array([ 0.0055    , -0.01175497,  0.        ], dtype=float32),\n",
        "  'data': array([ 0.,  0.], dtype=float32),\n",
        "  'instance': 'AS_G5690E04_R1750_STIP_TIP',\n",
        "  'magnitude': 0.0},\n",
        " {'coordinate': array([ 0.00575   , -0.01175497,  0.        ], dtype=float32),\n",
        "  'data': array([ 0.,  0.], dtype=float32),\n",
        "  'instance': 'AS_G5690E04_R1750_STIP_TIP',\n",
        "  'magnitude': 0.0},\n",
        " {'coordinate': array([ 0.006     , -0.01175497,  0.        ], dtype=float32),\n",
        "  'data': array([ 0.,  0.], dtype=float32),\n",
        "  'instance': 'AS_G5690E04_R1750_STIP_TIP',\n",
        "  'magnitude': 0.0},\n",
        " {'coordinate': array([ 0.00625   , -0.01175497,  0.        ], dtype=float32),\n",
        "  'data': array([ 0.,  0.], dtype=float32),\n",
        "  'instance': 'AS_G5690E04_R1750_STIP_TIP',\n",
        "  'magnitude': 0.0},\n",
        " {'coordinate': array([ 0.0065    , -0.01175497,  0.        ], dtype=float32),\n",
        "  'data': array([ 0.,  0.], dtype=float32),\n",
        "  'instance': 'AS_G5690E04_R1750_STIP_TIP',\n",
        "  'magnitude': 0.0},\n",
        " {'coordinate': array([ 0.00675   , -0.01175497,  0.        ], dtype=float32),\n",
        "  'data': array([ 0.,  0.], dtype=float32),\n",
        "  'instance': 'AS_G5690E04_R1750_STIP_TIP',\n",
        "  'magnitude': 0.0},\n",
        " {'coordinate': array([ 0.007     , -0.01175497,  0.        ], dtype=float32),\n",
        "  'data': array([ 0.,  0.], dtype=float32),\n",
        "  'instance': 'AS_G5690E04_R1750_STIP_TIP',\n",
        "  'magnitude': 0.0},\n",
        " {'coordinate': array([ 0.00725   , -0.01175497,  0.        ], dtype=float32),\n",
        "  'data': array([ 0.,  0.], dtype=float32),\n",
        "  'instance': 'AS_G5690E04_R1750_STIP_TIP',\n",
        "  'magnitude': 0.0},\n",
        " {'coordinate': array([ 0.0075    , -0.01175497,  0.        ], dtype=float32),\n",
        "  'data': array([ 0.,  0.], dtype=float32),\n",
        "  'instance': 'AS_G5690E04_R1750_STIP_TIP',\n",
        "  'magnitude': 0.0},\n",
        " {'coordinate': array([ 0.00775   , -0.01175497,  0.        ], dtype=float32),\n",
        "  'data': array([ 0.,  0.], dtype=float32),\n",
        "  'instance': 'AS_G5690E04_R1750_STIP_TIP',\n",
        "  'magnitude': 0.0},\n",
        " {'coordinate': array([ 0.008     , -0.01175497,  0.        ], dtype=float32),\n",
        "  'data': array([ 0.,  0.], dtype=float32),\n",
        "  'instance': 'AS_G5690E04_R1750_STIP_TIP',\n",
        "  'magnitude': 0.0},\n",
        " {'coordinate': array([ 0.00825   , -0.01175497,  0.        ], dtype=float32),\n",
        "  'data': array([ 0.,  0.], dtype=float32),\n",
        "  'instance': 'AS_G5690E04_R1750_STIP_TIP',\n",
        "  'magnitude': 0.0},\n",
        " {'coordinate': array([ 0.0085    , -0.01175497,  0.        ], dtype=float32),\n",
        "  'data': array([ 0.,  0.], dtype=float32),\n",
        "  'instance': 'AS_G5690E04_R1750_STIP_TIP',\n",
        "  'magnitude': 0.0},\n",
        " {'coordinate': array([ 0.00875   , -0.01175497,  0.        ], dtype=float32),\n",
        "  'data': array([ 0.,  0.], dtype=float32),\n",
        "  'instance': 'AS_G5690E04_R1750_STIP_TIP',\n",
        "  'magnitude': 0.0},\n",
        " {'coordinate': array([ 0.009     , -0.01175497,  0.        ], dtype=float32),\n",
        "  'data': array([ 0.,  0.], dtype=float32),\n",
        "  'instance': 'AS_G5690E04_R1750_STIP_TIP',\n",
        "  'magnitude': 0.0},\n",
        " {'coordinate': array([ 0.00925   , -0.01175497,  0.        ], dtype=float32),\n",
        "  'data': array([ 0.,  0.], dtype=float32),\n",
        "  'instance': 'AS_G5690E04_R1750_STIP_TIP',\n",
        "  'magnitude': 0.0},\n",
        " {'coordinate': array([ 0.0095    , -0.01175497,  0.        ], dtype=float32),\n",
        "  'data': array([ 0.,  0.], dtype=float32),\n",
        "  'instance': 'AS_G5690E04_R1750_STIP_TIP',\n",
        "  'magnitude': 0.0},\n",
        " {'coordinate': array([ 0.00975   , -0.01175497,  0.        ], dtype=float32),\n",
        "  'data': array([ 0.,  0.], dtype=float32),\n",
        "  'instance': 'AS_G5690E04_R1750_STIP_TIP',\n",
        "  'magnitude': 0.0},\n",
        " {'coordinate': array([ 0.01      , -0.01175497,  0.        ], dtype=float32),\n",
        "  'data': array([ 0.,  0.], dtype=float32),\n",
        "  'instance': 'AS_G5690E04_R1750_STIP_TIP',\n",
        "  'magnitude': 0.0},\n",
        " {'coordinate': array([ 0.01025   , -0.01175497,  0.        ], dtype=float32),\n",
        "  'data': array([ 0.,  0.], dtype=float32),\n",
        "  'instance': 'AS_G5690E04_R1750_STIP_TIP',\n",
        "  'magnitude': 0.0},\n",
        " {'coordinate': array([ 0.0105    , -0.01175497,  0.        ], dtype=float32),\n",
        "  'data': array([ 0.,  0.], dtype=float32),\n",
        "  'instance': 'AS_G5690E04_R1750_STIP_TIP',\n",
        "  'magnitude': 0.0},\n",
        " {'coordinate': array([ 0.01075   , -0.01175497,  0.        ], dtype=float32),\n",
        "  'data': array([ 0.,  0.], dtype=float32),\n",
        "  'instance': 'AS_G5690E04_R1750_STIP_TIP',\n",
        "  'magnitude': 0.0},\n",
        " {'coordinate': array([ 0.011     , -0.01175497,  0.        ], dtype=float32),\n",
        "  'data': array([ 0.,  0.], dtype=float32),\n",
        "  'instance': 'AS_G5690E04_R1750_STIP_TIP',\n",
        "  'magnitude': 0.0},\n",
        " {'coordinate': array([ 0.01125   , -0.01175497,  0.        ], dtype=float32),\n",
        "  'data': array([ 0.,  0.], dtype=float32),\n",
        "  'instance': 'AS_G5690E04_R1750_STIP_TIP',\n",
        "  'magnitude': 0.0},\n",
        " {'coordinate': array([ 0.0115    , -0.01175497,  0.        ], dtype=float32),\n",
        "  'data': array([ 0.,  0.], dtype=float32),\n",
        "  'instance': 'AS_G5690E04_R1750_STIP_TIP',\n",
        "  'magnitude': 0.0},\n",
        " {'coordinate': array([ 0.01175   , -0.01175497,  0.        ], dtype=float32),\n",
        "  'data': array([ 0.,  0.], dtype=float32),\n",
        "  'instance': 'AS_G5690E04_R1750_STIP_TIP',\n",
        "  'magnitude': 0.0},\n",
        " {'coordinate': array([ 0.012     , -0.01175497,  0.        ], dtype=float32),\n",
        "  'data': array([ 0.,  0.], dtype=float32),\n",
        "  'instance': 'AS_G5690E04_R1750_STIP_TIP',\n",
        "  'magnitude': 0.0},\n",
        " {'coordinate': array([ 0.01225   , -0.01175497,  0.        ], dtype=float32),\n",
        "  'data': array([ 0.,  0.], dtype=float32),\n",
        "  'instance': 'AS_G5690E04_R1750_STIP_TIP',\n",
        "  'magnitude': 0.0},\n",
        " {'coordinate': array([ 0.0125    , -0.01175497,  0.        ], dtype=float32),\n",
        "  'data': array([ 0.,  0.], dtype=float32),\n",
        "  'instance': 'AS_G5690E04_R1750_STIP_TIP',\n",
        "  'magnitude': 0.0},\n",
        " {'coordinate': array([ 0.01275   , -0.01175497,  0.        ], dtype=float32),\n",
        "  'data': array([ 0.,  0.], dtype=float32),\n",
        "  'instance': 'AS_G5690E04_R1750_STIP_TIP',\n",
        "  'magnitude': 0.0},\n",
        " {'coordinate': array([ 0.013     , -0.01175497,  0.        ], dtype=float32),\n",
        "  'data': array([ 0.,  0.], dtype=float32),\n",
        "  'instance': 'AS_G5690E04_R1750_STIP_TIP',\n",
        "  'magnitude': 0.0},\n",
        " {'coordinate': array([ 0.01325   , -0.01175497,  0.        ], dtype=float32),\n",
        "  'data': array([ 0.,  0.], dtype=float32),\n",
        "  'instance': 'AS_G5690E04_R1750_STIP_TIP',\n",
        "  'magnitude': 0.0},\n",
        " {'coordinate': array([ 0.0135    , -0.01175497,  0.        ], dtype=float32),\n",
        "  'data': array([ 0.,  0.], dtype=float32),\n",
        "  'instance': 'AS_G5690E04_R1750_STIP_TIP',\n",
        "  'magnitude': 0.0},\n",
        " {'coordinate': array([ 0.01375   , -0.01175497,  0.        ], dtype=float32),\n",
        "  'data': array([ 0.,  0.], dtype=float32),\n",
        "  'instance': 'AS_G5690E04_R1750_STIP_TIP',\n",
        "  'magnitude': 0.0},\n",
        " {'coordinate': array([ 0.014     , -0.01175497,  0.        ], dtype=float32),\n",
        "  'data': array([ 0.,  0.], dtype=float32),\n",
        "  'instance': 'AS_G5690E04_R1750_STIP_TIP',\n",
        "  'magnitude': 0.0},\n",
        " {'coordinate': array([ 0.01425   , -0.01175497,  0.        ], dtype=float32),\n",
        "  'data': array([ 0.,  0.], dtype=float32),\n",
        "  'instance': 'AS_G5690E04_R1750_STIP_TIP',\n",
        "  'magnitude': 0.0},\n",
        " {'coordinate': array([ 0.0145    , -0.01175497,  0.        ], dtype=float32),\n",
        "  'data': array([ 0.,  0.], dtype=float32),\n",
        "  'instance': 'AS_G5690E04_R1750_STIP_TIP',\n",
        "  'magnitude': 0.0},\n",
        " {'coordinate': array([ 0.01475   , -0.01175497,  0.        ], dtype=float32),\n",
        "  'data': array([ 0.,  0.], dtype=float32),\n",
        "  'instance': 'AS_G5690E04_R1750_STIP_TIP',\n",
        "  'magnitude': 0.0},\n",
        " {'coordinate': array([ 0.015     , -0.01175497,  0.        ], dtype=float32),\n",
        "  'data': array([ 0.,  0.], dtype=float32),\n",
        "  'instance': 'AS_G5690E04_R1750_STIP_TIP',\n",
        "  'magnitude': 0.0},\n",
        " {'coordinate': array([ 0.01525   , -0.01175497,  0.        ], dtype=float32),\n",
        "  'data': array([ 0.,  0.], dtype=float32),\n",
        "  'instance': 'AS_G5690E04_R1750_STIP_TIP',\n",
        "  'magnitude': 0.0},\n",
        " {'coordinate': array([ 0.0155    , -0.01175497,  0.        ], dtype=float32),\n",
        "  'data': array([ 0.,  0.], dtype=float32),\n",
        "  'instance': 'AS_G5690E04_R1750_STIP_TIP',\n",
        "  'magnitude': 0.0},\n",
        " {'coordinate': array([ 0.01575   , -0.01175497,  0.        ], dtype=float32),\n",
        "  'data': array([ 0.,  0.], dtype=float32),\n",
        "  'instance': 'AS_G5690E04_R1750_STIP_TIP',\n",
        "  'magnitude': 0.0},\n",
        " {'coordinate': array([ 0.016     , -0.01175497,  0.        ], dtype=float32),\n",
        "  'data': array([ 0.,  0.], dtype=float32),\n",
        "  'instance': 'AS_G5690E04_R1750_STIP_TIP',\n",
        "  'magnitude': 0.0},\n",
        " {'coordinate': array([ 0.01625   , -0.01175497,  0.        ], dtype=float32),\n",
        "  'data': array([ 0.,  0.], dtype=float32),\n",
        "  'instance': 'AS_G5690E04_R1750_STIP_TIP',\n",
        "  'magnitude': 0.0},\n",
        " {'coordinate': array([ 0.0165    , -0.01175497,  0.        ], dtype=float32),\n",
        "  'data': array([ 0.,  0.], dtype=float32),\n",
        "  'instance': 'AS_G5690E04_R1750_STIP_TIP',\n",
        "  'magnitude': 0.0},\n",
        " {'coordinate': array([ 0.01675   , -0.01175497,  0.        ], dtype=float32),\n",
        "  'data': array([ 0.,  0.], dtype=float32),\n",
        "  'instance': 'AS_G5690E04_R1750_STIP_TIP',\n",
        "  'magnitude': 0.0},\n",
        " {'coordinate': array([ 0.017     , -0.01175497,  0.        ], dtype=float32),\n",
        "  'data': array([ 0.,  0.], dtype=float32),\n",
        "  'instance': 'AS_G5690E04_R1750_STIP_TIP',\n",
        "  'magnitude': 0.0},\n",
        " {'coordinate': array([ 0.01725   , -0.01175497,  0.        ], dtype=float32),\n",
        "  'data': array([ 0.,  0.], dtype=float32),\n",
        "  'instance': 'AS_G5690E04_R1750_STIP_TIP',\n",
        "  'magnitude': 0.0},\n",
        " {'coordinate': array([ 0.0175    , -0.01175497,  0.        ], dtype=float32),\n",
        "  'data': array([ 0.,  0.], dtype=float32),\n",
        "  'instance': 'AS_G5690E04_R1750_STIP_TIP',\n",
        "  'magnitude': 0.0},\n",
        " {'coordinate': array([ 0.        , -0.01060477,  0.        ], dtype=float32),\n",
        "  'data': array([ 0.,  0.], dtype=float32),\n",
        "  'instance': 'AS_G5690E04_R1750_STIP_TIP',\n",
        "  'magnitude': 0.0},\n",
        " {'coordinate': array([ 0.00025   , -0.01060477,  0.        ], dtype=float32),\n",
        "  'data': array([ 0.,  0.], dtype=float32),\n",
        "  'instance': 'AS_G5690E04_R1750_STIP_TIP',\n",
        "  'magnitude': 0.0},\n",
        " {'coordinate': array([ 0.0005    , -0.01060477,  0.        ], dtype=float32),\n",
        "  'data': array([ 0.,  0.], dtype=float32),\n",
        "  'instance': 'AS_G5690E04_R1750_STIP_TIP',\n",
        "  'magnitude': 0.0},\n",
        " {'coordinate': array([ 0.00075   , -0.01060477,  0.        ], dtype=float32),\n",
        "  'data': array([ 0.,  0.], dtype=float32),\n",
        "  'instance': 'AS_G5690E04_R1750_STIP_TIP',\n",
        "  'magnitude': 0.0},\n",
        " {'coordinate': array([ 0.001     , -0.01060477,  0.        ], dtype=float32),\n",
        "  'data': array([ 0.,  0.], dtype=float32),\n",
        "  'instance': 'AS_G5690E04_R1750_STIP_TIP',\n",
        "  'magnitude': 0.0},\n",
        " ...]"
       ]
      }
     ],
     "prompt_number": 21
    },
    {
     "cell_type": "code",
     "collapsed": false,
     "input": [
      "# Oops... there are too many of them. Why? Because this dataset contains \"CF\" for all nodes in the model. \n",
      "# We'd like to focus on the one we applied, which is on the instance 'AS_G5690E04_R1750_STIP_BASE'.\n",
      "for cf_output in kinesthetic_output[-1]['CF']:\n",
      "    if cf_output['instance'] == 'AS_G5690E04_R1750_STIP_BASE': # I know this is slow but not elegent... But it works for now :)\n",
      "        print(cf_output['magnitude'])"
     ],
     "language": "python",
     "metadata": {},
     "outputs": [
      {
       "output_type": "stream",
       "stream": "stdout",
       "text": [
        "11.0\n"
       ]
      }
     ],
     "prompt_number": 24
    },
    {
     "cell_type": "code",
     "collapsed": false,
     "input": [
      "# OK. The force we applied at the last frame is 11 N. Looks right!\n",
      "# You can also look into the X and Y component:\n",
      "print('X and Y component:', cf_output['data'])\n",
      "# And look at the point in space where the load was added\n",
      "print('Spatial load location:', cf_output['coordinate'])"
     ],
     "language": "python",
     "metadata": {},
     "outputs": [
      {
       "output_type": "stream",
       "stream": "stdout",
       "text": [
        "('X and Y component:', array([ 0.,  0.], dtype=float32))\n",
        "('Spatial load location:', array([ 0.01358694,  0.01132535,  0.        ], dtype=float32))\n"
       ]
      }
     ],
     "prompt_number": 27
    },
    {
     "cell_type": "code",
     "collapsed": false,
     "input": [
      "# Similar goes for tactile outputs\n",
      "# S = stress\n",
      "# LE = strain\n",
      "# SENER = strain energy (density), i.e., 'SED'\n",
      "\n",
      "# I only included 'minPrincipal' in the data output for stress & strain, the absolute value of which means the max. compressive quantity. \n",
      "tactile_output[-1]['S'][-1]"
     ],
     "language": "python",
     "metadata": {},
     "outputs": [
      {
       "metadata": {},
       "output_type": "pyout",
       "prompt_number": 32,
       "text": [
        "{'coordinate': array([  7.62412765e-06,   1.22951251e-02,   0.00000000e+00], dtype=float32),\n",
        " 'data': array([-110.55859375,  226.79582214, -116.22782135,   49.3575325 ], dtype=float32),\n",
        " 'instance': 'FINGER',\n",
        " 'minPrincipal': -117.63168334960938}"
       ]
      }
     ],
     "prompt_number": 32
    },
    {
     "cell_type": "code",
     "collapsed": false,
     "input": [
      "# For SED, it is a scalar so use the 'data' key rather than 'minPrincipal'\n",
      "tactile_output[-1]['SENER'][-1]"
     ],
     "language": "python",
     "metadata": {},
     "outputs": [
      {
       "metadata": {},
       "output_type": "pyout",
       "prompt_number": 34,
       "text": [
        "{'coordinate': array([  7.62412765e-06,   1.22951251e-02,   0.00000000e+00], dtype=float32),\n",
        " 'data': 9.422657012939453,\n",
        " 'instance': 'FINGER',\n",
        " 'minPrincipal': None}"
       ]
      }
     ],
     "prompt_number": 34
    },
    {
     "cell_type": "code",
     "collapsed": false,
     "input": [
      "# If you need all tensor components for the stress, let me know\n",
      "# I did not include those because they are massive amount of data and you probably wouldn't need them."
     ],
     "language": "python",
     "metadata": {},
     "outputs": []
    },
    {
     "cell_type": "code",
     "collapsed": false,
     "input": [
      "# To get a graphical feel for the data, we can plot them\n",
      "import matplotlib.pyplot as plt\n",
      "import numpy as np\n",
      "fig, axs = plt.subplots(1, 2)\n",
      "all_coordinates_original = np.array([output['coordinate'][:2] for output in kinesthetic_output[0]['U']])\n",
      "axs[0].plot(all_coordinates_original[:, 0], all_coordinates_original[:, 1], '.k')\n",
      "all_coordinates_deformed = np.array([output['coordinate'][:2] + output['data'] for output in kinesthetic_output[-1]['U']])\n",
      "axs[1].plot(all_coordinates_deformed[:, 0], all_coordinates_deformed[:, 1], '.k')\n",
      "for axes in axs:\n",
      "    axes.set_aspect('equal')\n",
      "fig.tight_layout()\n",
      "# Well... Not the best art piece ever, but we did get data!"
     ],
     "language": "python",
     "metadata": {},
     "outputs": [
      {
       "metadata": {},
       "output_type": "display_data",
       "png": "[encoded data removed]",
       "text": [
        "<matplotlib.figure.Figure at 0x8442910>"
       ]
      }
     ],
     "prompt_number": 49
    }
   ],
   "metadata": {}
  }
 ]
}