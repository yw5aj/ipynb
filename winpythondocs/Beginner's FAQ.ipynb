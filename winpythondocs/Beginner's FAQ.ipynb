{
 "cells": [
  {
   "cell_type": "markdown",
   "metadata": {},
   "source": [
    "# Experimenting your Winpython installation\n",
    "  . [Winpython_checker test](Winpython_checker.ipynb)"
   ]
  },
  {
   "cell_type": "markdown",
   "metadata": {},
   "source": [
    "# Tutorials and Demonstrations on Internet\n",
    "\n",
    "## Ipython Notebook Documentation\n",
    " \n",
    " . [IPython notebook-based online documentation](http://nbviewer.ipython.org/github/ipython/ipython/blob/master/examples/Index.ipynb)\n",
    " \n",
    " . [Galery of Interesting Notebooks](https://github.com/ipython/ipython/wiki/A-gallery-of-interesting-IPython-Notebooks)\n",
    " \n",
    " . Videos of Conferences and Trainings: [Python Various Conferences](http://pyvideo.org/), [Pydata Conferences](https://www.youtube.com/user/PyDataTV) , [Scipy Conferences](https://www.youtube.com/user/EnthoughtMedia)\n",
    " \n",
    "\n",
    "## Qt User Interface Development :\n",
    "\n",
    " . QT4.8 Official Documentation http://qt-project.org/doc/qt-4.8/tutorials.html\n",
    " \n",
    " . formlayout : doing your QT formular   https://code.google.com/p/formlayout\n",
    " \n",
    " . guidata : https://pythonhosted.org/guidata/examples.html\n",
    " \n",
    "## Graphics :\n",
    "\n",
    " . Matplotlib : [Beginner's guide](http://matplotlib.org/users/beginner.html) , [Gallery](http://matplotlib.org/gallery.html) ,  [General Content](http://matplotlib.org/contents.html) \n",
    " \n",
    " . seaborn : [Tutorial](http://stanford.edu/~mwaskom/software/seaborn/tutorial.html) , [Gallery](http://stanford.edu/~mwaskom/software/seaborn/examples/index.html)\n",
    " \n",
    " . scikit-image : [Gallery](http://scikit-image.org/docs/dev/auto_examples/), [User Guide](http://scikit-image.org/docs/dev/user_guide.html)\n",
    "  \n",
    " . holoviews : [Introduction](http://ioam.github.io/holoviews) , [Tutorials](http://ioam.github.io/holoviews/Tutorials/index.html)\n",
    "  \n",
    " . mpld3 :   [Gallery](http://mpld3.github.io/examples/index.html#example-gallery) \n",
    "\n",
    " \n",
    "## SQL\n",
    "  . IPython-SQL : [Tutorial](http://nbviewer.ipython.org/gist/catherinedevlin/6588378)\n",
    "  \n",
    "  . db.py : [Tutorial](http://nbviewer.ipython.org/github/yhat/db.py/blob/master/examples/db-example.ipynb)\n",
    "  \n",
    "  . baresql : [Tutorial](https://pypi.python.org/pypi/baresql)\n",
    "\n",
    "## Machine learning / Deep Learning\n",
    " . scikit-learn : [Tutorial](http://scikit-learn.org/stable/tutorial/index.html) , [Gallery](http://scikit-learn.org/stable/auto_examples/index.html)\n",
    " \n",
    " . Theano: [Tutorial](http://deeplearning.net/software/theano/tutorial/), [Related Projects](https://github.com/Theano/Theano/wiki/Related-projects)\n",
    " \n",
    " . Keras: [Presentation] (http://keras.io/)\n",
    "\n",
    " \n",
    "## Winpython\n",
    "\n",
    ". [Winpython Discussion Group](https://groups.google.com/forum/#!forum/winpython)\n",
    "  \n",
    ". [Other Winpython examples](http://nbviewer.ipython.org/github/winpython/winpython_afterdoc/tree/master/)\n"
   ]
  },
  {
   "cell_type": "code",
   "execution_count": null,
   "metadata": {
    "collapsed": false
   },
   "outputs": [],
   "source": []
  }
 ],
 "metadata": {
  "kernelspec": {
   "display_name": "Python 3",
   "language": "python",
   "name": "python3"
  },
  "language_info": {
   "codemirror_mode": {
    "name": "ipython",
    "version": 3
   },
   "file_extension": ".py",
   "mimetype": "text/x-python",
   "name": "python",
   "nbconvert_exporter": "python",
   "pygments_lexer": "ipython3",
   "version": "3.4.3"
  }
 },
 "nbformat": 4,
 "nbformat_minor": 0
}
