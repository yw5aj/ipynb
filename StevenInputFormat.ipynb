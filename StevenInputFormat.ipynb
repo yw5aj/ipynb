{
 "metadata": {
  "name": "",
  "signature": "sha256:937a894dee920703b75cd22c058c1b59b969c9991bf63d9c27b0badfd29c43d1"
 },
 "nbformat": 3,
 "nbformat_minor": 0,
 "worksheets": [
  {
   "cells": [
    {
     "cell_type": "code",
     "collapsed": false,
     "input": [
      "# I tried to come up with an easier format of input, and am currently using this.\n",
      "# The first variable in the tuple is the modulus, and the second is the radius.\n",
      "# The number denotes the date\n",
      "inputDict0306 = {\n",
      "    'cylinder': (\n",
      "        (28.2e3, 17.5e-3),\n",
      "        (56.9e3, 17.5e-3),\n",
      "        (28.2e3, 2e-3),\n",
      "        (56.9e3, 2e-3),\n",
      "        (5e3, 17.5e-3),\n",
      "        (100e3, 17.5e-3)),\n",
      "    'sphere': (\n",
      "        (28.2e3, 5e-3),\n",
      "        (56.9e3, 5e-3),\n",
      "        (28.2e3, 10e-3),\n",
      "        (56.9e3, 10e-3))}\n",
      "inputDict0308 = {\n",
      "    'cylinder': (\n",
      "        (10e3, 17.5e-3),\n",
      "        (15e3, 17.5e-3),\n",
      "        (20e3, 17.5e-3),\n",
      "        (200e3, 17.5e-3),\n",
      "        (1e8, 17.5e-3),\n",
      "        (100e3, 10e-3),\n",
      "        (200e3, 10e-3),\n",
      "        (1e8, 10e-3)),\n",
      "    'sphere': (\n",
      "        (100e3, 2e-3),\n",
      "        (200e3, 2e-3),\n",
      "        (1e8, 2e-3),\n",
      "        (100e3, 5e-3),\n",
      "        (200e3, 5e-3),\n",
      "        (1e8, 5e-3))}"
     ],
     "language": "python",
     "metadata": {},
     "outputs": [],
     "prompt_number": 1
    }
   ],
   "metadata": {}
  }
 ]
}